{
 "cells": [
  {
   "cell_type": "code",
   "execution_count": 163,
   "metadata": {},
   "outputs": [],
   "source": [
    "import pandas as pd\n",
    "import numpy as np\n",
    "import seaborn as sns\n",
    "import matplotlib.pyplot as plt\n",
    "\n",
    "from sklearn.model_selection import train_test_split\n",
    "from sklearn.tree import DecisionTreeClassifier\n",
    "from sklearn.metrics import accuracy_score,classification_report\n",
    "\n",
    "#optimize\n",
    "\n",
    "from sklearn.decomposition import PCA\n",
    "from sklearn.pipeline import Pipeline\n",
    "from sklearn.model_selection import GridSearchCV\n",
    "from sklearn.preprocessing import StandardScaler\n",
    "\n",
    "from imblearn.over_sampling import SMOTE\n",
    "from collections import Counter\n",
    "\n",
    "from sklearn.ensemble import BaggingClassifier\n",
    "\n",
    "from sklearn.ensemble import RandomForestClassifier\n",
    "\n"
   ]
  },
  {
   "cell_type": "code",
   "execution_count": null,
   "metadata": {},
   "outputs": [],
   "source": [
    "# decision trees"
   ]
  },
  {
   "cell_type": "code",
   "execution_count": 2,
   "metadata": {},
   "outputs": [],
   "source": [
    "df=pd.read_csv(\"Attrition.csv\")"
   ]
  },
  {
   "cell_type": "code",
   "execution_count": 3,
   "metadata": {},
   "outputs": [
    {
     "data": {
      "text/html": [
       "<div>\n",
       "<style scoped>\n",
       "    .dataframe tbody tr th:only-of-type {\n",
       "        vertical-align: middle;\n",
       "    }\n",
       "\n",
       "    .dataframe tbody tr th {\n",
       "        vertical-align: top;\n",
       "    }\n",
       "\n",
       "    .dataframe thead th {\n",
       "        text-align: right;\n",
       "    }\n",
       "</style>\n",
       "<table border=\"1\" class=\"dataframe\">\n",
       "  <thead>\n",
       "    <tr style=\"text-align: right;\">\n",
       "      <th></th>\n",
       "      <th>Age</th>\n",
       "      <th>Attrition</th>\n",
       "      <th>BusinessTravel</th>\n",
       "      <th>DailyRate</th>\n",
       "      <th>Department</th>\n",
       "      <th>DistanceFromHome</th>\n",
       "      <th>Education</th>\n",
       "      <th>EducationField</th>\n",
       "      <th>EmployeeCount</th>\n",
       "      <th>EmployeeNumber</th>\n",
       "      <th>...</th>\n",
       "      <th>RelationshipSatisfaction</th>\n",
       "      <th>StandardHours</th>\n",
       "      <th>StockOptionLevel</th>\n",
       "      <th>TotalWorkingYears</th>\n",
       "      <th>TrainingTimesLastYear</th>\n",
       "      <th>WorkLifeBalance</th>\n",
       "      <th>YearsAtCompany</th>\n",
       "      <th>YearsInCurrentRole</th>\n",
       "      <th>YearsSinceLastPromotion</th>\n",
       "      <th>YearsWithCurrManager</th>\n",
       "    </tr>\n",
       "  </thead>\n",
       "  <tbody>\n",
       "    <tr>\n",
       "      <th>0</th>\n",
       "      <td>41</td>\n",
       "      <td>Yes</td>\n",
       "      <td>Travel_Rarely</td>\n",
       "      <td>1102</td>\n",
       "      <td>Sales</td>\n",
       "      <td>1</td>\n",
       "      <td>2</td>\n",
       "      <td>Life Sciences</td>\n",
       "      <td>1</td>\n",
       "      <td>1</td>\n",
       "      <td>...</td>\n",
       "      <td>1</td>\n",
       "      <td>80</td>\n",
       "      <td>0</td>\n",
       "      <td>8</td>\n",
       "      <td>0</td>\n",
       "      <td>1</td>\n",
       "      <td>6</td>\n",
       "      <td>4</td>\n",
       "      <td>0</td>\n",
       "      <td>5</td>\n",
       "    </tr>\n",
       "    <tr>\n",
       "      <th>1</th>\n",
       "      <td>49</td>\n",
       "      <td>No</td>\n",
       "      <td>Travel_Frequently</td>\n",
       "      <td>279</td>\n",
       "      <td>Research &amp; Development</td>\n",
       "      <td>8</td>\n",
       "      <td>1</td>\n",
       "      <td>Life Sciences</td>\n",
       "      <td>1</td>\n",
       "      <td>2</td>\n",
       "      <td>...</td>\n",
       "      <td>4</td>\n",
       "      <td>80</td>\n",
       "      <td>1</td>\n",
       "      <td>10</td>\n",
       "      <td>3</td>\n",
       "      <td>3</td>\n",
       "      <td>10</td>\n",
       "      <td>7</td>\n",
       "      <td>1</td>\n",
       "      <td>7</td>\n",
       "    </tr>\n",
       "    <tr>\n",
       "      <th>2</th>\n",
       "      <td>37</td>\n",
       "      <td>Yes</td>\n",
       "      <td>Travel_Rarely</td>\n",
       "      <td>1373</td>\n",
       "      <td>Research &amp; Development</td>\n",
       "      <td>2</td>\n",
       "      <td>2</td>\n",
       "      <td>Other</td>\n",
       "      <td>1</td>\n",
       "      <td>4</td>\n",
       "      <td>...</td>\n",
       "      <td>2</td>\n",
       "      <td>80</td>\n",
       "      <td>0</td>\n",
       "      <td>7</td>\n",
       "      <td>3</td>\n",
       "      <td>3</td>\n",
       "      <td>0</td>\n",
       "      <td>0</td>\n",
       "      <td>0</td>\n",
       "      <td>0</td>\n",
       "    </tr>\n",
       "    <tr>\n",
       "      <th>3</th>\n",
       "      <td>33</td>\n",
       "      <td>No</td>\n",
       "      <td>Travel_Frequently</td>\n",
       "      <td>1392</td>\n",
       "      <td>Research &amp; Development</td>\n",
       "      <td>3</td>\n",
       "      <td>4</td>\n",
       "      <td>Life Sciences</td>\n",
       "      <td>1</td>\n",
       "      <td>5</td>\n",
       "      <td>...</td>\n",
       "      <td>3</td>\n",
       "      <td>80</td>\n",
       "      <td>0</td>\n",
       "      <td>8</td>\n",
       "      <td>3</td>\n",
       "      <td>3</td>\n",
       "      <td>8</td>\n",
       "      <td>7</td>\n",
       "      <td>3</td>\n",
       "      <td>0</td>\n",
       "    </tr>\n",
       "    <tr>\n",
       "      <th>4</th>\n",
       "      <td>27</td>\n",
       "      <td>No</td>\n",
       "      <td>Travel_Rarely</td>\n",
       "      <td>591</td>\n",
       "      <td>Research &amp; Development</td>\n",
       "      <td>2</td>\n",
       "      <td>1</td>\n",
       "      <td>Medical</td>\n",
       "      <td>1</td>\n",
       "      <td>7</td>\n",
       "      <td>...</td>\n",
       "      <td>4</td>\n",
       "      <td>80</td>\n",
       "      <td>1</td>\n",
       "      <td>6</td>\n",
       "      <td>3</td>\n",
       "      <td>3</td>\n",
       "      <td>2</td>\n",
       "      <td>2</td>\n",
       "      <td>2</td>\n",
       "      <td>2</td>\n",
       "    </tr>\n",
       "  </tbody>\n",
       "</table>\n",
       "<p>5 rows × 35 columns</p>\n",
       "</div>"
      ],
      "text/plain": [
       "   Age Attrition     BusinessTravel  DailyRate              Department  \\\n",
       "0   41       Yes      Travel_Rarely       1102                   Sales   \n",
       "1   49        No  Travel_Frequently        279  Research & Development   \n",
       "2   37       Yes      Travel_Rarely       1373  Research & Development   \n",
       "3   33        No  Travel_Frequently       1392  Research & Development   \n",
       "4   27        No      Travel_Rarely        591  Research & Development   \n",
       "\n",
       "   DistanceFromHome  Education EducationField  EmployeeCount  EmployeeNumber  \\\n",
       "0                 1          2  Life Sciences              1               1   \n",
       "1                 8          1  Life Sciences              1               2   \n",
       "2                 2          2          Other              1               4   \n",
       "3                 3          4  Life Sciences              1               5   \n",
       "4                 2          1        Medical              1               7   \n",
       "\n",
       "   ...  RelationshipSatisfaction StandardHours  StockOptionLevel  \\\n",
       "0  ...                         1            80                 0   \n",
       "1  ...                         4            80                 1   \n",
       "2  ...                         2            80                 0   \n",
       "3  ...                         3            80                 0   \n",
       "4  ...                         4            80                 1   \n",
       "\n",
       "   TotalWorkingYears  TrainingTimesLastYear WorkLifeBalance  YearsAtCompany  \\\n",
       "0                  8                      0               1               6   \n",
       "1                 10                      3               3              10   \n",
       "2                  7                      3               3               0   \n",
       "3                  8                      3               3               8   \n",
       "4                  6                      3               3               2   \n",
       "\n",
       "  YearsInCurrentRole  YearsSinceLastPromotion  YearsWithCurrManager  \n",
       "0                  4                        0                     5  \n",
       "1                  7                        1                     7  \n",
       "2                  0                        0                     0  \n",
       "3                  7                        3                     0  \n",
       "4                  2                        2                     2  \n",
       "\n",
       "[5 rows x 35 columns]"
      ]
     },
     "execution_count": 3,
     "metadata": {},
     "output_type": "execute_result"
    }
   ],
   "source": [
    "df.head()"
   ]
  },
  {
   "cell_type": "code",
   "execution_count": 4,
   "metadata": {},
   "outputs": [
    {
     "data": {
      "text/plain": [
       "Index(['Age', 'Attrition', 'BusinessTravel', 'DailyRate', 'Department',\n",
       "       'DistanceFromHome', 'Education', 'EducationField', 'EmployeeCount',\n",
       "       'EmployeeNumber', 'EnvironmentSatisfaction', 'Gender', 'HourlyRate',\n",
       "       'JobInvolvement', 'JobLevel', 'JobRole', 'JobSatisfaction',\n",
       "       'MaritalStatus', 'MonthlyIncome', 'MonthlyRate', 'NumCompaniesWorked',\n",
       "       'Over18', 'OverTime', 'PercentSalaryHike', 'PerformanceRating',\n",
       "       'RelationshipSatisfaction', 'StandardHours', 'StockOptionLevel',\n",
       "       'TotalWorkingYears', 'TrainingTimesLastYear', 'WorkLifeBalance',\n",
       "       'YearsAtCompany', 'YearsInCurrentRole', 'YearsSinceLastPromotion',\n",
       "       'YearsWithCurrManager'],\n",
       "      dtype='object')"
      ]
     },
     "execution_count": 4,
     "metadata": {},
     "output_type": "execute_result"
    }
   ],
   "source": [
    "df.columns"
   ]
  },
  {
   "cell_type": "code",
   "execution_count": 5,
   "metadata": {},
   "outputs": [
    {
     "data": {
      "text/plain": [
       "(1470, 35)"
      ]
     },
     "execution_count": 5,
     "metadata": {},
     "output_type": "execute_result"
    }
   ],
   "source": [
    "df.shape"
   ]
  },
  {
   "cell_type": "code",
   "execution_count": 10,
   "metadata": {},
   "outputs": [
    {
     "name": "stdout",
     "output_type": "stream",
     "text": [
      "<class 'pandas.core.frame.DataFrame'>\n",
      "RangeIndex: 1470 entries, 0 to 1469\n",
      "Data columns (total 35 columns):\n",
      " #   Column                    Non-Null Count  Dtype \n",
      "---  ------                    --------------  ----- \n",
      " 0   Age                       1470 non-null   int64 \n",
      " 1   Attrition                 1470 non-null   int64 \n",
      " 2   BusinessTravel            1470 non-null   object\n",
      " 3   DailyRate                 1470 non-null   int64 \n",
      " 4   Department                1470 non-null   object\n",
      " 5   DistanceFromHome          1470 non-null   int64 \n",
      " 6   Education                 1470 non-null   int64 \n",
      " 7   EducationField            1470 non-null   object\n",
      " 8   EmployeeCount             1470 non-null   int64 \n",
      " 9   EmployeeNumber            1470 non-null   int64 \n",
      " 10  EnvironmentSatisfaction   1470 non-null   int64 \n",
      " 11  Gender                    1470 non-null   object\n",
      " 12  HourlyRate                1470 non-null   int64 \n",
      " 13  JobInvolvement            1470 non-null   int64 \n",
      " 14  JobLevel                  1470 non-null   int64 \n",
      " 15  JobRole                   1470 non-null   object\n",
      " 16  JobSatisfaction           1470 non-null   int64 \n",
      " 17  MaritalStatus             1470 non-null   object\n",
      " 18  MonthlyIncome             1470 non-null   int64 \n",
      " 19  MonthlyRate               1470 non-null   int64 \n",
      " 20  NumCompaniesWorked        1470 non-null   int64 \n",
      " 21  Over18                    1470 non-null   object\n",
      " 22  OverTime                  1470 non-null   object\n",
      " 23  PercentSalaryHike         1470 non-null   int64 \n",
      " 24  PerformanceRating         1470 non-null   int64 \n",
      " 25  RelationshipSatisfaction  1470 non-null   int64 \n",
      " 26  StandardHours             1470 non-null   int64 \n",
      " 27  StockOptionLevel          1470 non-null   int64 \n",
      " 28  TotalWorkingYears         1470 non-null   int64 \n",
      " 29  TrainingTimesLastYear     1470 non-null   int64 \n",
      " 30  WorkLifeBalance           1470 non-null   int64 \n",
      " 31  YearsAtCompany            1470 non-null   int64 \n",
      " 32  YearsInCurrentRole        1470 non-null   int64 \n",
      " 33  YearsSinceLastPromotion   1470 non-null   int64 \n",
      " 34  YearsWithCurrManager      1470 non-null   int64 \n",
      "dtypes: int64(27), object(8)\n",
      "memory usage: 402.1+ KB\n"
     ]
    }
   ],
   "source": [
    "df.info()"
   ]
  },
  {
   "cell_type": "code",
   "execution_count": 8,
   "metadata": {},
   "outputs": [],
   "source": [
    "df[\"Attrition\"]=df[\"Attrition\"].apply(lambda x: 1 if x==\"Yes\" else 0)"
   ]
  },
  {
   "cell_type": "code",
   "execution_count": 9,
   "metadata": {},
   "outputs": [
    {
     "data": {
      "text/html": [
       "<div>\n",
       "<style scoped>\n",
       "    .dataframe tbody tr th:only-of-type {\n",
       "        vertical-align: middle;\n",
       "    }\n",
       "\n",
       "    .dataframe tbody tr th {\n",
       "        vertical-align: top;\n",
       "    }\n",
       "\n",
       "    .dataframe thead th {\n",
       "        text-align: right;\n",
       "    }\n",
       "</style>\n",
       "<table border=\"1\" class=\"dataframe\">\n",
       "  <thead>\n",
       "    <tr style=\"text-align: right;\">\n",
       "      <th></th>\n",
       "      <th>Age</th>\n",
       "      <th>Attrition</th>\n",
       "      <th>BusinessTravel</th>\n",
       "      <th>DailyRate</th>\n",
       "      <th>Department</th>\n",
       "      <th>DistanceFromHome</th>\n",
       "      <th>Education</th>\n",
       "      <th>EducationField</th>\n",
       "      <th>EmployeeCount</th>\n",
       "      <th>EmployeeNumber</th>\n",
       "      <th>...</th>\n",
       "      <th>RelationshipSatisfaction</th>\n",
       "      <th>StandardHours</th>\n",
       "      <th>StockOptionLevel</th>\n",
       "      <th>TotalWorkingYears</th>\n",
       "      <th>TrainingTimesLastYear</th>\n",
       "      <th>WorkLifeBalance</th>\n",
       "      <th>YearsAtCompany</th>\n",
       "      <th>YearsInCurrentRole</th>\n",
       "      <th>YearsSinceLastPromotion</th>\n",
       "      <th>YearsWithCurrManager</th>\n",
       "    </tr>\n",
       "  </thead>\n",
       "  <tbody>\n",
       "    <tr>\n",
       "      <th>0</th>\n",
       "      <td>41</td>\n",
       "      <td>1</td>\n",
       "      <td>Travel_Rarely</td>\n",
       "      <td>1102</td>\n",
       "      <td>Sales</td>\n",
       "      <td>1</td>\n",
       "      <td>2</td>\n",
       "      <td>Life Sciences</td>\n",
       "      <td>1</td>\n",
       "      <td>1</td>\n",
       "      <td>...</td>\n",
       "      <td>1</td>\n",
       "      <td>80</td>\n",
       "      <td>0</td>\n",
       "      <td>8</td>\n",
       "      <td>0</td>\n",
       "      <td>1</td>\n",
       "      <td>6</td>\n",
       "      <td>4</td>\n",
       "      <td>0</td>\n",
       "      <td>5</td>\n",
       "    </tr>\n",
       "    <tr>\n",
       "      <th>1</th>\n",
       "      <td>49</td>\n",
       "      <td>0</td>\n",
       "      <td>Travel_Frequently</td>\n",
       "      <td>279</td>\n",
       "      <td>Research &amp; Development</td>\n",
       "      <td>8</td>\n",
       "      <td>1</td>\n",
       "      <td>Life Sciences</td>\n",
       "      <td>1</td>\n",
       "      <td>2</td>\n",
       "      <td>...</td>\n",
       "      <td>4</td>\n",
       "      <td>80</td>\n",
       "      <td>1</td>\n",
       "      <td>10</td>\n",
       "      <td>3</td>\n",
       "      <td>3</td>\n",
       "      <td>10</td>\n",
       "      <td>7</td>\n",
       "      <td>1</td>\n",
       "      <td>7</td>\n",
       "    </tr>\n",
       "    <tr>\n",
       "      <th>2</th>\n",
       "      <td>37</td>\n",
       "      <td>1</td>\n",
       "      <td>Travel_Rarely</td>\n",
       "      <td>1373</td>\n",
       "      <td>Research &amp; Development</td>\n",
       "      <td>2</td>\n",
       "      <td>2</td>\n",
       "      <td>Other</td>\n",
       "      <td>1</td>\n",
       "      <td>4</td>\n",
       "      <td>...</td>\n",
       "      <td>2</td>\n",
       "      <td>80</td>\n",
       "      <td>0</td>\n",
       "      <td>7</td>\n",
       "      <td>3</td>\n",
       "      <td>3</td>\n",
       "      <td>0</td>\n",
       "      <td>0</td>\n",
       "      <td>0</td>\n",
       "      <td>0</td>\n",
       "    </tr>\n",
       "    <tr>\n",
       "      <th>3</th>\n",
       "      <td>33</td>\n",
       "      <td>0</td>\n",
       "      <td>Travel_Frequently</td>\n",
       "      <td>1392</td>\n",
       "      <td>Research &amp; Development</td>\n",
       "      <td>3</td>\n",
       "      <td>4</td>\n",
       "      <td>Life Sciences</td>\n",
       "      <td>1</td>\n",
       "      <td>5</td>\n",
       "      <td>...</td>\n",
       "      <td>3</td>\n",
       "      <td>80</td>\n",
       "      <td>0</td>\n",
       "      <td>8</td>\n",
       "      <td>3</td>\n",
       "      <td>3</td>\n",
       "      <td>8</td>\n",
       "      <td>7</td>\n",
       "      <td>3</td>\n",
       "      <td>0</td>\n",
       "    </tr>\n",
       "    <tr>\n",
       "      <th>4</th>\n",
       "      <td>27</td>\n",
       "      <td>0</td>\n",
       "      <td>Travel_Rarely</td>\n",
       "      <td>591</td>\n",
       "      <td>Research &amp; Development</td>\n",
       "      <td>2</td>\n",
       "      <td>1</td>\n",
       "      <td>Medical</td>\n",
       "      <td>1</td>\n",
       "      <td>7</td>\n",
       "      <td>...</td>\n",
       "      <td>4</td>\n",
       "      <td>80</td>\n",
       "      <td>1</td>\n",
       "      <td>6</td>\n",
       "      <td>3</td>\n",
       "      <td>3</td>\n",
       "      <td>2</td>\n",
       "      <td>2</td>\n",
       "      <td>2</td>\n",
       "      <td>2</td>\n",
       "    </tr>\n",
       "  </tbody>\n",
       "</table>\n",
       "<p>5 rows × 35 columns</p>\n",
       "</div>"
      ],
      "text/plain": [
       "   Age  Attrition     BusinessTravel  DailyRate              Department  \\\n",
       "0   41          1      Travel_Rarely       1102                   Sales   \n",
       "1   49          0  Travel_Frequently        279  Research & Development   \n",
       "2   37          1      Travel_Rarely       1373  Research & Development   \n",
       "3   33          0  Travel_Frequently       1392  Research & Development   \n",
       "4   27          0      Travel_Rarely        591  Research & Development   \n",
       "\n",
       "   DistanceFromHome  Education EducationField  EmployeeCount  EmployeeNumber  \\\n",
       "0                 1          2  Life Sciences              1               1   \n",
       "1                 8          1  Life Sciences              1               2   \n",
       "2                 2          2          Other              1               4   \n",
       "3                 3          4  Life Sciences              1               5   \n",
       "4                 2          1        Medical              1               7   \n",
       "\n",
       "   ...  RelationshipSatisfaction StandardHours  StockOptionLevel  \\\n",
       "0  ...                         1            80                 0   \n",
       "1  ...                         4            80                 1   \n",
       "2  ...                         2            80                 0   \n",
       "3  ...                         3            80                 0   \n",
       "4  ...                         4            80                 1   \n",
       "\n",
       "   TotalWorkingYears  TrainingTimesLastYear WorkLifeBalance  YearsAtCompany  \\\n",
       "0                  8                      0               1               6   \n",
       "1                 10                      3               3              10   \n",
       "2                  7                      3               3               0   \n",
       "3                  8                      3               3               8   \n",
       "4                  6                      3               3               2   \n",
       "\n",
       "  YearsInCurrentRole  YearsSinceLastPromotion  YearsWithCurrManager  \n",
       "0                  4                        0                     5  \n",
       "1                  7                        1                     7  \n",
       "2                  0                        0                     0  \n",
       "3                  7                        3                     0  \n",
       "4                  2                        2                     2  \n",
       "\n",
       "[5 rows x 35 columns]"
      ]
     },
     "execution_count": 9,
     "metadata": {},
     "output_type": "execute_result"
    }
   ],
   "source": [
    "df.head()"
   ]
  },
  {
   "cell_type": "code",
   "execution_count": 11,
   "metadata": {},
   "outputs": [
    {
     "data": {
      "text/plain": [
       "Travel_Rarely        1043\n",
       "Travel_Frequently     277\n",
       "Non-Travel            150\n",
       "Name: BusinessTravel, dtype: int64"
      ]
     },
     "execution_count": 11,
     "metadata": {},
     "output_type": "execute_result"
    }
   ],
   "source": [
    "df[\"BusinessTravel\"].value_counts()"
   ]
  },
  {
   "cell_type": "code",
   "execution_count": 13,
   "metadata": {},
   "outputs": [
    {
     "data": {
      "text/plain": [
       "Research & Development    961\n",
       "Sales                     446\n",
       "Human Resources            63\n",
       "Name: Department, dtype: int64"
      ]
     },
     "execution_count": 13,
     "metadata": {},
     "output_type": "execute_result"
    }
   ],
   "source": [
    "df[\"Department\"].value_counts()"
   ]
  },
  {
   "cell_type": "code",
   "execution_count": 14,
   "metadata": {},
   "outputs": [
    {
     "data": {
      "text/plain": [
       "0    1233\n",
       "1     237\n",
       "Name: Attrition, dtype: int64"
      ]
     },
     "execution_count": 14,
     "metadata": {},
     "output_type": "execute_result"
    }
   ],
   "source": [
    "df[\"Attrition\"].value_counts() #very imbalanced"
   ]
  },
  {
   "cell_type": "code",
   "execution_count": 16,
   "metadata": {},
   "outputs": [
    {
     "data": {
      "text/plain": [
       "Life Sciences       606\n",
       "Medical             464\n",
       "Marketing           159\n",
       "Technical Degree    132\n",
       "Other                82\n",
       "Human Resources      27\n",
       "Name: EducationField, dtype: int64"
      ]
     },
     "execution_count": 16,
     "metadata": {},
     "output_type": "execute_result"
    }
   ],
   "source": [
    "df[\"EducationField\"].value_counts()"
   ]
  },
  {
   "cell_type": "code",
   "execution_count": 27,
   "metadata": {},
   "outputs": [],
   "source": [
    "dum_bt=pd.get_dummies(df[\"BusinessTravel\"],prefix=\"BusinessT_\")"
   ]
  },
  {
   "cell_type": "code",
   "execution_count": 29,
   "metadata": {},
   "outputs": [],
   "source": [
    "dummy_dept = pd.get_dummies(df['Department'], prefix='dept')\n",
    "dummy_edufield = pd.get_dummies(df['EducationField'],prefix='edufield')\n",
    "dummy_gender = pd.get_dummies(df['Gender'], prefix='gend')\n",
    "dummy_jobrole = pd.get_dummies(df['JobRole'],prefix='jobrole')\n",
    "dummy_maritstat = pd.get_dummies(df['MaritalStatus'],prefix='maritalstat')\n",
    "dummy_overtime = pd.get_dummies(df['OverTime'],prefix='overtime')"
   ]
  },
  {
   "cell_type": "code",
   "execution_count": 31,
   "metadata": {},
   "outputs": [],
   "source": [
    "continuous_columns = ['Age','DailyRate','DistanceFromHome',\n",
    "'Education',\n",
    "'EnvironmentSatisfaction','HourlyRate','JobInvolvement','JobLevel','JobSatisfaction', 'MonthlyIncome', 'MonthlyRate',\n",
    "'NumCompaniesWorked','PercentSalaryHike', 'PerformanceRating',\n",
    "'RelationshipSatisfaction','StockOptionLevel', 'TotalWorkingYears',\n",
    "'TrainingTimesLastYear','WorkLifeBalance', 'YearsAtCompany',\n",
    "'YearsInCurrentRole', 'YearsSinceLastPromotion','YearsWithCurrManager']"
   ]
  },
  {
   "cell_type": "code",
   "execution_count": 32,
   "metadata": {},
   "outputs": [],
   "source": [
    "df_conti= df[continuous_columns]"
   ]
  },
  {
   "cell_type": "code",
   "execution_count": 35,
   "metadata": {},
   "outputs": [],
   "source": [
    "df1=pd.concat([dum_bt,dummy_dept,dummy_edufield,dummy_gender,dummy_jobrole,dummy_maritstat,dummy_overtime,df_conti,df[\"Attrition\"]],axis=1)"
   ]
  },
  {
   "cell_type": "code",
   "execution_count": 37,
   "metadata": {},
   "outputs": [
    {
     "data": {
      "text/html": [
       "<div>\n",
       "<style scoped>\n",
       "    .dataframe tbody tr th:only-of-type {\n",
       "        vertical-align: middle;\n",
       "    }\n",
       "\n",
       "    .dataframe tbody tr th {\n",
       "        vertical-align: top;\n",
       "    }\n",
       "\n",
       "    .dataframe thead th {\n",
       "        text-align: right;\n",
       "    }\n",
       "</style>\n",
       "<table border=\"1\" class=\"dataframe\">\n",
       "  <thead>\n",
       "    <tr style=\"text-align: right;\">\n",
       "      <th></th>\n",
       "      <th>BusinessT__Non-Travel</th>\n",
       "      <th>BusinessT__Travel_Frequently</th>\n",
       "      <th>BusinessT__Travel_Rarely</th>\n",
       "      <th>dept_Human Resources</th>\n",
       "      <th>dept_Research &amp; Development</th>\n",
       "      <th>dept_Sales</th>\n",
       "      <th>edufield_Human Resources</th>\n",
       "      <th>edufield_Life Sciences</th>\n",
       "      <th>edufield_Marketing</th>\n",
       "      <th>edufield_Medical</th>\n",
       "      <th>...</th>\n",
       "      <th>RelationshipSatisfaction</th>\n",
       "      <th>StockOptionLevel</th>\n",
       "      <th>TotalWorkingYears</th>\n",
       "      <th>TrainingTimesLastYear</th>\n",
       "      <th>WorkLifeBalance</th>\n",
       "      <th>YearsAtCompany</th>\n",
       "      <th>YearsInCurrentRole</th>\n",
       "      <th>YearsSinceLastPromotion</th>\n",
       "      <th>YearsWithCurrManager</th>\n",
       "      <th>Attrition</th>\n",
       "    </tr>\n",
       "  </thead>\n",
       "  <tbody>\n",
       "    <tr>\n",
       "      <th>0</th>\n",
       "      <td>0</td>\n",
       "      <td>0</td>\n",
       "      <td>1</td>\n",
       "      <td>0</td>\n",
       "      <td>0</td>\n",
       "      <td>1</td>\n",
       "      <td>0</td>\n",
       "      <td>1</td>\n",
       "      <td>0</td>\n",
       "      <td>0</td>\n",
       "      <td>...</td>\n",
       "      <td>1</td>\n",
       "      <td>0</td>\n",
       "      <td>8</td>\n",
       "      <td>0</td>\n",
       "      <td>1</td>\n",
       "      <td>6</td>\n",
       "      <td>4</td>\n",
       "      <td>0</td>\n",
       "      <td>5</td>\n",
       "      <td>1</td>\n",
       "    </tr>\n",
       "    <tr>\n",
       "      <th>1</th>\n",
       "      <td>0</td>\n",
       "      <td>1</td>\n",
       "      <td>0</td>\n",
       "      <td>0</td>\n",
       "      <td>1</td>\n",
       "      <td>0</td>\n",
       "      <td>0</td>\n",
       "      <td>1</td>\n",
       "      <td>0</td>\n",
       "      <td>0</td>\n",
       "      <td>...</td>\n",
       "      <td>4</td>\n",
       "      <td>1</td>\n",
       "      <td>10</td>\n",
       "      <td>3</td>\n",
       "      <td>3</td>\n",
       "      <td>10</td>\n",
       "      <td>7</td>\n",
       "      <td>1</td>\n",
       "      <td>7</td>\n",
       "      <td>0</td>\n",
       "    </tr>\n",
       "    <tr>\n",
       "      <th>2</th>\n",
       "      <td>0</td>\n",
       "      <td>0</td>\n",
       "      <td>1</td>\n",
       "      <td>0</td>\n",
       "      <td>1</td>\n",
       "      <td>0</td>\n",
       "      <td>0</td>\n",
       "      <td>0</td>\n",
       "      <td>0</td>\n",
       "      <td>0</td>\n",
       "      <td>...</td>\n",
       "      <td>2</td>\n",
       "      <td>0</td>\n",
       "      <td>7</td>\n",
       "      <td>3</td>\n",
       "      <td>3</td>\n",
       "      <td>0</td>\n",
       "      <td>0</td>\n",
       "      <td>0</td>\n",
       "      <td>0</td>\n",
       "      <td>1</td>\n",
       "    </tr>\n",
       "    <tr>\n",
       "      <th>3</th>\n",
       "      <td>0</td>\n",
       "      <td>1</td>\n",
       "      <td>0</td>\n",
       "      <td>0</td>\n",
       "      <td>1</td>\n",
       "      <td>0</td>\n",
       "      <td>0</td>\n",
       "      <td>1</td>\n",
       "      <td>0</td>\n",
       "      <td>0</td>\n",
       "      <td>...</td>\n",
       "      <td>3</td>\n",
       "      <td>0</td>\n",
       "      <td>8</td>\n",
       "      <td>3</td>\n",
       "      <td>3</td>\n",
       "      <td>8</td>\n",
       "      <td>7</td>\n",
       "      <td>3</td>\n",
       "      <td>0</td>\n",
       "      <td>0</td>\n",
       "    </tr>\n",
       "    <tr>\n",
       "      <th>4</th>\n",
       "      <td>0</td>\n",
       "      <td>0</td>\n",
       "      <td>1</td>\n",
       "      <td>0</td>\n",
       "      <td>1</td>\n",
       "      <td>0</td>\n",
       "      <td>0</td>\n",
       "      <td>0</td>\n",
       "      <td>0</td>\n",
       "      <td>1</td>\n",
       "      <td>...</td>\n",
       "      <td>4</td>\n",
       "      <td>1</td>\n",
       "      <td>6</td>\n",
       "      <td>3</td>\n",
       "      <td>3</td>\n",
       "      <td>2</td>\n",
       "      <td>2</td>\n",
       "      <td>2</td>\n",
       "      <td>2</td>\n",
       "      <td>0</td>\n",
       "    </tr>\n",
       "  </tbody>\n",
       "</table>\n",
       "<p>5 rows × 52 columns</p>\n",
       "</div>"
      ],
      "text/plain": [
       "   BusinessT__Non-Travel  BusinessT__Travel_Frequently  \\\n",
       "0                      0                             0   \n",
       "1                      0                             1   \n",
       "2                      0                             0   \n",
       "3                      0                             1   \n",
       "4                      0                             0   \n",
       "\n",
       "   BusinessT__Travel_Rarely  dept_Human Resources  \\\n",
       "0                         1                     0   \n",
       "1                         0                     0   \n",
       "2                         1                     0   \n",
       "3                         0                     0   \n",
       "4                         1                     0   \n",
       "\n",
       "   dept_Research & Development  dept_Sales  edufield_Human Resources  \\\n",
       "0                            0           1                         0   \n",
       "1                            1           0                         0   \n",
       "2                            1           0                         0   \n",
       "3                            1           0                         0   \n",
       "4                            1           0                         0   \n",
       "\n",
       "   edufield_Life Sciences  edufield_Marketing  edufield_Medical  ...  \\\n",
       "0                       1                   0                 0  ...   \n",
       "1                       1                   0                 0  ...   \n",
       "2                       0                   0                 0  ...   \n",
       "3                       1                   0                 0  ...   \n",
       "4                       0                   0                 1  ...   \n",
       "\n",
       "   RelationshipSatisfaction  StockOptionLevel  TotalWorkingYears  \\\n",
       "0                         1                 0                  8   \n",
       "1                         4                 1                 10   \n",
       "2                         2                 0                  7   \n",
       "3                         3                 0                  8   \n",
       "4                         4                 1                  6   \n",
       "\n",
       "   TrainingTimesLastYear  WorkLifeBalance  YearsAtCompany  YearsInCurrentRole  \\\n",
       "0                      0                1               6                   4   \n",
       "1                      3                3              10                   7   \n",
       "2                      3                3               0                   0   \n",
       "3                      3                3               8                   7   \n",
       "4                      3                3               2                   2   \n",
       "\n",
       "   YearsSinceLastPromotion  YearsWithCurrManager  Attrition  \n",
       "0                        0                     5          1  \n",
       "1                        1                     7          0  \n",
       "2                        0                     0          1  \n",
       "3                        3                     0          0  \n",
       "4                        2                     2          0  \n",
       "\n",
       "[5 rows x 52 columns]"
      ]
     },
     "execution_count": 37,
     "metadata": {},
     "output_type": "execute_result"
    }
   ],
   "source": [
    "df1.head()"
   ]
  },
  {
   "cell_type": "code",
   "execution_count": 41,
   "metadata": {},
   "outputs": [],
   "source": [
    "x_train,x_test,y_train,y_test=train_test_split(df1.drop(\"Attrition\",axis=1),df1[\"Attrition\"],train_size=0.7,random_state=42)"
   ]
  },
  {
   "cell_type": "code",
   "execution_count": 42,
   "metadata": {},
   "outputs": [
    {
     "data": {
      "text/plain": [
       "((1029, 51), (441, 51))"
      ]
     },
     "execution_count": 42,
     "metadata": {},
     "output_type": "execute_result"
    }
   ],
   "source": [
    "x_train.shape,x_test.shape"
   ]
  },
  {
   "cell_type": "code",
   "execution_count": 43,
   "metadata": {},
   "outputs": [
    {
     "data": {
      "text/plain": [
       "((1029,), (441,))"
      ]
     },
     "execution_count": 43,
     "metadata": {},
     "output_type": "execute_result"
    }
   ],
   "source": [
    "y_train.shape,y_test.shape"
   ]
  },
  {
   "cell_type": "code",
   "execution_count": 45,
   "metadata": {},
   "outputs": [],
   "source": [
    "dt_fit=DecisionTreeClassifier(criterion=\"gini\",max_depth=5,min_samples_split=2,min_samples_leaf=1,random_state=42)"
   ]
  },
  {
   "cell_type": "code",
   "execution_count": 46,
   "metadata": {},
   "outputs": [
    {
     "data": {
      "text/plain": [
       "DecisionTreeClassifier(max_depth=5, random_state=42)"
      ]
     },
     "execution_count": 46,
     "metadata": {},
     "output_type": "execute_result"
    }
   ],
   "source": [
    "dt_fit.fit(x_train,y_train)"
   ]
  },
  {
   "cell_type": "code",
   "execution_count": 51,
   "metadata": {},
   "outputs": [
    {
     "name": "stdout",
     "output_type": "stream",
     "text": [
      "Train Confusion matrix \n",
      "\n",
      " Predicted    0   1\n",
      "Actual            \n",
      "0          844   9\n",
      "1           98  78\n"
     ]
    }
   ],
   "source": [
    "print(\"Train Confusion matrix \\n\\n\",pd.crosstab(y_train,dt_fit.predict(x_train),rownames=[\"Actual\"],colnames=[\"Predicted\"]))"
   ]
  },
  {
   "cell_type": "code",
   "execution_count": 53,
   "metadata": {},
   "outputs": [
    {
     "name": "stdout",
     "output_type": "stream",
     "text": [
      "Decision tree train accuracy \n",
      "\n",
      " 0.896\n"
     ]
    }
   ],
   "source": [
    "print(\"Decision tree train accuracy \\n\\n\",round(accuracy_score(y_train,dt_fit.predict(x_train)),3))"
   ]
  },
  {
   "cell_type": "code",
   "execution_count": 55,
   "metadata": {},
   "outputs": [
    {
     "name": "stdout",
     "output_type": "stream",
     "text": [
      "Classification report \n",
      "\n",
      "               precision    recall  f1-score   support\n",
      "\n",
      "           0       0.90      0.99      0.94       853\n",
      "           1       0.90      0.44      0.59       176\n",
      "\n",
      "    accuracy                           0.90      1029\n",
      "   macro avg       0.90      0.72      0.77      1029\n",
      "weighted avg       0.90      0.90      0.88      1029\n",
      "\n"
     ]
    }
   ],
   "source": [
    "print(\"Classification report \\n\\n\",classification_report(y_train,dt_fit.predict(x_train)))"
   ]
  },
  {
   "cell_type": "code",
   "execution_count": 58,
   "metadata": {},
   "outputs": [
    {
     "name": "stdout",
     "output_type": "stream",
     "text": [
      " test confusion matrix \n",
      "\n",
      " Predicted    0   1\n",
      "Actual            \n",
      "0          361  19\n",
      "1           49  12\n"
     ]
    }
   ],
   "source": [
    "print(\" test confusion matrix \\n\\n\",pd.crosstab(y_test,dt_fit.predict(x_test),rownames=[\"Actual\"],colnames=[\"Predicted\"]))"
   ]
  },
  {
   "cell_type": "code",
   "execution_count": 62,
   "metadata": {},
   "outputs": [
    {
     "name": "stdout",
     "output_type": "stream",
     "text": [
      " test accuracy 0.846\n"
     ]
    }
   ],
   "source": [
    "print(\" test accuracy\",round(accuracy_score(y_test,dt_fit.predict(x_test)),3))"
   ]
  },
  {
   "cell_type": "code",
   "execution_count": 64,
   "metadata": {},
   "outputs": [
    {
     "name": "stdout",
     "output_type": "stream",
     "text": [
      "test classification report \n",
      "\n",
      "               precision    recall  f1-score   support\n",
      "\n",
      "           0       0.88      0.95      0.91       380\n",
      "           1       0.39      0.20      0.26        61\n",
      "\n",
      "    accuracy                           0.85       441\n",
      "   macro avg       0.63      0.57      0.59       441\n",
      "weighted avg       0.81      0.85      0.82       441\n",
      "\n"
     ]
    }
   ],
   "source": [
    "print(\"test classification report \\n\\n\",classification_report(y_test,dt_fit.predict(x_test)))"
   ]
  },
  {
   "cell_type": "code",
   "execution_count": 74,
   "metadata": {},
   "outputs": [],
   "source": [
    "f=classification_report(y_test,dt_fit.predict(x_test)).split()"
   ]
  },
  {
   "cell_type": "code",
   "execution_count": 79,
   "metadata": {},
   "outputs": [
    {
     "data": {
      "text/plain": [
       "'0.88'"
      ]
     },
     "execution_count": 79,
     "metadata": {},
     "output_type": "execute_result"
    }
   ],
   "source": [
    "f[5]"
   ]
  },
  {
   "cell_type": "markdown",
   "metadata": {},
   "source": [
    "<b>Note:</b> By carefully observing the results we observe that :- <br>\n",
    "<ul>\n",
    "    <li>even though the test accuracy is high(84.6%), the precision and recall of one category (Attrition = Yes) is low (precision = 0.39 and recall = 0.20). </li><br>\n",
    "    <li>This could be a serious issue when management tries to use this model to provide some extra benefits proactively to the employees with a high chance of attrition prior to actual attrition, as this model is unable to identify the real employees who will be leaving. </li></ul><br>\n",
    "<b>Solution</b>\n",
    "    <ul><li>Hence, we need to look for other modifications; one way is to control the model by using class weights. By utilizing class weights, we can increase the importance of a particular class at the cost of an increase in other errors.</li>\n",
    "<br>\n",
    "For example, by increasing class weight to category 1, we can identify more employees with\n",
    "the characteristics of actual attrition, but by doing so, we will mark some of the nonpotential\n",
    "churner employees as potential attriters (which should be acceptable)."
   ]
  },
  {
   "cell_type": "markdown",
   "metadata": {},
   "source": [
    "### Tuning class weights in decision tree classifier"
   ]
  },
  {
   "cell_type": "code",
   "execution_count": 65,
   "metadata": {},
   "outputs": [],
   "source": [
    "dummyarray=np.empty((6,10))"
   ]
  },
  {
   "cell_type": "code",
   "execution_count": 68,
   "metadata": {},
   "outputs": [
    {
     "data": {
      "text/plain": [
       "array([[4.94e-324, 4.94e-324, 4.94e-324, 4.94e-324, 4.94e-324, 4.94e-324,\n",
       "        1.98e-323, 9.39e-323, 1.33e-322, 1.53e-322],\n",
       "       [4.94e-324, 9.88e-324, 9.88e-324, 9.88e-324, 1.48e-323, 3.95e-322,\n",
       "        3.95e-322, 3.95e-322, 3.95e-322, 3.95e-322],\n",
       "       [0.00e+000, 0.00e+000, 0.00e+000, 0.00e+000, 0.00e+000, 3.95e-323,\n",
       "        3.46e-323, 2.96e-323, 4.94e-323, 3.95e-323],\n",
       "       [0.00e+000, 1.48e-323, 1.98e-323, 1.98e-323, 9.88e-324, 4.94e-324,\n",
       "        1.48e-323, 1.48e-323, 1.48e-323, 1.48e-323],\n",
       "       [2.96e-323, 0.00e+000, 1.98e-323, 2.47e-323, 1.98e-323, 1.98e-323,\n",
       "        0.00e+000, 9.88e-324, 1.48e-323, 9.88e-324],\n",
       "       [0.00e+000, 0.00e+000, 0.00e+000, 0.00e+000, 4.94e-324, 2.47e-323,\n",
       "        0.00e+000, 1.48e-323, 1.48e-323, 1.48e-323]])"
      ]
     },
     "execution_count": 68,
     "metadata": {},
     "output_type": "execute_result"
    }
   ],
   "source": [
    "dummyarray"
   ]
  },
  {
   "cell_type": "code",
   "execution_count": 66,
   "metadata": {},
   "outputs": [],
   "source": [
    "dt_wttune=pd.DataFrame(dummyarray)"
   ]
  },
  {
   "cell_type": "code",
   "execution_count": 67,
   "metadata": {},
   "outputs": [
    {
     "data": {
      "text/html": [
       "<div>\n",
       "<style scoped>\n",
       "    .dataframe tbody tr th:only-of-type {\n",
       "        vertical-align: middle;\n",
       "    }\n",
       "\n",
       "    .dataframe tbody tr th {\n",
       "        vertical-align: top;\n",
       "    }\n",
       "\n",
       "    .dataframe thead th {\n",
       "        text-align: right;\n",
       "    }\n",
       "</style>\n",
       "<table border=\"1\" class=\"dataframe\">\n",
       "  <thead>\n",
       "    <tr style=\"text-align: right;\">\n",
       "      <th></th>\n",
       "      <th>0</th>\n",
       "      <th>1</th>\n",
       "      <th>2</th>\n",
       "      <th>3</th>\n",
       "      <th>4</th>\n",
       "      <th>5</th>\n",
       "      <th>6</th>\n",
       "      <th>7</th>\n",
       "      <th>8</th>\n",
       "      <th>9</th>\n",
       "    </tr>\n",
       "  </thead>\n",
       "  <tbody>\n",
       "    <tr>\n",
       "      <th>0</th>\n",
       "      <td>4.940656e-324</td>\n",
       "      <td>4.940656e-324</td>\n",
       "      <td>4.940656e-324</td>\n",
       "      <td>4.940656e-324</td>\n",
       "      <td>4.940656e-324</td>\n",
       "      <td>4.940656e-324</td>\n",
       "      <td>1.976263e-323</td>\n",
       "      <td>9.387247e-323</td>\n",
       "      <td>1.333977e-322</td>\n",
       "      <td>1.531604e-322</td>\n",
       "    </tr>\n",
       "    <tr>\n",
       "      <th>1</th>\n",
       "      <td>4.940656e-324</td>\n",
       "      <td>9.881313e-324</td>\n",
       "      <td>9.881313e-324</td>\n",
       "      <td>9.881313e-324</td>\n",
       "      <td>1.482197e-323</td>\n",
       "      <td>3.952525e-322</td>\n",
       "      <td>3.952525e-322</td>\n",
       "      <td>3.952525e-322</td>\n",
       "      <td>3.952525e-322</td>\n",
       "      <td>3.952525e-322</td>\n",
       "    </tr>\n",
       "    <tr>\n",
       "      <th>2</th>\n",
       "      <td>0.000000e+00</td>\n",
       "      <td>0.000000e+00</td>\n",
       "      <td>0.000000e+00</td>\n",
       "      <td>0.000000e+00</td>\n",
       "      <td>0.000000e+00</td>\n",
       "      <td>3.952525e-323</td>\n",
       "      <td>3.458460e-323</td>\n",
       "      <td>2.964394e-323</td>\n",
       "      <td>4.940656e-323</td>\n",
       "      <td>3.952525e-323</td>\n",
       "    </tr>\n",
       "    <tr>\n",
       "      <th>3</th>\n",
       "      <td>0.000000e+00</td>\n",
       "      <td>1.482197e-323</td>\n",
       "      <td>1.976263e-323</td>\n",
       "      <td>1.976263e-323</td>\n",
       "      <td>9.881313e-324</td>\n",
       "      <td>4.940656e-324</td>\n",
       "      <td>1.482197e-323</td>\n",
       "      <td>1.482197e-323</td>\n",
       "      <td>1.482197e-323</td>\n",
       "      <td>1.482197e-323</td>\n",
       "    </tr>\n",
       "    <tr>\n",
       "      <th>4</th>\n",
       "      <td>2.964394e-323</td>\n",
       "      <td>0.000000e+00</td>\n",
       "      <td>1.976263e-323</td>\n",
       "      <td>2.470328e-323</td>\n",
       "      <td>1.976263e-323</td>\n",
       "      <td>1.976263e-323</td>\n",
       "      <td>0.000000e+00</td>\n",
       "      <td>9.881313e-324</td>\n",
       "      <td>1.482197e-323</td>\n",
       "      <td>9.881313e-324</td>\n",
       "    </tr>\n",
       "    <tr>\n",
       "      <th>5</th>\n",
       "      <td>0.000000e+00</td>\n",
       "      <td>0.000000e+00</td>\n",
       "      <td>0.000000e+00</td>\n",
       "      <td>0.000000e+00</td>\n",
       "      <td>4.940656e-324</td>\n",
       "      <td>2.470328e-323</td>\n",
       "      <td>0.000000e+00</td>\n",
       "      <td>1.482197e-323</td>\n",
       "      <td>1.482197e-323</td>\n",
       "      <td>1.482197e-323</td>\n",
       "    </tr>\n",
       "  </tbody>\n",
       "</table>\n",
       "</div>"
      ],
      "text/plain": [
       "               0              1              2              3              4  \\\n",
       "0  4.940656e-324  4.940656e-324  4.940656e-324  4.940656e-324  4.940656e-324   \n",
       "1  4.940656e-324  9.881313e-324  9.881313e-324  9.881313e-324  1.482197e-323   \n",
       "2   0.000000e+00   0.000000e+00   0.000000e+00   0.000000e+00   0.000000e+00   \n",
       "3   0.000000e+00  1.482197e-323  1.976263e-323  1.976263e-323  9.881313e-324   \n",
       "4  2.964394e-323   0.000000e+00  1.976263e-323  2.470328e-323  1.976263e-323   \n",
       "5   0.000000e+00   0.000000e+00   0.000000e+00   0.000000e+00  4.940656e-324   \n",
       "\n",
       "               5              6              7              8              9  \n",
       "0  4.940656e-324  1.976263e-323  9.387247e-323  1.333977e-322  1.531604e-322  \n",
       "1  3.952525e-322  3.952525e-322  3.952525e-322  3.952525e-322  3.952525e-322  \n",
       "2  3.952525e-323  3.458460e-323  2.964394e-323  4.940656e-323  3.952525e-323  \n",
       "3  4.940656e-324  1.482197e-323  1.482197e-323  1.482197e-323  1.482197e-323  \n",
       "4  1.976263e-323   0.000000e+00  9.881313e-324  1.482197e-323  9.881313e-324  \n",
       "5  2.470328e-323   0.000000e+00  1.482197e-323  1.482197e-323  1.482197e-323  "
      ]
     },
     "execution_count": 67,
     "metadata": {},
     "output_type": "execute_result"
    }
   ],
   "source": [
    "dt_wttune"
   ]
  },
  {
   "cell_type": "code",
   "execution_count": 69,
   "metadata": {},
   "outputs": [],
   "source": [
    "dt_wttune.columns = [\"zero_wght\",\"one_wght\",\"tr_accuracy\",\n",
    "\"tst_accuracy\", \"prec_zero\",\"prec_one\", \"prec_ovll\",\n",
    "\"recl_zero\",\"recl_one\",\"recl_ovll\"]"
   ]
  },
  {
   "cell_type": "code",
   "execution_count": 70,
   "metadata": {},
   "outputs": [
    {
     "data": {
      "text/html": [
       "<div>\n",
       "<style scoped>\n",
       "    .dataframe tbody tr th:only-of-type {\n",
       "        vertical-align: middle;\n",
       "    }\n",
       "\n",
       "    .dataframe tbody tr th {\n",
       "        vertical-align: top;\n",
       "    }\n",
       "\n",
       "    .dataframe thead th {\n",
       "        text-align: right;\n",
       "    }\n",
       "</style>\n",
       "<table border=\"1\" class=\"dataframe\">\n",
       "  <thead>\n",
       "    <tr style=\"text-align: right;\">\n",
       "      <th></th>\n",
       "      <th>zero_wght</th>\n",
       "      <th>one_wght</th>\n",
       "      <th>tr_accuracy</th>\n",
       "      <th>tst_accuracy</th>\n",
       "      <th>prec_zero</th>\n",
       "      <th>prec_one</th>\n",
       "      <th>prec_ovll</th>\n",
       "      <th>recl_zero</th>\n",
       "      <th>recl_one</th>\n",
       "      <th>recl_ovll</th>\n",
       "    </tr>\n",
       "  </thead>\n",
       "  <tbody>\n",
       "    <tr>\n",
       "      <th>0</th>\n",
       "      <td>4.940656e-324</td>\n",
       "      <td>4.940656e-324</td>\n",
       "      <td>4.940656e-324</td>\n",
       "      <td>4.940656e-324</td>\n",
       "      <td>4.940656e-324</td>\n",
       "      <td>4.940656e-324</td>\n",
       "      <td>1.976263e-323</td>\n",
       "      <td>9.387247e-323</td>\n",
       "      <td>1.333977e-322</td>\n",
       "      <td>1.531604e-322</td>\n",
       "    </tr>\n",
       "    <tr>\n",
       "      <th>1</th>\n",
       "      <td>4.940656e-324</td>\n",
       "      <td>9.881313e-324</td>\n",
       "      <td>9.881313e-324</td>\n",
       "      <td>9.881313e-324</td>\n",
       "      <td>1.482197e-323</td>\n",
       "      <td>3.952525e-322</td>\n",
       "      <td>3.952525e-322</td>\n",
       "      <td>3.952525e-322</td>\n",
       "      <td>3.952525e-322</td>\n",
       "      <td>3.952525e-322</td>\n",
       "    </tr>\n",
       "    <tr>\n",
       "      <th>2</th>\n",
       "      <td>0.000000e+00</td>\n",
       "      <td>0.000000e+00</td>\n",
       "      <td>0.000000e+00</td>\n",
       "      <td>0.000000e+00</td>\n",
       "      <td>0.000000e+00</td>\n",
       "      <td>3.952525e-323</td>\n",
       "      <td>3.458460e-323</td>\n",
       "      <td>2.964394e-323</td>\n",
       "      <td>4.940656e-323</td>\n",
       "      <td>3.952525e-323</td>\n",
       "    </tr>\n",
       "    <tr>\n",
       "      <th>3</th>\n",
       "      <td>0.000000e+00</td>\n",
       "      <td>1.482197e-323</td>\n",
       "      <td>1.976263e-323</td>\n",
       "      <td>1.976263e-323</td>\n",
       "      <td>9.881313e-324</td>\n",
       "      <td>4.940656e-324</td>\n",
       "      <td>1.482197e-323</td>\n",
       "      <td>1.482197e-323</td>\n",
       "      <td>1.482197e-323</td>\n",
       "      <td>1.482197e-323</td>\n",
       "    </tr>\n",
       "    <tr>\n",
       "      <th>4</th>\n",
       "      <td>2.964394e-323</td>\n",
       "      <td>0.000000e+00</td>\n",
       "      <td>1.976263e-323</td>\n",
       "      <td>2.470328e-323</td>\n",
       "      <td>1.976263e-323</td>\n",
       "      <td>1.976263e-323</td>\n",
       "      <td>0.000000e+00</td>\n",
       "      <td>9.881313e-324</td>\n",
       "      <td>1.482197e-323</td>\n",
       "      <td>9.881313e-324</td>\n",
       "    </tr>\n",
       "    <tr>\n",
       "      <th>5</th>\n",
       "      <td>0.000000e+00</td>\n",
       "      <td>0.000000e+00</td>\n",
       "      <td>0.000000e+00</td>\n",
       "      <td>0.000000e+00</td>\n",
       "      <td>4.940656e-324</td>\n",
       "      <td>2.470328e-323</td>\n",
       "      <td>0.000000e+00</td>\n",
       "      <td>1.482197e-323</td>\n",
       "      <td>1.482197e-323</td>\n",
       "      <td>1.482197e-323</td>\n",
       "    </tr>\n",
       "  </tbody>\n",
       "</table>\n",
       "</div>"
      ],
      "text/plain": [
       "       zero_wght       one_wght    tr_accuracy   tst_accuracy      prec_zero  \\\n",
       "0  4.940656e-324  4.940656e-324  4.940656e-324  4.940656e-324  4.940656e-324   \n",
       "1  4.940656e-324  9.881313e-324  9.881313e-324  9.881313e-324  1.482197e-323   \n",
       "2   0.000000e+00   0.000000e+00   0.000000e+00   0.000000e+00   0.000000e+00   \n",
       "3   0.000000e+00  1.482197e-323  1.976263e-323  1.976263e-323  9.881313e-324   \n",
       "4  2.964394e-323   0.000000e+00  1.976263e-323  2.470328e-323  1.976263e-323   \n",
       "5   0.000000e+00   0.000000e+00   0.000000e+00   0.000000e+00  4.940656e-324   \n",
       "\n",
       "        prec_one      prec_ovll      recl_zero       recl_one      recl_ovll  \n",
       "0  4.940656e-324  1.976263e-323  9.387247e-323  1.333977e-322  1.531604e-322  \n",
       "1  3.952525e-322  3.952525e-322  3.952525e-322  3.952525e-322  3.952525e-322  \n",
       "2  3.952525e-323  3.458460e-323  2.964394e-323  4.940656e-323  3.952525e-323  \n",
       "3  4.940656e-324  1.482197e-323  1.482197e-323  1.482197e-323  1.482197e-323  \n",
       "4  1.976263e-323   0.000000e+00  9.881313e-324  1.482197e-323  9.881313e-324  \n",
       "5  2.470328e-323   0.000000e+00  1.482197e-323  1.482197e-323  1.482197e-323  "
      ]
     },
     "execution_count": 70,
     "metadata": {},
     "output_type": "execute_result"
    }
   ],
   "source": [
    "dt_wttune"
   ]
  },
  {
   "cell_type": "code",
   "execution_count": 81,
   "metadata": {},
   "outputs": [],
   "source": [
    "zero_clwghts = [0.01,0.1,0.2,0.3,0.4,0.5]"
   ]
  },
  {
   "cell_type": "code",
   "execution_count": 86,
   "metadata": {},
   "outputs": [
    {
     "name": "stdout",
     "output_type": "stream",
     "text": [
      "\n",
      "Class Weights {0: 0.01, 1: 0.99} Trainaccuracy: 0.342 Test accuracy: 0.272\n",
      "Test Confusion Matrix\n",
      "\n",
      " Predicted   0    1\n",
      "Actuall           \n",
      "0          65  315\n",
      "1           6   55\n",
      "\n",
      "Class Weights {0: 0.1, 1: 0.9} Trainaccuracy: 0.809 Test accuracy: 0.735\n",
      "Test Confusion Matrix\n",
      "\n",
      " Predicted    0   1\n",
      "Actuall           \n",
      "0          283  97\n",
      "1           20  41\n",
      "\n",
      "Class Weights {0: 0.2, 1: 0.8} Trainaccuracy: 0.871 Test accuracy: 0.83\n",
      "Test Confusion Matrix\n",
      "\n",
      " Predicted    0   1\n",
      "Actuall           \n",
      "0          341  39\n",
      "1           36  25\n",
      "\n",
      "Class Weights {0: 0.3, 1: 0.7} Trainaccuracy: 0.88 Test accuracy: 0.837\n",
      "Test Confusion Matrix\n",
      "\n",
      " Predicted    0   1\n",
      "Actuall           \n",
      "0          344  36\n",
      "1           36  25\n",
      "\n",
      "Class Weights {0: 0.4, 1: 0.6} Trainaccuracy: 0.892 Test accuracy: 0.834\n",
      "Test Confusion Matrix\n",
      "\n",
      " Predicted    0   1\n",
      "Actuall           \n",
      "0          347  33\n",
      "1           40  21\n",
      "\n",
      "Class Weights {0: 0.5, 1: 0.5} Trainaccuracy: 0.894 Test accuracy: 0.853\n",
      "Test Confusion Matrix\n",
      "\n",
      " Predicted    0   1\n",
      "Actuall           \n",
      "0          363  17\n",
      "1           48  13\n"
     ]
    }
   ],
   "source": [
    "for i in range(len(zero_clwghts)):\n",
    "    clwght={0:zero_clwghts[i],1:1.0-zero_clwghts[i]}\n",
    "    dt_fit=DecisionTreeClassifier(criterion=\"gini\",max_depth=5,min_samples_split=2,min_samples_leaf=2,random_state=42,class_weight=clwght)\n",
    "    dt_fit.fit(x_train,y_train)\n",
    "    dt_wttune.loc[i,'zero_wght']=clwght[0]\n",
    "    dt_wttune.loc[i,'one_wght']=clwght[1]\n",
    "    dt_wttune.loc[i,'tr_accuracy']=round(accuracy_score(y_train,dt_fit.predict(x_train)),3)\n",
    "    dt_wttune.loc[i,'tst_accuracy']=round(accuracy_score(y_test,dt_fit.predict(x_test)),3)\n",
    "    clf_sp=classification_report(y_test,dt_fit.predict(x_test)).split()\n",
    "    dt_wttune.loc[i,'prec_zero']=float(clf_sp[5])\n",
    "    dt_wttune.loc[i,'prec_one']=float(clf_sp[10])\n",
    "    dt_wttune.loc[i,'prec_ovll']=float(clf_sp[15])\n",
    "    dt_wttune.loc[i,'recl_zero']=float(clf_sp[6])\n",
    "    dt_wttune.loc[i,'recl_one']=float(clf_sp[11])\n",
    "    dt_wttune.loc[i,'recl_ovll']=float(clf_sp[20])\n",
    "    print (\"\\nClass Weights\",clwght,\"Trainaccuracy:\",round(accuracy_score( y_train,dt_fit.predict(x_train)),3),\"Test accuracy:\",round(accuracy_score(y_test, dt_fit.predict(x_test)),3))\n",
    "    print (\"Test Confusion Matrix\\n\\n\",pd.crosstab(y_test,dt_fit.predict( x_test),rownames =[\"Actuall\"],colnames = [\"Predicted\"]))"
   ]
  },
  {
   "cell_type": "code",
   "execution_count": 141,
   "metadata": {},
   "outputs": [
    {
     "data": {
      "text/html": [
       "<div>\n",
       "<style scoped>\n",
       "    .dataframe tbody tr th:only-of-type {\n",
       "        vertical-align: middle;\n",
       "    }\n",
       "\n",
       "    .dataframe tbody tr th {\n",
       "        vertical-align: top;\n",
       "    }\n",
       "\n",
       "    .dataframe thead th {\n",
       "        text-align: right;\n",
       "    }\n",
       "</style>\n",
       "<table border=\"1\" class=\"dataframe\">\n",
       "  <thead>\n",
       "    <tr style=\"text-align: right;\">\n",
       "      <th></th>\n",
       "      <th>zero_wght</th>\n",
       "      <th>one_wght</th>\n",
       "      <th>tr_accuracy</th>\n",
       "      <th>tst_accuracy</th>\n",
       "      <th>prec_zero</th>\n",
       "      <th>prec_one</th>\n",
       "      <th>prec_ovll</th>\n",
       "      <th>recl_zero</th>\n",
       "      <th>recl_one</th>\n",
       "      <th>recl_ovll</th>\n",
       "    </tr>\n",
       "  </thead>\n",
       "  <tbody>\n",
       "    <tr>\n",
       "      <th>0</th>\n",
       "      <td>0.01</td>\n",
       "      <td>0.99</td>\n",
       "      <td>0.342</td>\n",
       "      <td>0.272</td>\n",
       "      <td>0.92</td>\n",
       "      <td>0.15</td>\n",
       "      <td>0.27</td>\n",
       "      <td>0.17</td>\n",
       "      <td>0.90</td>\n",
       "      <td>0.54</td>\n",
       "    </tr>\n",
       "    <tr>\n",
       "      <th>1</th>\n",
       "      <td>0.10</td>\n",
       "      <td>0.90</td>\n",
       "      <td>0.809</td>\n",
       "      <td>0.735</td>\n",
       "      <td>0.93</td>\n",
       "      <td>0.30</td>\n",
       "      <td>0.73</td>\n",
       "      <td>0.74</td>\n",
       "      <td>0.67</td>\n",
       "      <td>0.71</td>\n",
       "    </tr>\n",
       "    <tr>\n",
       "      <th>2</th>\n",
       "      <td>0.20</td>\n",
       "      <td>0.80</td>\n",
       "      <td>0.871</td>\n",
       "      <td>0.830</td>\n",
       "      <td>0.90</td>\n",
       "      <td>0.39</td>\n",
       "      <td>0.83</td>\n",
       "      <td>0.90</td>\n",
       "      <td>0.41</td>\n",
       "      <td>0.65</td>\n",
       "    </tr>\n",
       "    <tr>\n",
       "      <th>3</th>\n",
       "      <td>0.30</td>\n",
       "      <td>0.70</td>\n",
       "      <td>0.880</td>\n",
       "      <td>0.837</td>\n",
       "      <td>0.91</td>\n",
       "      <td>0.41</td>\n",
       "      <td>0.84</td>\n",
       "      <td>0.91</td>\n",
       "      <td>0.41</td>\n",
       "      <td>0.66</td>\n",
       "    </tr>\n",
       "    <tr>\n",
       "      <th>4</th>\n",
       "      <td>0.40</td>\n",
       "      <td>0.60</td>\n",
       "      <td>0.892</td>\n",
       "      <td>0.834</td>\n",
       "      <td>0.90</td>\n",
       "      <td>0.39</td>\n",
       "      <td>0.83</td>\n",
       "      <td>0.91</td>\n",
       "      <td>0.34</td>\n",
       "      <td>0.63</td>\n",
       "    </tr>\n",
       "  </tbody>\n",
       "</table>\n",
       "</div>"
      ],
      "text/plain": [
       "   zero_wght  one_wght  tr_accuracy  tst_accuracy  prec_zero  prec_one  \\\n",
       "0       0.01      0.99        0.342         0.272       0.92      0.15   \n",
       "1       0.10      0.90        0.809         0.735       0.93      0.30   \n",
       "2       0.20      0.80        0.871         0.830       0.90      0.39   \n",
       "3       0.30      0.70        0.880         0.837       0.91      0.41   \n",
       "4       0.40      0.60        0.892         0.834       0.90      0.39   \n",
       "\n",
       "   prec_ovll  recl_zero  recl_one  recl_ovll  \n",
       "0       0.27       0.17      0.90       0.54  \n",
       "1       0.73       0.74      0.67       0.71  \n",
       "2       0.83       0.90      0.41       0.65  \n",
       "3       0.84       0.91      0.41       0.66  \n",
       "4       0.83       0.91      0.34       0.63  "
      ]
     },
     "execution_count": 141,
     "metadata": {},
     "output_type": "execute_result"
    }
   ],
   "source": [
    "dt_wttune.head()"
   ]
  },
  {
   "cell_type": "markdown",
   "metadata": {},
   "source": [
    " we can seen that at class weight values of 0.3 (for zero) and\n",
    "0.7 (for one) it is identifying a higher number of attriters (25 out of 61) without\n",
    "compromising test accuracy 83.9% using decision trees methodology"
   ]
  },
  {
   "cell_type": "markdown",
   "metadata": {},
   "source": [
    "### Optimize DT parameters using gridsearch"
   ]
  },
  {
   "cell_type": "code",
   "execution_count": 92,
   "metadata": {},
   "outputs": [],
   "source": [
    "# Creating an standardscaler object\n",
    "std_slc = StandardScaler()\n",
    "# Creating a pca object\n",
    "pca = PCA()\n",
    " # Creating a DecisionTreeClassifie\n",
    "dt = DecisionTreeClassifier()\n"
   ]
  },
  {
   "cell_type": "code",
   "execution_count": 93,
   "metadata": {},
   "outputs": [],
   "source": [
    " # Creating a pipeline of three steps. First, standardizing the data.\n",
    " # Second, tranforming the data with PCA.\n",
    " # Third, training a Decision Tree Classifier on the data.\n",
    "\n",
    "pipe=Pipeline(steps=[('std_slc',std_slc),\n",
    "                    ('pca',pca),\n",
    "                    ('dt',dt)])\n",
    "    "
   ]
  },
  {
   "cell_type": "code",
   "execution_count": 107,
   "metadata": {},
   "outputs": [
    {
     "name": "stdout",
     "output_type": "stream",
     "text": [
      "[1, 2, 3, 4, 5, 6, 7, 8, 9, 10, 11, 12, 13, 14, 15, 16, 17, 18, 19, 20, 21, 22, 23, 24, 25, 26, 27, 28, 29, 30, 31, 32, 33, 34, 35, 36, 37, 38, 39, 40, 41, 42, 43, 44, 45, 46, 47, 48, 49, 50, 51]\n"
     ]
    }
   ],
   "source": [
    "# Creating Parameter Space\n",
    "# Creating a list of a sequence of integers from 1 to 30 (the number of features in X + 1)\n",
    "n_components = list(range(1,x_train.shape[1]+1,1))\n",
    "print(n_components)    "
   ]
  },
  {
   "cell_type": "code",
   "execution_count": 108,
   "metadata": {},
   "outputs": [],
   "source": [
    "#Creating lists of parameter for Decision Tree Classifier\n",
    "criterion = ['gini', 'entropy']\n",
    "max_depth = [2,4,6,8,10,12]"
   ]
  },
  {
   "cell_type": "code",
   "execution_count": 109,
   "metadata": {},
   "outputs": [],
   "source": [
    "# Creating a dictionary of all the parameter options \n",
    "# Note that we can access the parameters of steps of a pipeline by using '__’\n",
    "parameters = dict(pca__n_components=n_components,\n",
    "                  dt__criterion=criterion,\n",
    "                  dt__max_depth=max_depth)"
   ]
  },
  {
   "cell_type": "code",
   "execution_count": 110,
   "metadata": {},
   "outputs": [],
   "source": [
    "# Conducting Parameter Optmization With Pipeline\n",
    "# Creating a grid search object\n",
    "clf_GS = GridSearchCV(pipe, parameters)"
   ]
  },
  {
   "cell_type": "code",
   "execution_count": 111,
   "metadata": {},
   "outputs": [
    {
     "data": {
      "text/plain": [
       "GridSearchCV(estimator=Pipeline(steps=[('std_slc', StandardScaler()),\n",
       "                                       ('pca', PCA()),\n",
       "                                       ('dt', DecisionTreeClassifier())]),\n",
       "             param_grid={'dt__criterion': ['gini', 'entropy'],\n",
       "                         'dt__max_depth': [2, 4, 6, 8, 10, 12],\n",
       "                         'pca__n_components': [1, 2, 3, 4, 5, 6, 7, 8, 9, 10,\n",
       "                                               11, 12, 13, 14, 15, 16, 17, 18,\n",
       "                                               19, 20, 21, 22, 23, 24, 25, 26,\n",
       "                                               27, 28, 29, 30, ...]})"
      ]
     },
     "execution_count": 111,
     "metadata": {},
     "output_type": "execute_result"
    }
   ],
   "source": [
    "clf_GS.fit(x_train, y_train)"
   ]
  },
  {
   "cell_type": "code",
   "execution_count": 112,
   "metadata": {},
   "outputs": [
    {
     "name": "stdout",
     "output_type": "stream",
     "text": [
      "Best Criterion: entropy\n",
      "Best max_depth: 4\n",
      "Best Number Of Components: 21\n",
      "DecisionTreeClassifier(criterion='entropy', max_depth=4)\n"
     ]
    }
   ],
   "source": [
    "print('Best Criterion:', clf_GS.best_estimator_.get_params()['dt__criterion'])\n",
    "print('Best max_depth:', clf_GS.best_estimator_.get_params()['dt__max_depth'])\n",
    "print('Best Number Of Components:', clf_GS.best_estimator_.get_params()['pca__n_components'])\n",
    "print(clf_GS.best_estimator_.get_params()['dt'])\n"
   ]
  },
  {
   "cell_type": "code",
   "execution_count": 113,
   "metadata": {},
   "outputs": [],
   "source": [
    "dt=DecisionTreeClassifier(criterion=\"entropy\",max_depth=4,min_samples_split=2,min_samples_leaf=1,random_state=42)"
   ]
  },
  {
   "cell_type": "code",
   "execution_count": 114,
   "metadata": {},
   "outputs": [
    {
     "data": {
      "text/plain": [
       "DecisionTreeClassifier(class_weight={0: 0.5, 1: 0.5}, max_depth=5,\n",
       "                       min_samples_leaf=2, random_state=42)"
      ]
     },
     "execution_count": 114,
     "metadata": {},
     "output_type": "execute_result"
    }
   ],
   "source": [
    "dt_fit.fit(x_train,y_train)"
   ]
  },
  {
   "cell_type": "code",
   "execution_count": 115,
   "metadata": {},
   "outputs": [
    {
     "name": "stdout",
     "output_type": "stream",
     "text": [
      "Train Confusion matrix \n",
      "\n",
      " Predicted    0   1\n",
      "Actual            \n",
      "0          844   9\n",
      "1          100  76\n"
     ]
    }
   ],
   "source": [
    "print(\"Train Confusion matrix \\n\\n\",pd.crosstab(y_train,dt_fit.predict(x_train),rownames=[\"Actual\"],colnames=[\"Predicted\"]))"
   ]
  },
  {
   "cell_type": "code",
   "execution_count": 116,
   "metadata": {},
   "outputs": [
    {
     "name": "stdout",
     "output_type": "stream",
     "text": [
      "Decision tree train accuracy \n",
      "\n",
      " 0.894\n"
     ]
    }
   ],
   "source": [
    "print(\"Decision tree train accuracy \\n\\n\",round(accuracy_score(y_train,dt_fit.predict(x_train)),3))"
   ]
  },
  {
   "cell_type": "code",
   "execution_count": 117,
   "metadata": {},
   "outputs": [
    {
     "name": "stdout",
     "output_type": "stream",
     "text": [
      "Classification report \n",
      "\n",
      "               precision    recall  f1-score   support\n",
      "\n",
      "           0       0.89      0.99      0.94       853\n",
      "           1       0.89      0.43      0.58       176\n",
      "\n",
      "    accuracy                           0.89      1029\n",
      "   macro avg       0.89      0.71      0.76      1029\n",
      "weighted avg       0.89      0.89      0.88      1029\n",
      "\n"
     ]
    }
   ],
   "source": [
    "print(\"Classification report \\n\\n\",classification_report(y_train,dt_fit.predict(x_train)))"
   ]
  },
  {
   "cell_type": "code",
   "execution_count": 118,
   "metadata": {},
   "outputs": [
    {
     "name": "stdout",
     "output_type": "stream",
     "text": [
      " test confusion matrix \n",
      "\n",
      " Predicted    0   1\n",
      "Actual            \n",
      "0          363  17\n",
      "1           48  13\n"
     ]
    }
   ],
   "source": [
    "print(\" test confusion matrix \\n\\n\",pd.crosstab(y_test,dt_fit.predict(x_test),rownames=[\"Actual\"],colnames=[\"Predicted\"]))"
   ]
  },
  {
   "cell_type": "code",
   "execution_count": 119,
   "metadata": {},
   "outputs": [
    {
     "name": "stdout",
     "output_type": "stream",
     "text": [
      " test accuracy 0.853\n"
     ]
    }
   ],
   "source": [
    "print(\" test accuracy\",round(accuracy_score(y_test,dt_fit.predict(x_test)),3))"
   ]
  },
  {
   "cell_type": "code",
   "execution_count": 120,
   "metadata": {},
   "outputs": [
    {
     "name": "stdout",
     "output_type": "stream",
     "text": [
      "test classification report \n",
      "\n",
      "               precision    recall  f1-score   support\n",
      "\n",
      "           0       0.88      0.96      0.92       380\n",
      "           1       0.43      0.21      0.29        61\n",
      "\n",
      "    accuracy                           0.85       441\n",
      "   macro avg       0.66      0.58      0.60       441\n",
      "weighted avg       0.82      0.85      0.83       441\n",
      "\n"
     ]
    }
   ],
   "source": [
    "print(\"test classification report \\n\\n\",classification_report(y_test,dt_fit.predict(x_test)))"
   ]
  },
  {
   "cell_type": "code",
   "execution_count": 121,
   "metadata": {},
   "outputs": [],
   "source": [
    "# Since it is an imbalanced data set lets deal with that and see the result"
   ]
  },
  {
   "cell_type": "code",
   "execution_count": 122,
   "metadata": {},
   "outputs": [
    {
     "name": "stdout",
     "output_type": "stream",
     "text": [
      "Note: you may need to restart the kernel to use updated packages.Requirement already satisfied: imblearn in c:\\users\\gurdit\\anaconda3\\lib\\site-packages (0.0)\n",
      "\n",
      "Requirement already satisfied: imbalanced-learn in c:\\users\\gurdit\\anaconda3\\lib\\site-packages (from imblearn) (0.7.0)\n",
      "Requirement already satisfied: scikit-learn>=0.23 in c:\\users\\gurdit\\anaconda3\\lib\\site-packages (from imbalanced-learn->imblearn) (0.23.1)\n",
      "Requirement already satisfied: joblib>=0.11 in c:\\users\\gurdit\\anaconda3\\lib\\site-packages (from imbalanced-learn->imblearn) (0.15.1)\n",
      "Requirement already satisfied: scipy>=0.19.1 in c:\\users\\gurdit\\anaconda3\\lib\\site-packages (from imbalanced-learn->imblearn) (1.5.0)\n",
      "Requirement already satisfied: numpy>=1.13.3 in c:\\users\\gurdit\\anaconda3\\lib\\site-packages (from imbalanced-learn->imblearn) (1.18.5)\n",
      "Requirement already satisfied: threadpoolctl>=2.0.0 in c:\\users\\gurdit\\anaconda3\\lib\\site-packages (from scikit-learn>=0.23->imbalanced-learn->imblearn) (2.1.0)\n"
     ]
    }
   ],
   "source": [
    "#pip install imblearn"
   ]
  },
  {
   "cell_type": "code",
   "execution_count": 124,
   "metadata": {},
   "outputs": [],
   "source": [
    "smote=SMOTE()\n"
   ]
  },
  {
   "cell_type": "code",
   "execution_count": 125,
   "metadata": {},
   "outputs": [],
   "source": [
    "x_train_smote,y_train_smote=smote.fit_sample(x_train,y_train)"
   ]
  },
  {
   "cell_type": "code",
   "execution_count": 128,
   "metadata": {},
   "outputs": [
    {
     "name": "stdout",
     "output_type": "stream",
     "text": [
      "Before SMOTE Counter({0: 853, 1: 176})\n",
      "After SMOTE  Counter({0: 853, 1: 853})\n"
     ]
    }
   ],
   "source": [
    "print(\"Before SMOTE\",Counter(y_train))\n",
    "print(\"After SMOTE \",Counter(y_train_smote))"
   ]
  },
  {
   "cell_type": "code",
   "execution_count": 129,
   "metadata": {},
   "outputs": [],
   "source": [
    "dt_fit=DecisionTreeClassifier(criterion=\"gini\",max_depth=5, min_samples_split=2,min_samples_leaf=1,random_state=42)"
   ]
  },
  {
   "cell_type": "code",
   "execution_count": 132,
   "metadata": {},
   "outputs": [
    {
     "data": {
      "text/plain": [
       "DecisionTreeClassifier(max_depth=5, random_state=42)"
      ]
     },
     "execution_count": 132,
     "metadata": {},
     "output_type": "execute_result"
    }
   ],
   "source": [
    "dt_fit.fit(x_train_smote,y_train_smote)"
   ]
  },
  {
   "cell_type": "code",
   "execution_count": 133,
   "metadata": {},
   "outputs": [
    {
     "name": "stdout",
     "output_type": "stream",
     "text": [
      "train confusion matrix \n",
      "\n",
      " Prediction    0    1\n",
      "Actual              \n",
      "0           766   87\n",
      "1           129  724\n"
     ]
    }
   ],
   "source": [
    "print(\"train confusion matrix \\n\\n\",pd.crosstab(y_train_smote,dt_fit.predict(x_train_smote),rownames=[\"Actual\"],colnames=[\"Prediction\"]))"
   ]
  },
  {
   "cell_type": "code",
   "execution_count": 135,
   "metadata": {},
   "outputs": [
    {
     "name": "stdout",
     "output_type": "stream",
     "text": [
      "train accuracy  0.8733880422039859\n"
     ]
    }
   ],
   "source": [
    "print(\"train accuracy \",accuracy_score(y_train_smote,dt_fit.predict(x_train_smote)))"
   ]
  },
  {
   "cell_type": "code",
   "execution_count": 136,
   "metadata": {},
   "outputs": [
    {
     "name": "stdout",
     "output_type": "stream",
     "text": [
      "train classification report               precision    recall  f1-score   support\n",
      "\n",
      "           0       0.86      0.90      0.88       853\n",
      "           1       0.89      0.85      0.87       853\n",
      "\n",
      "    accuracy                           0.87      1706\n",
      "   macro avg       0.87      0.87      0.87      1706\n",
      "weighted avg       0.87      0.87      0.87      1706\n",
      "\n"
     ]
    }
   ],
   "source": [
    "print(\"train classification report\",classification_report(y_train_smote,dt_fit.predict(x_train_smote)))"
   ]
  },
  {
   "cell_type": "code",
   "execution_count": 142,
   "metadata": {},
   "outputs": [],
   "source": [
    "def testit(x,y):\n",
    "    print(\"test confusion matrix \\n\\n\",pd.crosstab(y,dt_fit.predict(x),rownames=[\"Actual\"],colnames=[\"Prediction\"]),\"\\n\")\n",
    "    print(\"test accuracy \\n \",accuracy_score(y,dt_fit.predict(x)),\"\\n\")\n",
    "    print(\"test classification report \\n\",classification_report(y,dt_fit.predict(x)),\"\\n\")"
   ]
  },
  {
   "cell_type": "code",
   "execution_count": 143,
   "metadata": {},
   "outputs": [
    {
     "name": "stdout",
     "output_type": "stream",
     "text": [
      "test confusion matrix \n",
      "\n",
      " Prediction    0   1\n",
      "Actual             \n",
      "0           331  49\n",
      "1            38  23 \n",
      "\n",
      "test accuracy \n",
      "  0.8027210884353742 \n",
      "\n",
      "test classification report \n",
      "               precision    recall  f1-score   support\n",
      "\n",
      "           0       0.90      0.87      0.88       380\n",
      "           1       0.32      0.38      0.35        61\n",
      "\n",
      "    accuracy                           0.80       441\n",
      "   macro avg       0.61      0.62      0.61       441\n",
      "weighted avg       0.82      0.80      0.81       441\n",
      " \n",
      "\n"
     ]
    }
   ],
   "source": [
    "testit(x_test,y_test)"
   ]
  },
  {
   "cell_type": "code",
   "execution_count": 144,
   "metadata": {},
   "outputs": [
    {
     "data": {
      "text/plain": [
       "GridSearchCV(estimator=Pipeline(steps=[('std_slc', StandardScaler()),\n",
       "                                       ('pca', PCA()),\n",
       "                                       ('dt', DecisionTreeClassifier())]),\n",
       "             param_grid={'dt__criterion': ['gini', 'entropy'],\n",
       "                         'dt__max_depth': [2, 4, 6, 8, 10, 12],\n",
       "                         'pca__n_components': [1, 2, 3, 4, 5, 6, 7, 8, 9, 10,\n",
       "                                               11, 12, 13, 14, 15, 16, 17, 18,\n",
       "                                               19, 20, 21, 22, 23, 24, 25, 26,\n",
       "                                               27, 28, 29, 30, ...]})"
      ]
     },
     "execution_count": 144,
     "metadata": {},
     "output_type": "execute_result"
    }
   ],
   "source": [
    "clf_GS.fit(x_train_smote, y_train_smote)"
   ]
  },
  {
   "cell_type": "code",
   "execution_count": 145,
   "metadata": {},
   "outputs": [
    {
     "name": "stdout",
     "output_type": "stream",
     "text": [
      "Best Criterion: gini\n",
      "Best max_depth: 6\n",
      "Best Number Of Components: 12\n",
      "DecisionTreeClassifier(max_depth=6)\n"
     ]
    }
   ],
   "source": [
    "print('Best Criterion:', clf_GS.best_estimator_.get_params()['dt__criterion'])\n",
    "print('Best max_depth:', clf_GS.best_estimator_.get_params()['dt__max_depth'])\n",
    "print('Best Number Of Components:', clf_GS.best_estimator_.get_params()['pca__n_components'])\n",
    "print(clf_GS.best_estimator_.get_params()['dt'])\n"
   ]
  },
  {
   "cell_type": "code",
   "execution_count": 146,
   "metadata": {},
   "outputs": [],
   "source": [
    "dt_fit=DecisionTreeClassifier(criterion=\"gini\",max_depth=6, min_samples_split=2,min_samples_leaf=1,random_state=42)"
   ]
  },
  {
   "cell_type": "code",
   "execution_count": 147,
   "metadata": {},
   "outputs": [
    {
     "data": {
      "text/plain": [
       "DecisionTreeClassifier(max_depth=6, random_state=42)"
      ]
     },
     "execution_count": 147,
     "metadata": {},
     "output_type": "execute_result"
    }
   ],
   "source": [
    "dt_fit.fit(x_train_smote,y_train_smote)"
   ]
  },
  {
   "cell_type": "code",
   "execution_count": 148,
   "metadata": {},
   "outputs": [
    {
     "name": "stdout",
     "output_type": "stream",
     "text": [
      "test confusion matrix \n",
      "\n",
      " Prediction    0    1\n",
      "Actual              \n",
      "0           773   80\n",
      "1            82  771 \n",
      "\n",
      "test accuracy \n",
      "  0.9050410316529894 \n",
      "\n",
      "test classification report \n",
      "               precision    recall  f1-score   support\n",
      "\n",
      "           0       0.90      0.91      0.91       853\n",
      "           1       0.91      0.90      0.90       853\n",
      "\n",
      "    accuracy                           0.91      1706\n",
      "   macro avg       0.91      0.91      0.91      1706\n",
      "weighted avg       0.91      0.91      0.91      1706\n",
      " \n",
      "\n"
     ]
    }
   ],
   "source": [
    "testit(x_train_smote,y_train_smote)"
   ]
  },
  {
   "cell_type": "code",
   "execution_count": 149,
   "metadata": {},
   "outputs": [
    {
     "name": "stdout",
     "output_type": "stream",
     "text": [
      "test confusion matrix \n",
      "\n",
      " Prediction    0   1\n",
      "Actual             \n",
      "0           332  48\n",
      "1            33  28 \n",
      "\n",
      "test accuracy \n",
      "  0.8163265306122449 \n",
      "\n",
      "test classification report \n",
      "               precision    recall  f1-score   support\n",
      "\n",
      "           0       0.91      0.87      0.89       380\n",
      "           1       0.37      0.46      0.41        61\n",
      "\n",
      "    accuracy                           0.82       441\n",
      "   macro avg       0.64      0.67      0.65       441\n",
      "weighted avg       0.83      0.82      0.82       441\n",
      " \n",
      "\n"
     ]
    }
   ],
   "source": [
    "testit(x_test,y_test)"
   ]
  },
  {
   "cell_type": "code",
   "execution_count": 150,
   "metadata": {},
   "outputs": [],
   "source": [
    "# Bagging Classifier"
   ]
  },
  {
   "cell_type": "code",
   "execution_count": 153,
   "metadata": {},
   "outputs": [],
   "source": [
    "dt_fit = DecisionTreeClassifier(criterion=\"gini\",max_depth=5,min_samples_split=2,min_samples_leaf=1,random_state=42,class_weight = {0:0.3,1:0.7})"
   ]
  },
  {
   "cell_type": "markdown",
   "metadata": {},
   "source": [
    "note:Parameters used in bagging are, n_estimators to represent the number of individual\n",
    "decision trees used as 5,000, maximum samples and features selected are 0.67 and 1.0\n",
    "respectively, which means it will select 2/3rd of observations for each tree and all the\n",
    "features."
   ]
  },
  {
   "cell_type": "code",
   "execution_count": 155,
   "metadata": {},
   "outputs": [],
   "source": [
    "bag_fit=BaggingClassifier(base_estimator=dt_fit,n_estimators=5000,max_samples=0.67,max_features=1.0,bootstrap=True,bootstrap_features=False,n_jobs=1,random_state=42)"
   ]
  },
  {
   "cell_type": "code",
   "execution_count": 156,
   "metadata": {},
   "outputs": [
    {
     "data": {
      "text/plain": [
       "BaggingClassifier(base_estimator=DecisionTreeClassifier(class_weight={0: 0.3,\n",
       "                                                                      1: 0.7},\n",
       "                                                        max_depth=5,\n",
       "                                                        random_state=42),\n",
       "                  max_samples=0.67, n_estimators=5000, n_jobs=1,\n",
       "                  random_state=42)"
      ]
     },
     "execution_count": 156,
     "metadata": {},
     "output_type": "execute_result"
    }
   ],
   "source": [
    "bag_fit.fit(x_train_smote,y_train_smote)"
   ]
  },
  {
   "cell_type": "code",
   "execution_count": 159,
   "metadata": {},
   "outputs": [],
   "source": [
    "def bagfitest(x,y,w):\n",
    "    if w==\"test\":\n",
    "        print(\"test confusion matrix \\n\\n\",pd.crosstab(y,bag_fit.predict(x),rownames=[\"Actual\"],colnames=[\"Prediction\"]),\"\\n\")\n",
    "        print(\"test accuracy \\n \",accuracy_score(y,bag_fit.predict(x)),\"\\n\")\n",
    "        print(\"test classification report \\n\",classification_report(y,bag_fit.predict(x)),\"\\n\")\n",
    "    elif w==\"train\":\n",
    "        print(\"train confusion matrix \\n\\n\",pd.crosstab(y,bag_fit.predict(x),rownames=[\"Actual\"],colnames=[\"Prediction\"]),\"\\n\")\n",
    "        print(\"train accuracy \\n \",accuracy_score(y,bag_fit.predict(x)),\"\\n\")\n",
    "        print(\"train classification report \\n\",classification_report(y,bag_fit.predict(x)),\"\\n\")"
   ]
  },
  {
   "cell_type": "code",
   "execution_count": 160,
   "metadata": {},
   "outputs": [
    {
     "name": "stdout",
     "output_type": "stream",
     "text": [
      "train confusion matrix \n",
      "\n",
      " Prediction    0    1\n",
      "Actual              \n",
      "0           741  112\n",
      "1            40  813 \n",
      "\n",
      "train accuracy \n",
      "  0.9109026963657679 \n",
      "\n",
      "train classification report \n",
      "               precision    recall  f1-score   support\n",
      "\n",
      "           0       0.95      0.87      0.91       853\n",
      "           1       0.88      0.95      0.91       853\n",
      "\n",
      "    accuracy                           0.91      1706\n",
      "   macro avg       0.91      0.91      0.91      1706\n",
      "weighted avg       0.91      0.91      0.91      1706\n",
      " \n",
      "\n"
     ]
    }
   ],
   "source": [
    "bagfitest(x_train_smote,y_train_smote,\"train\")"
   ]
  },
  {
   "cell_type": "code",
   "execution_count": 161,
   "metadata": {},
   "outputs": [
    {
     "name": "stdout",
     "output_type": "stream",
     "text": [
      "test confusion matrix \n",
      "\n",
      " Prediction    0   1\n",
      "Actual             \n",
      "0           317  63\n",
      "1            31  30 \n",
      "\n",
      "test accuracy \n",
      "  0.7868480725623582 \n",
      "\n",
      "test classification report \n",
      "               precision    recall  f1-score   support\n",
      "\n",
      "           0       0.91      0.83      0.87       380\n",
      "           1       0.32      0.49      0.39        61\n",
      "\n",
      "    accuracy                           0.79       441\n",
      "   macro avg       0.62      0.66      0.63       441\n",
      "weighted avg       0.83      0.79      0.80       441\n",
      " \n",
      "\n"
     ]
    }
   ],
   "source": [
    "bagfitest(x_test,y_test,\"test\")"
   ]
  },
  {
   "cell_type": "code",
   "execution_count": 162,
   "metadata": {},
   "outputs": [],
   "source": [
    "# Random forrest"
   ]
  },
  {
   "cell_type": "markdown",
   "metadata": {},
   "source": [
    "<b>note</b> : Random forests provide an improvement over bagging by doing a small tweak that utilizes\n",
    "de-correlated trees. In bagging, we build a number of decision trees on bootstrapped\n",
    "samples from training data, but the one big drawback with the bagging technique is that it\n",
    "selects all the variables. By doing so, in each decision tree, order of candidate/variable\n",
    "chosen to split remains more or less the same for all the individual trees, which look\n",
    "correlated with each other. Variance reduction on correlated individual entities does not\n",
    "work effectively while aggregating them."
   ]
  },
  {
   "cell_type": "markdown",
   "metadata": {},
   "source": [
    "In random forest, during bootstrapping (repeated sampling with replacement), samples\n",
    "were drawn from training data; not just simply the second and third observations randomly\n",
    "selected, similar to bagging, but it also selects the few predictors/columns out of all\n",
    "predictors (m predictors out of total p predictors)."
   ]
  },
  {
   "cell_type": "markdown",
   "metadata": {},
   "source": [
    "The parameters used in random forest are: n_estimators representing the number of\n",
    "individual decision trees used is 5000, maximum features selected are auto, which means it\n",
    "will select sqrt(p) for classification and p/3 for regression automatically. Here is the\n",
    "straightforward classification problem though. Minimum samples per leaf provides the\n",
    "minimum number of observations required in the terminal node:"
   ]
  },
  {
   "cell_type": "code",
   "execution_count": 165,
   "metadata": {},
   "outputs": [],
   "source": [
    "rf_fit=RandomForestClassifier(n_estimators=5000,criterion=\"gini\",max_depth=5,min_samples_split=2,bootstrap=True,max_features=\"auto\",random_state=42,min_samples_leaf=1,class_weight={0:0.3,1:0.7})"
   ]
  },
  {
   "cell_type": "code",
   "execution_count": 166,
   "metadata": {},
   "outputs": [
    {
     "data": {
      "text/plain": [
       "RandomForestClassifier(class_weight={0: 0.3, 1: 0.7}, max_depth=5,\n",
       "                       n_estimators=5000, random_state=42)"
      ]
     },
     "execution_count": 166,
     "metadata": {},
     "output_type": "execute_result"
    }
   ],
   "source": [
    "rf_fit.fit(x_train_smote,y_train_smote)"
   ]
  },
  {
   "cell_type": "code",
   "execution_count": 170,
   "metadata": {},
   "outputs": [],
   "source": [
    "def rantest(x,y,w):\n",
    "    if w==\"test\":\n",
    "        print(\"test confusion matrix \\n\\n\",pd.crosstab(y,rf_fit.predict(x),rownames=[\"Actual\"],colnames=[\"Prediction\"]),\"\\n\")\n",
    "        print(\"test accuracy \\n \",accuracy_score(y,rf_fit.predict(x)),\"\\n\")\n",
    "        print(\"test classification report \\n\",classification_report(y,rf_fit.predict(x)),\"\\n\")\n",
    "    elif w==\"train\":\n",
    "        print(\"train confusion matrix \\n\\n\",pd.crosstab(y,rf_fit.predict(x),rownames=[\"Actual\"],colnames=[\"Prediction\"]),\"\\n\")\n",
    "        print(\"train accuracy \\n \",accuracy_score(y,rf_fit.predict(x)),\"\\n\")\n",
    "        print(\"train classification report \\n\",classification_report(y,rf_fit.predict(x)),\"\\n\")"
   ]
  },
  {
   "cell_type": "code",
   "execution_count": 171,
   "metadata": {},
   "outputs": [
    {
     "name": "stdout",
     "output_type": "stream",
     "text": [
      "train confusion matrix \n",
      "\n",
      " Prediction    0    1\n",
      "Actual              \n",
      "0           689  164\n",
      "1            21  832 \n",
      "\n",
      "train accuracy \n",
      "  0.891559202813599 \n",
      "\n",
      "train classification report \n",
      "               precision    recall  f1-score   support\n",
      "\n",
      "           0       0.97      0.81      0.88       853\n",
      "           1       0.84      0.98      0.90       853\n",
      "\n",
      "    accuracy                           0.89      1706\n",
      "   macro avg       0.90      0.89      0.89      1706\n",
      "weighted avg       0.90      0.89      0.89      1706\n",
      " \n",
      "\n"
     ]
    }
   ],
   "source": [
    "rantest(x_train_smote,y_train_smote,\"train\")"
   ]
  },
  {
   "cell_type": "code",
   "execution_count": 172,
   "metadata": {},
   "outputs": [
    {
     "name": "stdout",
     "output_type": "stream",
     "text": [
      "test confusion matrix \n",
      "\n",
      " Prediction    0   1\n",
      "Actual             \n",
      "0           287  93\n",
      "1            27  34 \n",
      "\n",
      "test accuracy \n",
      "  0.7278911564625851 \n",
      "\n",
      "test classification report \n",
      "               precision    recall  f1-score   support\n",
      "\n",
      "           0       0.91      0.76      0.83       380\n",
      "           1       0.27      0.56      0.36        61\n",
      "\n",
      "    accuracy                           0.73       441\n",
      "   macro avg       0.59      0.66      0.59       441\n",
      "weighted avg       0.82      0.73      0.76       441\n",
      " \n",
      "\n"
     ]
    }
   ],
   "source": [
    "rantest(x_test,y_test,\"test\")"
   ]
  },
  {
   "cell_type": "code",
   "execution_count": 186,
   "metadata": {},
   "outputs": [],
   "source": [
    "model_ranks=pd.Series(rf_fit.feature_importances_,index=x_train_smote.columns,name=\"Importance\").sort_values(ascending=False,inplace=False)"
   ]
  },
  {
   "cell_type": "code",
   "execution_count": 187,
   "metadata": {},
   "outputs": [
    {
     "data": {
      "text/plain": [
       "overtime_No                          0.175030\n",
       "StockOptionLevel                     0.079367\n",
       "maritalstat_Divorced                 0.070656\n",
       "JobSatisfaction                      0.051405\n",
       "MonthlyIncome                        0.042518\n",
       "edufield_Life Sciences               0.041415\n",
       "maritalstat_Married                  0.040639\n",
       "JobLevel                             0.040191\n",
       "TotalWorkingYears                    0.030973\n",
       "dept_Research & Development          0.030839\n",
       "JobInvolvement                       0.029314\n",
       "YearsInCurrentRole                   0.027898\n",
       "YearsAtCompany                       0.024484\n",
       "edufield_Medical                     0.023965\n",
       "Age                                  0.023413\n",
       "EnvironmentSatisfaction              0.023166\n",
       "YearsWithCurrManager                 0.021046\n",
       "gend_Female                          0.019287\n",
       "DailyRate                            0.013454\n",
       "RelationshipSatisfaction             0.012850\n",
       "HourlyRate                           0.012477\n",
       "WorkLifeBalance                      0.012306\n",
       "MonthlyRate                          0.012050\n",
       "Education                            0.010924\n",
       "DistanceFromHome                     0.010852\n",
       "jobrole_Manufacturing Director       0.010361\n",
       "BusinessT__Non-Travel                0.009699\n",
       "TrainingTimesLastYear                0.009591\n",
       "overtime_Yes                         0.008937\n",
       "jobrole_Healthcare Representative    0.007508\n",
       "NumCompaniesWorked                   0.006923\n",
       "BusinessT__Travel_Rarely             0.006806\n",
       "PercentSalaryHike                    0.006448\n",
       "PerformanceRating                    0.005753\n",
       "YearsSinceLastPromotion              0.005672\n",
       "gend_Male                            0.005076\n",
       "jobrole_Research Scientist           0.005069\n",
       "dept_Sales                           0.004825\n",
       "maritalstat_Single                   0.003715\n",
       "jobrole_Research Director            0.003496\n",
       "jobrole_Sales Executive              0.003439\n",
       "jobrole_Manager                      0.003143\n",
       "jobrole_Laboratory Technician        0.002432\n",
       "edufield_Other                       0.002168\n",
       "edufield_Marketing                   0.001672\n",
       "BusinessT__Travel_Frequently         0.001522\n",
       "dept_Human Resources                 0.001467\n",
       "edufield_Technical Degree            0.001257\n",
       "jobrole_Human Resources              0.001040\n",
       "jobrole_Sales Representative         0.000735\n",
       "edufield_Human Resources             0.000731\n",
       "Name: Importance, dtype: float64"
      ]
     },
     "execution_count": 187,
     "metadata": {},
     "output_type": "execute_result"
    }
   ],
   "source": [
    "model_ranks"
   ]
  },
  {
   "cell_type": "code",
   "execution_count": 188,
   "metadata": {},
   "outputs": [],
   "source": [
    "model_ranks.index.name=\"Variables\""
   ]
  },
  {
   "cell_type": "code",
   "execution_count": 189,
   "metadata": {},
   "outputs": [
    {
     "data": {
      "text/plain": [
       "Variables\n",
       "overtime_No                          0.175030\n",
       "StockOptionLevel                     0.079367\n",
       "maritalstat_Divorced                 0.070656\n",
       "JobSatisfaction                      0.051405\n",
       "MonthlyIncome                        0.042518\n",
       "edufield_Life Sciences               0.041415\n",
       "maritalstat_Married                  0.040639\n",
       "JobLevel                             0.040191\n",
       "TotalWorkingYears                    0.030973\n",
       "dept_Research & Development          0.030839\n",
       "JobInvolvement                       0.029314\n",
       "YearsInCurrentRole                   0.027898\n",
       "YearsAtCompany                       0.024484\n",
       "edufield_Medical                     0.023965\n",
       "Age                                  0.023413\n",
       "EnvironmentSatisfaction              0.023166\n",
       "YearsWithCurrManager                 0.021046\n",
       "gend_Female                          0.019287\n",
       "DailyRate                            0.013454\n",
       "RelationshipSatisfaction             0.012850\n",
       "HourlyRate                           0.012477\n",
       "WorkLifeBalance                      0.012306\n",
       "MonthlyRate                          0.012050\n",
       "Education                            0.010924\n",
       "DistanceFromHome                     0.010852\n",
       "jobrole_Manufacturing Director       0.010361\n",
       "BusinessT__Non-Travel                0.009699\n",
       "TrainingTimesLastYear                0.009591\n",
       "overtime_Yes                         0.008937\n",
       "jobrole_Healthcare Representative    0.007508\n",
       "NumCompaniesWorked                   0.006923\n",
       "BusinessT__Travel_Rarely             0.006806\n",
       "PercentSalaryHike                    0.006448\n",
       "PerformanceRating                    0.005753\n",
       "YearsSinceLastPromotion              0.005672\n",
       "gend_Male                            0.005076\n",
       "jobrole_Research Scientist           0.005069\n",
       "dept_Sales                           0.004825\n",
       "maritalstat_Single                   0.003715\n",
       "jobrole_Research Director            0.003496\n",
       "jobrole_Sales Executive              0.003439\n",
       "jobrole_Manager                      0.003143\n",
       "jobrole_Laboratory Technician        0.002432\n",
       "edufield_Other                       0.002168\n",
       "edufield_Marketing                   0.001672\n",
       "BusinessT__Travel_Frequently         0.001522\n",
       "dept_Human Resources                 0.001467\n",
       "edufield_Technical Degree            0.001257\n",
       "jobrole_Human Resources              0.001040\n",
       "jobrole_Sales Representative         0.000735\n",
       "edufield_Human Resources             0.000731\n",
       "Name: Importance, dtype: float64"
      ]
     },
     "execution_count": 189,
     "metadata": {},
     "output_type": "execute_result"
    }
   ],
   "source": [
    "model_ranks"
   ]
  },
  {
   "cell_type": "code",
   "execution_count": 175,
   "metadata": {},
   "outputs": [
    {
     "data": {
      "text/plain": [
       "array([0.00969867, 0.00152233, 0.00680606, 0.00146664, 0.03083884,\n",
       "       0.00482472, 0.0007309 , 0.04141517, 0.00167179, 0.02396455,\n",
       "       0.0021683 , 0.00125675, 0.01928735, 0.00507585, 0.00750847,\n",
       "       0.00104047, 0.00243208, 0.00314254, 0.01036142, 0.00349639,\n",
       "       0.00506869, 0.00343858, 0.00073542, 0.07065553, 0.04063871,\n",
       "       0.00371517, 0.17503016, 0.00893651, 0.02341294, 0.01345447,\n",
       "       0.01085196, 0.01092381, 0.02316617, 0.01247662, 0.02931358,\n",
       "       0.04019056, 0.05140451, 0.04251777, 0.01204989, 0.00692253,\n",
       "       0.00644845, 0.00575302, 0.01284984, 0.07936686, 0.03097256,\n",
       "       0.00959072, 0.01230603, 0.02448353, 0.02789817, 0.00567166,\n",
       "       0.02104632])"
      ]
     },
     "execution_count": 175,
     "metadata": {},
     "output_type": "execute_result"
    }
   ],
   "source": [
    "rf_fit.feature_importances_"
   ]
  },
  {
   "cell_type": "code",
   "execution_count": 192,
   "metadata": {},
   "outputs": [],
   "source": [
    "top_features=model_ranks.iloc[:31].sort_values(ascending=True,inplace=False)"
   ]
  },
  {
   "cell_type": "code",
   "execution_count": 193,
   "metadata": {},
   "outputs": [
    {
     "data": {
      "text/plain": [
       "Variables\n",
       "NumCompaniesWorked                   0.006923\n",
       "jobrole_Healthcare Representative    0.007508\n",
       "overtime_Yes                         0.008937\n",
       "TrainingTimesLastYear                0.009591\n",
       "BusinessT__Non-Travel                0.009699\n",
       "jobrole_Manufacturing Director       0.010361\n",
       "DistanceFromHome                     0.010852\n",
       "Education                            0.010924\n",
       "MonthlyRate                          0.012050\n",
       "WorkLifeBalance                      0.012306\n",
       "HourlyRate                           0.012477\n",
       "RelationshipSatisfaction             0.012850\n",
       "DailyRate                            0.013454\n",
       "gend_Female                          0.019287\n",
       "YearsWithCurrManager                 0.021046\n",
       "EnvironmentSatisfaction              0.023166\n",
       "Age                                  0.023413\n",
       "edufield_Medical                     0.023965\n",
       "YearsAtCompany                       0.024484\n",
       "YearsInCurrentRole                   0.027898\n",
       "JobInvolvement                       0.029314\n",
       "dept_Research & Development          0.030839\n",
       "TotalWorkingYears                    0.030973\n",
       "JobLevel                             0.040191\n",
       "maritalstat_Married                  0.040639\n",
       "edufield_Life Sciences               0.041415\n",
       "MonthlyIncome                        0.042518\n",
       "JobSatisfaction                      0.051405\n",
       "maritalstat_Divorced                 0.070656\n",
       "StockOptionLevel                     0.079367\n",
       "overtime_No                          0.175030\n",
       "Name: Importance, dtype: float64"
      ]
     },
     "execution_count": 193,
     "metadata": {},
     "output_type": "execute_result"
    }
   ],
   "source": [
    "top_features"
   ]
  },
  {
   "cell_type": "code",
   "execution_count": 194,
   "metadata": {},
   "outputs": [
    {
     "data": {
      "image/png": "[encoded data removed]",
      "text/plain": [
       "<Figure size 1440x720 with 1 Axes>"
      ]
     },
     "metadata": {
      "needs_background": "light"
     },
     "output_type": "display_data"
    }
   ],
   "source": [
    "plt.figure(figsize=(20,10))\n",
    "ax = top_features.plot(kind='barh')\n",
    "_ = ax.set_title(\"Variable Importance Plot\")\n",
    "_ = ax.set_xlabel('Mean decrease in Variance')\n",
    "_ = ax.set_yticklabels(top_features.index, fontsize=13)"
   ]
  },
  {
   "cell_type": "markdown",
   "metadata": {},
   "source": [
    "### This provides us with some insight into what are major contributing factors that determine whether the employee will remain with the company or leave theorganization."
   ]
  },
  {
   "cell_type": "code",
   "execution_count": 197,
   "metadata": {},
   "outputs": [],
   "source": [
    "# without smote\n",
    "rr=RandomForestClassifier(n_estimators=5000,criterion=\"gini\",max_depth=5,min_samples_split=2,bootstrap=True,max_features=\"auto\",random_state=42,min_samples_leaf=1,class_weight={0:0.3,1:0.7})"
   ]
  },
  {
   "cell_type": "code",
   "execution_count": 198,
   "metadata": {},
   "outputs": [
    {
     "data": {
      "text/plain": [
       "RandomForestClassifier(class_weight={0: 0.3, 1: 0.7}, max_depth=5,\n",
       "                       n_estimators=5000, random_state=42)"
      ]
     },
     "execution_count": 198,
     "metadata": {},
     "output_type": "execute_result"
    }
   ],
   "source": [
    "rr.fit(x_train,y_train)"
   ]
  },
  {
   "cell_type": "code",
   "execution_count": 202,
   "metadata": {},
   "outputs": [],
   "source": [
    "model_ranks_nosmote=pd.Series(rr.feature_importances_,index=x_train.columns,name=\"Importance\").sort_values(ascending=False,inplace=False)"
   ]
  },
  {
   "cell_type": "code",
   "execution_count": 203,
   "metadata": {},
   "outputs": [],
   "source": [
    "model_ranks_nosmote.index.name=\"variables\""
   ]
  },
  {
   "cell_type": "code",
   "execution_count": 204,
   "metadata": {},
   "outputs": [],
   "source": [
    "tf=model_ranks_nosmote.iloc[:31].sort_values(ascending=True,inplace=False)"
   ]
  },
  {
   "cell_type": "code",
   "execution_count": 205,
   "metadata": {},
   "outputs": [
    {
     "data": {
      "image/png": "[encoded data removed]",
      "text/plain": [
       "<Figure size 1440x720 with 1 Axes>"
      ]
     },
     "metadata": {
      "needs_background": "light"
     },
     "output_type": "display_data"
    }
   ],
   "source": [
    "plt.figure(figsize=(20,10))\n",
    "ax = top_features.plot(kind='barh')\n",
    "_ = ax.set_title(\"Variable Importance Plot\")\n",
    "_ = ax.set_xlabel('Mean decrease in Variance')\n",
    "_ = ax.set_yticklabels(tf.index, fontsize=13)"
   ]
  },
  {
   "cell_type": "code",
   "execution_count": 206,
   "metadata": {},
   "outputs": [],
   "source": [
    "# grid search Random Forrest"
   ]
  },
  {
   "cell_type": "code",
   "execution_count": 207,
   "metadata": {},
   "outputs": [],
   "source": [
    "pipeline=Pipeline([('clf',RandomForestClassifier(criterion=\"gini\",class_weight={0:0.3,1:0.7}))])"
   ]
  },
  {
   "cell_type": "code",
   "execution_count": 208,
   "metadata": {},
   "outputs": [],
   "source": [
    "parameters={'clf__n_estimators':(2000,3000,5000),\n",
    "            'clf__max_depth':(5,15,30),\n",
    "            'clf__min_samples_split':(2,3),\n",
    "            'clf__min_samples_leaf':(1,2)}\n",
    "                "
   ]
  },
  {
   "cell_type": "code",
   "execution_count": 209,
   "metadata": {},
   "outputs": [],
   "source": [
    "grid_search=GridSearchCV(pipeline,parameters,n_jobs=-1,cv=5,verbose=1,scoring=\"accuracy\")"
   ]
  },
  {
   "cell_type": "code",
   "execution_count": 210,
   "metadata": {},
   "outputs": [
    {
     "name": "stdout",
     "output_type": "stream",
     "text": [
      "Fitting 5 folds for each of 36 candidates, totalling 180 fits\n"
     ]
    },
    {
     "name": "stderr",
     "output_type": "stream",
     "text": [
      "[Parallel(n_jobs=-1)]: Using backend LokyBackend with 4 concurrent workers.\n",
      "[Parallel(n_jobs=-1)]: Done  42 tasks      | elapsed:  3.6min\n",
      "[Parallel(n_jobs=-1)]: Done 180 out of 180 | elapsed: 15.6min finished\n"
     ]
    },
    {
     "data": {
      "text/plain": [
       "GridSearchCV(cv=5,\n",
       "             estimator=Pipeline(steps=[('clf',\n",
       "                                        RandomForestClassifier(class_weight={0: 0.3,\n",
       "                                                                             1: 0.7}))]),\n",
       "             n_jobs=-1,\n",
       "             param_grid={'clf__max_depth': (5, 15, 30),\n",
       "                         'clf__min_samples_leaf': (1, 2),\n",
       "                         'clf__min_samples_split': (2, 3),\n",
       "                         'clf__n_estimators': (2000, 3000, 5000)},\n",
       "             scoring='accuracy', verbose=1)"
      ]
     },
     "execution_count": 210,
     "metadata": {},
     "output_type": "execute_result"
    }
   ],
   "source": [
    "grid_search.fit(x_train_smote,y_train_smote)"
   ]
  },
  {
   "cell_type": "code",
   "execution_count": 212,
   "metadata": {},
   "outputs": [
    {
     "name": "stdout",
     "output_type": "stream",
     "text": [
      "Best Training score: 0.908\n",
      "Best parameters set:\n",
      "\tclf__max_depth: 15\n",
      "\tclf__min_samples_leaf: 1\n",
      "\tclf__min_samples_split: 2\n",
      "\tclf__n_estimators: 5000\n"
     ]
    }
   ],
   "source": [
    "print ('Best Training score: %0.3f' % grid_search.best_score_)\n",
    "print ('Best parameters set:')\n",
    "best_parameters = grid_search.best_estimator_.get_params()\n",
    "\n",
    "for param_name in sorted(parameters.keys()):\n",
    "    print ('\\t%s: %r' % (param_name, best_parameters[param_name]))"
   ]
  },
  {
   "cell_type": "code",
   "execution_count": 213,
   "metadata": {},
   "outputs": [],
   "source": [
    "predictions = grid_search.predict(x_test)"
   ]
  },
  {
   "cell_type": "code",
   "execution_count": 215,
   "metadata": {},
   "outputs": [
    {
     "name": "stdout",
     "output_type": "stream",
     "text": [
      "Testing accuracy: 0.8776\n",
      "\n",
      "Complete report of Testingdata\n",
      "               precision    recall  f1-score   support\n",
      "\n",
      "           0       0.88      0.99      0.93       380\n",
      "           1       0.71      0.20      0.31        61\n",
      "\n",
      "    accuracy                           0.88       441\n",
      "   macro avg       0.80      0.59      0.62       441\n",
      "weighted avg       0.86      0.88      0.85       441\n",
      "\n"
     ]
    }
   ],
   "source": [
    "print (\"Testing accuracy:\",round(accuracy_score(y_test,predictions),4))\n",
    "print (\"\\nComplete report of Testingdata\\n\",classification_report(y_test, predictions))"
   ]
  },
  {
   "cell_type": "code",
   "execution_count": 217,
   "metadata": {},
   "outputs": [
    {
     "name": "stdout",
     "output_type": "stream",
     "text": [
      "\n",
      "\n",
      "Random Forest Grid Search- Test Confusion Matrix\n",
      "\n",
      " Predicted    0   1\n",
      "Actuall           \n",
      "0          375   5\n",
      "1           49  12\n"
     ]
    }
   ],
   "source": [
    "print (\"\\n\\nRandom Forest Grid Search- Test Confusion Matrix\\n\\n\",pd.crosstab( y_test, predictions,rownames =[\"Actuall\"],colnames = [\"Predicted\"]))"
   ]
  },
  {
   "cell_type": "code",
   "execution_count": null,
   "metadata": {},
   "outputs": [],
   "source": []
  }
 ],
 "metadata": {
  "kernelspec": {
   "display_name": "Python 3",
   "language": "python",
   "name": "python3"
  },
  "language_info": {
   "codemirror_mode": {
    "name": "ipython",
    "version": 3
   },
   "file_extension": ".py",
   "mimetype": "text/x-python",
   "name": "python",
   "nbconvert_exporter": "python",
   "pygments_lexer": "ipython3",
   "version": "3.7.6"
  }
 },
 "nbformat": 4,
 "nbformat_minor": 4
}
