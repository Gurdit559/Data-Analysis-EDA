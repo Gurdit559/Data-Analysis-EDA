{
 "cells": [
  {
   "cell_type": "code",
   "execution_count": 1,
   "metadata": {},
   "outputs": [],
   "source": [
    "import pandas as pd\n",
    "import seaborn as sns\n",
    "import matplotlib.pyplot as plt\n",
    "import numpy as np"
   ]
  },
  {
   "cell_type": "code",
   "execution_count": 2,
   "metadata": {},
   "outputs": [],
   "source": [
    "df=pd.read_csv(\"transfusion.csv\")"
   ]
  },
  {
   "cell_type": "code",
   "execution_count": 3,
   "metadata": {},
   "outputs": [
    {
     "data": {
      "text/html": [
       "<div>\n",
       "<style scoped>\n",
       "    .dataframe tbody tr th:only-of-type {\n",
       "        vertical-align: middle;\n",
       "    }\n",
       "\n",
       "    .dataframe tbody tr th {\n",
       "        vertical-align: top;\n",
       "    }\n",
       "\n",
       "    .dataframe thead th {\n",
       "        text-align: right;\n",
       "    }\n",
       "</style>\n",
       "<table border=\"1\" class=\"dataframe\">\n",
       "  <thead>\n",
       "    <tr style=\"text-align: right;\">\n",
       "      <th></th>\n",
       "      <th>Recency (months)</th>\n",
       "      <th>Frequency (times)</th>\n",
       "      <th>Monetary (c.c. blood)</th>\n",
       "      <th>Time (months)</th>\n",
       "      <th>whether he/she donated blood in March 2007</th>\n",
       "    </tr>\n",
       "  </thead>\n",
       "  <tbody>\n",
       "    <tr>\n",
       "      <th>0</th>\n",
       "      <td>2</td>\n",
       "      <td>50</td>\n",
       "      <td>12500</td>\n",
       "      <td>98</td>\n",
       "      <td>1</td>\n",
       "    </tr>\n",
       "    <tr>\n",
       "      <th>1</th>\n",
       "      <td>0</td>\n",
       "      <td>13</td>\n",
       "      <td>3250</td>\n",
       "      <td>28</td>\n",
       "      <td>1</td>\n",
       "    </tr>\n",
       "    <tr>\n",
       "      <th>2</th>\n",
       "      <td>1</td>\n",
       "      <td>16</td>\n",
       "      <td>4000</td>\n",
       "      <td>35</td>\n",
       "      <td>1</td>\n",
       "    </tr>\n",
       "    <tr>\n",
       "      <th>3</th>\n",
       "      <td>2</td>\n",
       "      <td>20</td>\n",
       "      <td>5000</td>\n",
       "      <td>45</td>\n",
       "      <td>1</td>\n",
       "    </tr>\n",
       "    <tr>\n",
       "      <th>4</th>\n",
       "      <td>1</td>\n",
       "      <td>24</td>\n",
       "      <td>6000</td>\n",
       "      <td>77</td>\n",
       "      <td>0</td>\n",
       "    </tr>\n",
       "  </tbody>\n",
       "</table>\n",
       "</div>"
      ],
      "text/plain": [
       "   Recency (months)  Frequency (times)  Monetary (c.c. blood)  Time (months)  \\\n",
       "0                 2                 50                  12500             98   \n",
       "1                 0                 13                   3250             28   \n",
       "2                 1                 16                   4000             35   \n",
       "3                 2                 20                   5000             45   \n",
       "4                 1                 24                   6000             77   \n",
       "\n",
       "   whether he/she donated blood in March 2007  \n",
       "0                                           1  \n",
       "1                                           1  \n",
       "2                                           1  \n",
       "3                                           1  \n",
       "4                                           0  "
      ]
     },
     "execution_count": 3,
     "metadata": {},
     "output_type": "execute_result"
    }
   ],
   "source": [
    "df.head()"
   ]
  },
  {
   "cell_type": "markdown",
   "metadata": {},
   "source": [
    "R (Recency - months since last donation),<br>\n",
    "F (Frequency - total number of donation),<br>\n",
    "M (Monetary - total blood donated in c.c.),<br>\n",
    "T (Time - months since first donation), and <br>\n",
    "a binary variable representing whether he/she donated blood in March 2007 (1 stand for donating blood; 0 stands for not donating blood)."
   ]
  },
  {
   "cell_type": "code",
   "execution_count": 4,
   "metadata": {},
   "outputs": [
    {
     "data": {
      "text/plain": [
       "Recency (months)                              0\n",
       "Frequency (times)                             0\n",
       "Monetary (c.c. blood)                         0\n",
       "Time (months)                                 0\n",
       "whether he/she donated blood in March 2007    0\n",
       "dtype: int64"
      ]
     },
     "execution_count": 4,
     "metadata": {},
     "output_type": "execute_result"
    }
   ],
   "source": [
    "df.isnull().sum()"
   ]
  },
  {
   "cell_type": "code",
   "execution_count": 5,
   "metadata": {},
   "outputs": [
    {
     "data": {
      "text/plain": [
       "(748, 5)"
      ]
     },
     "execution_count": 5,
     "metadata": {},
     "output_type": "execute_result"
    }
   ],
   "source": [
    "df.shape"
   ]
  },
  {
   "cell_type": "code",
   "execution_count": 6,
   "metadata": {},
   "outputs": [
    {
     "data": {
      "text/plain": [
       "2     173\n",
       "4     156\n",
       "11     84\n",
       "14     76\n",
       "16     63\n",
       "23     50\n",
       "21     44\n",
       "9      20\n",
       "3      13\n",
       "1       9\n",
       "7       8\n",
       "5       6\n",
       "12      6\n",
       "8       6\n",
       "0       5\n",
       "6       5\n",
       "13      5\n",
       "10      3\n",
       "15      2\n",
       "18      2\n",
       "38      2\n",
       "72      1\n",
       "17      1\n",
       "20      1\n",
       "22      1\n",
       "25      1\n",
       "26      1\n",
       "35      1\n",
       "39      1\n",
       "40      1\n",
       "74      1\n",
       "Name: Recency (months), dtype: int64"
      ]
     },
     "execution_count": 6,
     "metadata": {},
     "output_type": "execute_result"
    }
   ],
   "source": [
    "df[\"Recency (months)\"].value_counts()"
   ]
  },
  {
   "cell_type": "code",
   "execution_count": 7,
   "metadata": {},
   "outputs": [
    {
     "data": {
      "text/plain": [
       "array([[<matplotlib.axes._subplots.AxesSubplot object at 0x000002B9E2986C08>,\n",
       "        <matplotlib.axes._subplots.AxesSubplot object at 0x000002B9E4489788>],\n",
       "       [<matplotlib.axes._subplots.AxesSubplot object at 0x000002B9E44C4588>,\n",
       "        <matplotlib.axes._subplots.AxesSubplot object at 0x000002B9E44FC448>],\n",
       "       [<matplotlib.axes._subplots.AxesSubplot object at 0x000002B9E45352C8>,\n",
       "        <matplotlib.axes._subplots.AxesSubplot object at 0x000002B9E4572148>]],\n",
       "      dtype=object)"
      ]
     },
     "execution_count": 7,
     "metadata": {},
     "output_type": "execute_result"
    },
    {
     "data": {
      "image/png": "[encoded data removed]",
      "text/plain": [
       "<Figure size 432x288 with 6 Axes>"
      ]
     },
     "metadata": {
      "needs_background": "light"
     },
     "output_type": "display_data"
    }
   ],
   "source": [
    "df.hist()"
   ]
  },
  {
   "cell_type": "code",
   "execution_count": 8,
   "metadata": {},
   "outputs": [
    {
     "data": {
      "text/plain": [
       "<seaborn.axisgrid.PairGrid at 0x2b9e4718708>"
      ]
     },
     "execution_count": 8,
     "metadata": {},
     "output_type": "execute_result"
    },
    {
     "data": {
      "image/png": "[encoded data removed]",
      "text/plain": [
       "<Figure size 955.5x720 with 20 Axes>"
      ]
     },
     "metadata": {
      "needs_background": "light"
     },
     "output_type": "display_data"
    }
   ],
   "source": [
    "sns.pairplot(df,hue=\"whether he/she donated blood in March 2007\")"
   ]
  },
  {
   "cell_type": "code",
   "execution_count": 9,
   "metadata": {},
   "outputs": [],
   "source": [
    "### we can see how overlapped the data is which indicates that KNN will be a better option than Logistic Regression"
   ]
  },
  {
   "cell_type": "code",
   "execution_count": 10,
   "metadata": {},
   "outputs": [
    {
     "data": {
      "text/plain": [
       "Index(['Recency (months)', 'Frequency (times)', 'Monetary (c.c. blood)',\n",
       "       'Time (months)', 'whether he/she donated blood in March 2007'],\n",
       "      dtype='object')"
      ]
     },
     "execution_count": 10,
     "metadata": {},
     "output_type": "execute_result"
    }
   ],
   "source": [
    "df.columns"
   ]
  },
  {
   "cell_type": "markdown",
   "metadata": {},
   "source": [
    "### Recency(months)"
   ]
  },
  {
   "cell_type": "code",
   "execution_count": 11,
   "metadata": {},
   "outputs": [
    {
     "data": {
      "text/plain": [
       "<matplotlib.axes._subplots.AxesSubplot at 0x2b9e5348688>"
      ]
     },
     "execution_count": 11,
     "metadata": {},
     "output_type": "execute_result"
    },
    {
     "data": {
      "image/png": "[encoded data removed]",
      "text/plain": [
       "<Figure size 432x288 with 1 Axes>"
      ]
     },
     "metadata": {
      "needs_background": "light"
     },
     "output_type": "display_data"
    }
   ],
   "source": [
    "sns.distplot(df[\"Recency (months)\"],kde=True,rug=\"True\")"
   ]
  },
  {
   "cell_type": "code",
   "execution_count": 12,
   "metadata": {},
   "outputs": [
    {
     "data": {
      "text/plain": [
       "1.8804635327038797"
      ]
     },
     "execution_count": 12,
     "metadata": {},
     "output_type": "execute_result"
    }
   ],
   "source": [
    "df[\"Recency (months)\"].skew() #scaling is required"
   ]
  },
  {
   "cell_type": "code",
   "execution_count": 13,
   "metadata": {},
   "outputs": [
    {
     "data": {
      "text/plain": [
       "<matplotlib.axes._subplots.AxesSubplot at 0x2b9e5703188>"
      ]
     },
     "execution_count": 13,
     "metadata": {},
     "output_type": "execute_result"
    },
    {
     "data": {
      "image/png": "[encoded data removed]",
      "text/plain": [
       "<Figure size 432x288 with 1 Axes>"
      ]
     },
     "metadata": {
      "needs_background": "light"
     },
     "output_type": "display_data"
    }
   ],
   "source": [
    "sns.boxplot(df[\"Recency (months)\"],orient=\"v\")"
   ]
  },
  {
   "cell_type": "code",
   "execution_count": 14,
   "metadata": {},
   "outputs": [],
   "source": [
    "#Outliers are present"
   ]
  },
  {
   "cell_type": "markdown",
   "metadata": {},
   "source": [
    "### Frequency (times)"
   ]
  },
  {
   "cell_type": "code",
   "execution_count": 15,
   "metadata": {},
   "outputs": [
    {
     "data": {
      "text/plain": [
       "<matplotlib.axes._subplots.AxesSubplot at 0x2b9e50206c8>"
      ]
     },
     "execution_count": 15,
     "metadata": {},
     "output_type": "execute_result"
    },
    {
     "data": {
      "image/png": "[encoded data removed]",
      "text/plain": [
       "<Figure size 432x288 with 1 Axes>"
      ]
     },
     "metadata": {
      "needs_background": "light"
     },
     "output_type": "display_data"
    }
   ],
   "source": [
    "sns.distplot(df['Frequency (times)'],kde=True,rug=True)"
   ]
  },
  {
   "cell_type": "code",
   "execution_count": 16,
   "metadata": {},
   "outputs": [
    {
     "data": {
      "text/plain": [
       "3.2112654741848314"
      ]
     },
     "execution_count": 16,
     "metadata": {},
     "output_type": "execute_result"
    }
   ],
   "source": [
    "df['Frequency (times)'].skew() # highly possitively skewed scaling required"
   ]
  },
  {
   "cell_type": "code",
   "execution_count": 17,
   "metadata": {},
   "outputs": [
    {
     "data": {
      "text/plain": [
       "<matplotlib.axes._subplots.AxesSubplot at 0x2b9e5888288>"
      ]
     },
     "execution_count": 17,
     "metadata": {},
     "output_type": "execute_result"
    },
    {
     "data": {
      "image/png": "[encoded data removed]",
      "text/plain": [
       "<Figure size 432x288 with 1 Axes>"
      ]
     },
     "metadata": {
      "needs_background": "light"
     },
     "output_type": "display_data"
    }
   ],
   "source": [
    "sns.boxplot(df['Frequency (times)'],orient=\"v\")# many outliers present"
   ]
  },
  {
   "cell_type": "code",
   "execution_count": 18,
   "metadata": {},
   "outputs": [
    {
     "data": {
      "text/plain": [
       "1     158\n",
       "2     112\n",
       "3      87\n",
       "4      62\n",
       "5      62\n",
       "6      52\n",
       "7      43\n",
       "8      31\n",
       "9      24\n",
       "11     22\n",
       "10     14\n",
       "12     14\n",
       "16     13\n",
       "14     13\n",
       "13      9\n",
       "15      6\n",
       "17      4\n",
       "24      3\n",
       "19      2\n",
       "20      2\n",
       "21      2\n",
       "22      2\n",
       "46      1\n",
       "18      1\n",
       "23      1\n",
       "26      1\n",
       "33      1\n",
       "34      1\n",
       "38      1\n",
       "41      1\n",
       "43      1\n",
       "44      1\n",
       "50      1\n",
       "Name: Frequency (times), dtype: int64"
      ]
     },
     "execution_count": 18,
     "metadata": {},
     "output_type": "execute_result"
    }
   ],
   "source": [
    "df['Frequency (times)'].value_counts() # majority of the people have donation frequency within 1 and 5"
   ]
  },
  {
   "cell_type": "markdown",
   "metadata": {},
   "source": [
    "### Monetary (c.c. blood)"
   ]
  },
  {
   "cell_type": "code",
   "execution_count": 19,
   "metadata": {},
   "outputs": [
    {
     "data": {
      "text/plain": [
       "<matplotlib.axes._subplots.AxesSubplot at 0x2b9e58edf08>"
      ]
     },
     "execution_count": 19,
     "metadata": {},
     "output_type": "execute_result"
    },
    {
     "data": {
      "image/png": "[encoded data removed]",
      "text/plain": [
       "<Figure size 432x288 with 1 Axes>"
      ]
     },
     "metadata": {
      "needs_background": "light"
     },
     "output_type": "display_data"
    }
   ],
   "source": [
    "sns.distplot(df['Monetary (c.c. blood)'],kde=True,rug=True)"
   ]
  },
  {
   "cell_type": "code",
   "execution_count": 20,
   "metadata": {},
   "outputs": [
    {
     "data": {
      "text/plain": [
       "3.2112654741848305"
      ]
     },
     "execution_count": 20,
     "metadata": {},
     "output_type": "execute_result"
    }
   ],
   "source": [
    "df['Monetary (c.c. blood)'].skew() # highly possitively skewed"
   ]
  },
  {
   "cell_type": "code",
   "execution_count": 21,
   "metadata": {},
   "outputs": [
    {
     "data": {
      "text/plain": [
       "<matplotlib.axes._subplots.AxesSubplot at 0x2b9e5a530c8>"
      ]
     },
     "execution_count": 21,
     "metadata": {},
     "output_type": "execute_result"
    },
    {
     "data": {
      "image/png": "[encoded data removed]",
      "text/plain": [
       "<Figure size 432x288 with 1 Axes>"
      ]
     },
     "metadata": {
      "needs_background": "light"
     },
     "output_type": "display_data"
    }
   ],
   "source": [
    "sns.boxplot(df['Monetary (c.c. blood)'],orient=\"v\") # people who have more frequency of donations will have more monetary cc blood donated"
   ]
  },
  {
   "cell_type": "markdown",
   "metadata": {},
   "source": [
    "### Time (months)"
   ]
  },
  {
   "cell_type": "code",
   "execution_count": 22,
   "metadata": {},
   "outputs": [
    {
     "data": {
      "text/plain": [
       "<matplotlib.axes._subplots.AxesSubplot at 0x2b9e6a8a188>"
      ]
     },
     "execution_count": 22,
     "metadata": {},
     "output_type": "execute_result"
    },
    {
     "data": {
      "image/png": "[encoded data removed]",
      "text/plain": [
       "<Figure size 432x288 with 1 Axes>"
      ]
     },
     "metadata": {
      "needs_background": "light"
     },
     "output_type": "display_data"
    }
   ],
   "source": [
    "sns.distplot(df['Time (months)'],kde=True,rug=True)"
   ]
  },
  {
   "cell_type": "code",
   "execution_count": 23,
   "metadata": {},
   "outputs": [
    {
     "data": {
      "text/plain": [
       "0.7494502906271294"
      ]
     },
     "execution_count": 23,
     "metadata": {},
     "output_type": "execute_result"
    }
   ],
   "source": [
    "df['Time (months)'].skew() #approx normal"
   ]
  },
  {
   "cell_type": "code",
   "execution_count": 24,
   "metadata": {},
   "outputs": [
    {
     "data": {
      "text/plain": [
       "<matplotlib.axes._subplots.AxesSubplot at 0x2b9e6b7c788>"
      ]
     },
     "execution_count": 24,
     "metadata": {},
     "output_type": "execute_result"
    },
    {
     "data": {
      "image/png": "[encoded data removed]",
      "text/plain": [
       "<Figure size 432x288 with 1 Axes>"
      ]
     },
     "metadata": {
      "needs_background": "light"
     },
     "output_type": "display_data"
    }
   ],
   "source": [
    "sns.boxplot(df['Time (months)'],orient=\"v\")"
   ]
  },
  {
   "cell_type": "code",
   "execution_count": 25,
   "metadata": {},
   "outputs": [
    {
     "data": {
      "text/plain": [
       "28.0"
      ]
     },
     "execution_count": 25,
     "metadata": {},
     "output_type": "execute_result"
    }
   ],
   "source": [
    "df['Time (months)'].median() "
   ]
  },
  {
   "cell_type": "code",
   "execution_count": 26,
   "metadata": {},
   "outputs": [
    {
     "data": {
      "text/plain": [
       "4     57\n",
       "16    51\n",
       "14    44\n",
       "2     36\n",
       "23    36\n",
       "28    35\n",
       "26    33\n",
       "11    31\n",
       "35    30\n",
       "21    28\n",
       "Name: Time (months), dtype: int64"
      ]
     },
     "execution_count": 26,
     "metadata": {},
     "output_type": "execute_result"
    }
   ],
   "source": [
    "df['Time (months)'].value_counts().sort_values(ascending=False).head(10)"
   ]
  },
  {
   "cell_type": "markdown",
   "metadata": {},
   "source": [
    "### whether he/she donated blood in March 2007"
   ]
  },
  {
   "cell_type": "code",
   "execution_count": 27,
   "metadata": {},
   "outputs": [
    {
     "data": {
      "text/plain": [
       "<matplotlib.axes._subplots.AxesSubplot at 0x2b9e6beaf08>"
      ]
     },
     "execution_count": 27,
     "metadata": {},
     "output_type": "execute_result"
    },
    {
     "data": {
      "image/png": "[encoded data removed]",
      "text/plain": [
       "<Figure size 432x288 with 1 Axes>"
      ]
     },
     "metadata": {
      "needs_background": "light"
     },
     "output_type": "display_data"
    }
   ],
   "source": [
    "sns.countplot(df[\"whether he/she donated blood in March 2007\"],hue=df[\"whether he/she donated blood in March 2007\"])"
   ]
  },
  {
   "cell_type": "code",
   "execution_count": 28,
   "metadata": {},
   "outputs": [
    {
     "data": {
      "text/plain": [
       "0    570\n",
       "1    178\n",
       "Name: whether he/she donated blood in March 2007, dtype: int64"
      ]
     },
     "execution_count": 28,
     "metadata": {},
     "output_type": "execute_result"
    }
   ],
   "source": [
    "df[\"whether he/she donated blood in March 2007\"].value_counts()"
   ]
  },
  {
   "cell_type": "code",
   "execution_count": 29,
   "metadata": {},
   "outputs": [],
   "source": [
    "### most people did not donate blood in march 2007"
   ]
  },
  {
   "cell_type": "code",
   "execution_count": 30,
   "metadata": {},
   "outputs": [
    {
     "data": {
      "text/plain": [
       "<matplotlib.axes._subplots.AxesSubplot at 0x2b9e6c45408>"
      ]
     },
     "execution_count": 30,
     "metadata": {},
     "output_type": "execute_result"
    },
    {
     "data": {
      "image/png": "[encoded data removed]",
      "text/plain": [
       "<Figure size 936x432 with 1 Axes>"
      ]
     },
     "metadata": {
      "needs_background": "light"
     },
     "output_type": "display_data"
    }
   ],
   "source": [
    "plt.figure(figsize=(13,6))\n",
    "sns.countplot(df['Recency (months)'],hue=df['whether he/she donated blood in March 2007'])"
   ]
  },
  {
   "cell_type": "markdown",
   "metadata": {},
   "source": [
    " people who have donated 35 to 74 months ago havent donated on march 2007<br>\n",
    " count of people who have donated 2 to 4 months ago have high number donation on march 2007"
   ]
  },
  {
   "cell_type": "code",
   "execution_count": 31,
   "metadata": {},
   "outputs": [
    {
     "data": {
      "text/plain": [
       "<matplotlib.axes._subplots.AxesSubplot at 0x2b9e6c4cdc8>"
      ]
     },
     "execution_count": 31,
     "metadata": {},
     "output_type": "execute_result"
    },
    {
     "data": {
      "image/png": "[encoded data removed]",
      "text/plain": [
       "<Figure size 936x432 with 1 Axes>"
      ]
     },
     "metadata": {
      "needs_background": "light"
     },
     "output_type": "display_data"
    }
   ],
   "source": [
    "plt.figure(figsize=(13,6))\n",
    "sns.countplot(df['Frequency (times)'],hue=df['whether he/she donated blood in March 2007'])"
   ]
  },
  {
   "cell_type": "code",
   "execution_count": 32,
   "metadata": {},
   "outputs": [
    {
     "data": {
      "text/plain": [
       "<matplotlib.axes._subplots.AxesSubplot at 0x2b9e6c765c8>"
      ]
     },
     "execution_count": 32,
     "metadata": {},
     "output_type": "execute_result"
    },
    {
     "data": {
      "image/png": "[encoded data removed]",
      "text/plain": [
       "<Figure size 864x432 with 1 Axes>"
      ]
     },
     "metadata": {
      "needs_background": "light"
     },
     "output_type": "display_data"
    }
   ],
   "source": [
    "plt.figure(figsize=(12,6))\n",
    "sns.boxplot(df['whether he/she donated blood in March 2007'],df['Recency (months)'],hue=df['whether he/she donated blood in March 2007'])\n"
   ]
  },
  {
   "cell_type": "markdown",
   "metadata": {},
   "source": [
    "Most people who have donated recently within 10 months have donated on March 2007"
   ]
  },
  {
   "cell_type": "code",
   "execution_count": 33,
   "metadata": {},
   "outputs": [
    {
     "data": {
      "text/plain": [
       "<matplotlib.axes._subplots.AxesSubplot at 0x2b9e70df148>"
      ]
     },
     "execution_count": 33,
     "metadata": {},
     "output_type": "execute_result"
    },
    {
     "data": {
      "image/png": "[encoded data removed]",
      "text/plain": [
       "<Figure size 864x432 with 1 Axes>"
      ]
     },
     "metadata": {
      "needs_background": "light"
     },
     "output_type": "display_data"
    }
   ],
   "source": [
    "plt.figure(figsize=(12,6))\n",
    "sns.boxplot(df['whether he/she donated blood in March 2007'],df['Frequency (times)'],hue=df['whether he/she donated blood in March 2007'])\n"
   ]
  },
  {
   "cell_type": "markdown",
   "metadata": {},
   "source": [
    "Most people who have lower frequency of donations say less than 5 have not donated on march 2007"
   ]
  },
  {
   "cell_type": "code",
   "execution_count": 34,
   "metadata": {},
   "outputs": [
    {
     "data": {
      "text/plain": [
       "<matplotlib.axes._subplots.AxesSubplot at 0x2b9e73a9248>"
      ]
     },
     "execution_count": 34,
     "metadata": {},
     "output_type": "execute_result"
    },
    {
     "data": {
      "image/png": "[encoded data removed]",
      "text/plain": [
       "<Figure size 864x432 with 1 Axes>"
      ]
     },
     "metadata": {
      "needs_background": "light"
     },
     "output_type": "display_data"
    }
   ],
   "source": [
    "plt.figure(figsize=(12,6))\n",
    "sns.boxplot(df['whether he/she donated blood in March 2007'],df['Time (months)'],hue=df['whether he/she donated blood in March 2007'])\n",
    "#not that important feature"
   ]
  },
  {
   "cell_type": "code",
   "execution_count": null,
   "metadata": {},
   "outputs": [],
   "source": []
  },
  {
   "cell_type": "code",
   "execution_count": 35,
   "metadata": {},
   "outputs": [
    {
     "data": {
      "text/plain": [
       "Index(['Recency (months)', 'Frequency (times)', 'Monetary (c.c. blood)',\n",
       "       'Time (months)', 'whether he/she donated blood in March 2007'],\n",
       "      dtype='object')"
      ]
     },
     "execution_count": 35,
     "metadata": {},
     "output_type": "execute_result"
    }
   ],
   "source": [
    "df.columns"
   ]
  },
  {
   "cell_type": "code",
   "execution_count": null,
   "metadata": {},
   "outputs": [],
   "source": []
  },
  {
   "cell_type": "code",
   "execution_count": null,
   "metadata": {},
   "outputs": [],
   "source": []
  },
  {
   "cell_type": "code",
   "execution_count": 36,
   "metadata": {},
   "outputs": [],
   "source": [
    "from scipy import stats"
   ]
  },
  {
   "cell_type": "code",
   "execution_count": 37,
   "metadata": {},
   "outputs": [],
   "source": [
    "df['Recency (months)']=stats.yeojohnson(df['Recency (months)'])[0]"
   ]
  },
  {
   "cell_type": "code",
   "execution_count": 38,
   "metadata": {},
   "outputs": [
    {
     "data": {
      "text/plain": [
       "-0.004926997779309387"
      ]
     },
     "execution_count": 38,
     "metadata": {},
     "output_type": "execute_result"
    }
   ],
   "source": [
    "df['Recency (months)'].skew()"
   ]
  },
  {
   "cell_type": "code",
   "execution_count": 39,
   "metadata": {},
   "outputs": [
    {
     "data": {
      "text/plain": [
       "<matplotlib.axes._subplots.AxesSubplot at 0x2b9e7435a48>"
      ]
     },
     "execution_count": 39,
     "metadata": {},
     "output_type": "execute_result"
    },
    {
     "data": {
      "image/png": "[encoded data removed]",
      "text/plain": [
       "<Figure size 432x288 with 1 Axes>"
      ]
     },
     "metadata": {
      "needs_background": "light"
     },
     "output_type": "display_data"
    }
   ],
   "source": [
    "sns.distplot(df[\"Recency (months)\"],kde=True,rug=True)"
   ]
  },
  {
   "cell_type": "code",
   "execution_count": 40,
   "metadata": {},
   "outputs": [
    {
     "data": {
      "text/plain": [
       "<matplotlib.axes._subplots.AxesSubplot at 0x2b9e76ad6c8>"
      ]
     },
     "execution_count": 40,
     "metadata": {},
     "output_type": "execute_result"
    },
    {
     "data": {
      "image/png": "[encoded data removed]",
      "text/plain": [
       "<Figure size 432x288 with 2 Axes>"
      ]
     },
     "metadata": {
      "needs_background": "light"
     },
     "output_type": "display_data"
    }
   ],
   "source": [
    "sns.heatmap(df.corr(),annot=True)"
   ]
  },
  {
   "cell_type": "code",
   "execution_count": 41,
   "metadata": {},
   "outputs": [],
   "source": [
    "import statsmodels.formula.api as smf"
   ]
  },
  {
   "cell_type": "code",
   "execution_count": 42,
   "metadata": {},
   "outputs": [],
   "source": [
    "def vif_cal(input_data, dependent_col):\n",
    "    x_vars=input_data.drop([dependent_col], axis=1)\n",
    "    xvar_names=x_vars.columns\n",
    "    for i in range(0, xvar_names.shape[0]):\n",
    "        y=x_vars[xvar_names[i]] \n",
    "        x=x_vars[xvar_names.drop(xvar_names[i])]\n",
    "        rsq=smf.ols(formula='y~x', data=x_vars).fit().rsquared  \n",
    "        vif=round(1/(1-rsq),2)\n",
    "        print( \" VIF score for\", xvar_names[i], \"is:\" , vif)"
   ]
  },
  {
   "cell_type": "code",
   "execution_count": 43,
   "metadata": {},
   "outputs": [
    {
     "name": "stdout",
     "output_type": "stream",
     "text": [
      " VIF score for Recency (months) is: 1.18\n",
      " VIF score for Frequency (times) is: inf\n",
      " VIF score for Monetary (c.c. blood) is: inf\n",
      " VIF score for Time (months) is: 1.91\n"
     ]
    },
    {
     "name": "stderr",
     "output_type": "stream",
     "text": [
      "C:\\Users\\gurdit\\Anaconda3\\lib\\site-packages\\ipykernel_launcher.py:8: RuntimeWarning: divide by zero encountered in double_scalars\n",
      "  \n"
     ]
    }
   ],
   "source": [
    "vif_cal(df, 'whether he/she donated blood in March 2007')"
   ]
  },
  {
   "cell_type": "code",
   "execution_count": 44,
   "metadata": {},
   "outputs": [],
   "source": [
    "#we can drop either of frequency or Monetary from out data because they are high ly correlated with each other and same correlation with the target variable"
   ]
  },
  {
   "cell_type": "code",
   "execution_count": 45,
   "metadata": {},
   "outputs": [
    {
     "data": {
      "text/html": [
       "<div>\n",
       "<style scoped>\n",
       "    .dataframe tbody tr th:only-of-type {\n",
       "        vertical-align: middle;\n",
       "    }\n",
       "\n",
       "    .dataframe tbody tr th {\n",
       "        vertical-align: top;\n",
       "    }\n",
       "\n",
       "    .dataframe thead th {\n",
       "        text-align: right;\n",
       "    }\n",
       "</style>\n",
       "<table border=\"1\" class=\"dataframe\">\n",
       "  <thead>\n",
       "    <tr style=\"text-align: right;\">\n",
       "      <th></th>\n",
       "      <th>Recency (months)</th>\n",
       "      <th>Frequency (times)</th>\n",
       "      <th>Monetary (c.c. blood)</th>\n",
       "      <th>Time (months)</th>\n",
       "      <th>whether he/she donated blood in March 2007</th>\n",
       "    </tr>\n",
       "  </thead>\n",
       "  <tbody>\n",
       "    <tr>\n",
       "      <th>0</th>\n",
       "      <td>1.108507</td>\n",
       "      <td>50</td>\n",
       "      <td>12500</td>\n",
       "      <td>98</td>\n",
       "      <td>1</td>\n",
       "    </tr>\n",
       "    <tr>\n",
       "      <th>1</th>\n",
       "      <td>0.000000</td>\n",
       "      <td>13</td>\n",
       "      <td>3250</td>\n",
       "      <td>28</td>\n",
       "      <td>1</td>\n",
       "    </tr>\n",
       "    <tr>\n",
       "      <th>2</th>\n",
       "      <td>0.697077</td>\n",
       "      <td>16</td>\n",
       "      <td>4000</td>\n",
       "      <td>35</td>\n",
       "      <td>1</td>\n",
       "    </tr>\n",
       "    <tr>\n",
       "      <th>3</th>\n",
       "      <td>1.108507</td>\n",
       "      <td>20</td>\n",
       "      <td>5000</td>\n",
       "      <td>45</td>\n",
       "      <td>1</td>\n",
       "    </tr>\n",
       "    <tr>\n",
       "      <th>4</th>\n",
       "      <td>0.697077</td>\n",
       "      <td>24</td>\n",
       "      <td>6000</td>\n",
       "      <td>77</td>\n",
       "      <td>0</td>\n",
       "    </tr>\n",
       "  </tbody>\n",
       "</table>\n",
       "</div>"
      ],
      "text/plain": [
       "   Recency (months)  Frequency (times)  Monetary (c.c. blood)  Time (months)  \\\n",
       "0          1.108507                 50                  12500             98   \n",
       "1          0.000000                 13                   3250             28   \n",
       "2          0.697077                 16                   4000             35   \n",
       "3          1.108507                 20                   5000             45   \n",
       "4          0.697077                 24                   6000             77   \n",
       "\n",
       "   whether he/she donated blood in March 2007  \n",
       "0                                           1  \n",
       "1                                           1  \n",
       "2                                           1  \n",
       "3                                           1  \n",
       "4                                           0  "
      ]
     },
     "execution_count": 45,
     "metadata": {},
     "output_type": "execute_result"
    }
   ],
   "source": [
    "df.head()"
   ]
  },
  {
   "cell_type": "code",
   "execution_count": 46,
   "metadata": {},
   "outputs": [],
   "source": [
    "## apply log transformation on Frequency(times)"
   ]
  },
  {
   "cell_type": "code",
   "execution_count": 47,
   "metadata": {},
   "outputs": [],
   "source": [
    "b=np.log(df[\"Frequency (times)\"])"
   ]
  },
  {
   "cell_type": "code",
   "execution_count": 48,
   "metadata": {},
   "outputs": [
    {
     "data": {
      "text/plain": [
       "0.12890491849662614"
      ]
     },
     "execution_count": 48,
     "metadata": {},
     "output_type": "execute_result"
    }
   ],
   "source": [
    "pd.Series(b).skew()"
   ]
  },
  {
   "cell_type": "code",
   "execution_count": 49,
   "metadata": {},
   "outputs": [],
   "source": [
    "#df[\"Frequency (times)\"]=np.log(df[\"Frequency (times)\"])"
   ]
  },
  {
   "cell_type": "code",
   "execution_count": 50,
   "metadata": {},
   "outputs": [],
   "source": [
    "#df.head()"
   ]
  },
  {
   "cell_type": "code",
   "execution_count": 51,
   "metadata": {},
   "outputs": [
    {
     "data": {
      "text/html": [
       "<div>\n",
       "<style scoped>\n",
       "    .dataframe tbody tr th:only-of-type {\n",
       "        vertical-align: middle;\n",
       "    }\n",
       "\n",
       "    .dataframe tbody tr th {\n",
       "        vertical-align: top;\n",
       "    }\n",
       "\n",
       "    .dataframe thead th {\n",
       "        text-align: right;\n",
       "    }\n",
       "</style>\n",
       "<table border=\"1\" class=\"dataframe\">\n",
       "  <thead>\n",
       "    <tr style=\"text-align: right;\">\n",
       "      <th></th>\n",
       "      <th>Recency (months)</th>\n",
       "      <th>Frequency (times)</th>\n",
       "      <th>Monetary (c.c. blood)</th>\n",
       "      <th>Time (months)</th>\n",
       "      <th>whether he/she donated blood in March 2007</th>\n",
       "    </tr>\n",
       "  </thead>\n",
       "  <tbody>\n",
       "    <tr>\n",
       "      <th>0</th>\n",
       "      <td>1.108507</td>\n",
       "      <td>50</td>\n",
       "      <td>12500</td>\n",
       "      <td>98</td>\n",
       "      <td>1</td>\n",
       "    </tr>\n",
       "    <tr>\n",
       "      <th>1</th>\n",
       "      <td>0.000000</td>\n",
       "      <td>13</td>\n",
       "      <td>3250</td>\n",
       "      <td>28</td>\n",
       "      <td>1</td>\n",
       "    </tr>\n",
       "    <tr>\n",
       "      <th>2</th>\n",
       "      <td>0.697077</td>\n",
       "      <td>16</td>\n",
       "      <td>4000</td>\n",
       "      <td>35</td>\n",
       "      <td>1</td>\n",
       "    </tr>\n",
       "    <tr>\n",
       "      <th>3</th>\n",
       "      <td>1.108507</td>\n",
       "      <td>20</td>\n",
       "      <td>5000</td>\n",
       "      <td>45</td>\n",
       "      <td>1</td>\n",
       "    </tr>\n",
       "    <tr>\n",
       "      <th>4</th>\n",
       "      <td>0.697077</td>\n",
       "      <td>24</td>\n",
       "      <td>6000</td>\n",
       "      <td>77</td>\n",
       "      <td>0</td>\n",
       "    </tr>\n",
       "  </tbody>\n",
       "</table>\n",
       "</div>"
      ],
      "text/plain": [
       "   Recency (months)  Frequency (times)  Monetary (c.c. blood)  Time (months)  \\\n",
       "0          1.108507                 50                  12500             98   \n",
       "1          0.000000                 13                   3250             28   \n",
       "2          0.697077                 16                   4000             35   \n",
       "3          1.108507                 20                   5000             45   \n",
       "4          0.697077                 24                   6000             77   \n",
       "\n",
       "   whether he/she donated blood in March 2007  \n",
       "0                                           1  \n",
       "1                                           1  \n",
       "2                                           1  \n",
       "3                                           1  \n",
       "4                                           0  "
      ]
     },
     "execution_count": 51,
     "metadata": {},
     "output_type": "execute_result"
    }
   ],
   "source": [
    "df.head()"
   ]
  },
  {
   "cell_type": "code",
   "execution_count": 52,
   "metadata": {},
   "outputs": [],
   "source": [
    "df[\"Frequency (times)\"]=stats.yeojohnson(df['Frequency (times)'])[0]"
   ]
  },
  {
   "cell_type": "code",
   "execution_count": 53,
   "metadata": {},
   "outputs": [
    {
     "data": {
      "text/plain": [
       "0.06548211866601183"
      ]
     },
     "execution_count": 53,
     "metadata": {},
     "output_type": "execute_result"
    }
   ],
   "source": [
    "df[\"Frequency (times)\"].skew()"
   ]
  },
  {
   "cell_type": "code",
   "execution_count": 54,
   "metadata": {},
   "outputs": [
    {
     "data": {
      "text/html": [
       "<div>\n",
       "<style scoped>\n",
       "    .dataframe tbody tr th:only-of-type {\n",
       "        vertical-align: middle;\n",
       "    }\n",
       "\n",
       "    .dataframe tbody tr th {\n",
       "        vertical-align: top;\n",
       "    }\n",
       "\n",
       "    .dataframe thead th {\n",
       "        text-align: right;\n",
       "    }\n",
       "</style>\n",
       "<table border=\"1\" class=\"dataframe\">\n",
       "  <thead>\n",
       "    <tr style=\"text-align: right;\">\n",
       "      <th></th>\n",
       "      <th>Recency (months)</th>\n",
       "      <th>Frequency (times)</th>\n",
       "      <th>Monetary (c.c. blood)</th>\n",
       "      <th>Time (months)</th>\n",
       "      <th>whether he/she donated blood in March 2007</th>\n",
       "    </tr>\n",
       "  </thead>\n",
       "  <tbody>\n",
       "    <tr>\n",
       "      <th>0</th>\n",
       "      <td>1.108507</td>\n",
       "      <td>2.310289</td>\n",
       "      <td>12500</td>\n",
       "      <td>98</td>\n",
       "      <td>1</td>\n",
       "    </tr>\n",
       "    <tr>\n",
       "      <th>1</th>\n",
       "      <td>0.000000</td>\n",
       "      <td>1.824072</td>\n",
       "      <td>3250</td>\n",
       "      <td>28</td>\n",
       "      <td>1</td>\n",
       "    </tr>\n",
       "    <tr>\n",
       "      <th>2</th>\n",
       "      <td>0.697077</td>\n",
       "      <td>1.909632</td>\n",
       "      <td>4000</td>\n",
       "      <td>35</td>\n",
       "      <td>1</td>\n",
       "    </tr>\n",
       "    <tr>\n",
       "      <th>3</th>\n",
       "      <td>1.108507</td>\n",
       "      <td>1.997267</td>\n",
       "      <td>5000</td>\n",
       "      <td>45</td>\n",
       "      <td>1</td>\n",
       "    </tr>\n",
       "    <tr>\n",
       "      <th>4</th>\n",
       "      <td>0.697077</td>\n",
       "      <td>2.065513</td>\n",
       "      <td>6000</td>\n",
       "      <td>77</td>\n",
       "      <td>0</td>\n",
       "    </tr>\n",
       "  </tbody>\n",
       "</table>\n",
       "</div>"
      ],
      "text/plain": [
       "   Recency (months)  Frequency (times)  Monetary (c.c. blood)  Time (months)  \\\n",
       "0          1.108507           2.310289                  12500             98   \n",
       "1          0.000000           1.824072                   3250             28   \n",
       "2          0.697077           1.909632                   4000             35   \n",
       "3          1.108507           1.997267                   5000             45   \n",
       "4          0.697077           2.065513                   6000             77   \n",
       "\n",
       "   whether he/she donated blood in March 2007  \n",
       "0                                           1  \n",
       "1                                           1  \n",
       "2                                           1  \n",
       "3                                           1  \n",
       "4                                           0  "
      ]
     },
     "execution_count": 54,
     "metadata": {},
     "output_type": "execute_result"
    }
   ],
   "source": [
    "df.head()"
   ]
  },
  {
   "cell_type": "code",
   "execution_count": 55,
   "metadata": {},
   "outputs": [
    {
     "data": {
      "text/plain": [
       "<matplotlib.axes._subplots.AxesSubplot at 0x2b9e859c188>"
      ]
     },
     "execution_count": 55,
     "metadata": {},
     "output_type": "execute_result"
    },
    {
     "data": {
      "image/png": "[encoded data removed]",
      "text/plain": [
       "<Figure size 432x288 with 1 Axes>"
      ]
     },
     "metadata": {
      "needs_background": "light"
     },
     "output_type": "display_data"
    }
   ],
   "source": [
    "sns.distplot(df[\"Frequency (times)\"])"
   ]
  },
  {
   "cell_type": "code",
   "execution_count": 56,
   "metadata": {},
   "outputs": [],
   "source": [
    "#df[\"Monetary (c.c. blood)\"]=stats.yeojohnson(df[\"Monetary (c.c. blood)\"])[0]"
   ]
  },
  {
   "cell_type": "code",
   "execution_count": 57,
   "metadata": {},
   "outputs": [
    {
     "data": {
      "text/html": [
       "<div>\n",
       "<style scoped>\n",
       "    .dataframe tbody tr th:only-of-type {\n",
       "        vertical-align: middle;\n",
       "    }\n",
       "\n",
       "    .dataframe tbody tr th {\n",
       "        vertical-align: top;\n",
       "    }\n",
       "\n",
       "    .dataframe thead th {\n",
       "        text-align: right;\n",
       "    }\n",
       "</style>\n",
       "<table border=\"1\" class=\"dataframe\">\n",
       "  <thead>\n",
       "    <tr style=\"text-align: right;\">\n",
       "      <th></th>\n",
       "      <th>Recency (months)</th>\n",
       "      <th>Frequency (times)</th>\n",
       "      <th>Monetary (c.c. blood)</th>\n",
       "      <th>Time (months)</th>\n",
       "      <th>whether he/she donated blood in March 2007</th>\n",
       "    </tr>\n",
       "  </thead>\n",
       "  <tbody>\n",
       "    <tr>\n",
       "      <th>0</th>\n",
       "      <td>1.108507</td>\n",
       "      <td>2.310289</td>\n",
       "      <td>12500</td>\n",
       "      <td>98</td>\n",
       "      <td>1</td>\n",
       "    </tr>\n",
       "    <tr>\n",
       "      <th>1</th>\n",
       "      <td>0.000000</td>\n",
       "      <td>1.824072</td>\n",
       "      <td>3250</td>\n",
       "      <td>28</td>\n",
       "      <td>1</td>\n",
       "    </tr>\n",
       "    <tr>\n",
       "      <th>2</th>\n",
       "      <td>0.697077</td>\n",
       "      <td>1.909632</td>\n",
       "      <td>4000</td>\n",
       "      <td>35</td>\n",
       "      <td>1</td>\n",
       "    </tr>\n",
       "    <tr>\n",
       "      <th>3</th>\n",
       "      <td>1.108507</td>\n",
       "      <td>1.997267</td>\n",
       "      <td>5000</td>\n",
       "      <td>45</td>\n",
       "      <td>1</td>\n",
       "    </tr>\n",
       "    <tr>\n",
       "      <th>4</th>\n",
       "      <td>0.697077</td>\n",
       "      <td>2.065513</td>\n",
       "      <td>6000</td>\n",
       "      <td>77</td>\n",
       "      <td>0</td>\n",
       "    </tr>\n",
       "  </tbody>\n",
       "</table>\n",
       "</div>"
      ],
      "text/plain": [
       "   Recency (months)  Frequency (times)  Monetary (c.c. blood)  Time (months)  \\\n",
       "0          1.108507           2.310289                  12500             98   \n",
       "1          0.000000           1.824072                   3250             28   \n",
       "2          0.697077           1.909632                   4000             35   \n",
       "3          1.108507           1.997267                   5000             45   \n",
       "4          0.697077           2.065513                   6000             77   \n",
       "\n",
       "   whether he/she donated blood in March 2007  \n",
       "0                                           1  \n",
       "1                                           1  \n",
       "2                                           1  \n",
       "3                                           1  \n",
       "4                                           0  "
      ]
     },
     "execution_count": 57,
     "metadata": {},
     "output_type": "execute_result"
    }
   ],
   "source": [
    "df.head()"
   ]
  },
  {
   "cell_type": "code",
   "execution_count": 58,
   "metadata": {},
   "outputs": [],
   "source": [
    "#df[\"Monetary (c.c. blood)\"].value_counts()"
   ]
  },
  {
   "cell_type": "code",
   "execution_count": 59,
   "metadata": {},
   "outputs": [],
   "source": [
    "a=np.log(df[\"Monetary (c.c. blood)\"])"
   ]
  },
  {
   "cell_type": "code",
   "execution_count": 60,
   "metadata": {},
   "outputs": [
    {
     "data": {
      "text/plain": [
       "0      9.433484\n",
       "1      8.086410\n",
       "2      8.294050\n",
       "3      8.517193\n",
       "4      8.699515\n",
       "         ...   \n",
       "743    6.214608\n",
       "744    6.214608\n",
       "745    6.620073\n",
       "746    5.521461\n",
       "747    5.521461\n",
       "Name: Monetary (c.c. blood), Length: 748, dtype: float64"
      ]
     },
     "execution_count": 60,
     "metadata": {},
     "output_type": "execute_result"
    }
   ],
   "source": [
    "a"
   ]
  },
  {
   "cell_type": "code",
   "execution_count": 61,
   "metadata": {},
   "outputs": [],
   "source": [
    "from sklearn.preprocessing import StandardScaler"
   ]
  },
  {
   "cell_type": "code",
   "execution_count": 62,
   "metadata": {},
   "outputs": [],
   "source": [
    "sc=StandardScaler()"
   ]
  },
  {
   "cell_type": "code",
   "execution_count": 63,
   "metadata": {},
   "outputs": [],
   "source": [
    "d=sc.fit_transform(df.iloc[:,3:4])"
   ]
  },
  {
   "cell_type": "code",
   "execution_count": 64,
   "metadata": {},
   "outputs": [],
   "source": [
    "e=np.abs(d)"
   ]
  },
  {
   "cell_type": "code",
   "execution_count": 65,
   "metadata": {},
   "outputs": [
    {
     "data": {
      "text/plain": [
       "array([[2.61563344],\n",
       "       [0.2578809 ],\n",
       "       [0.02947053],\n",
       "       [0.43997258],\n",
       "       [1.75357914],\n",
       "       [1.24308582],\n",
       "       [0.83258377],\n",
       "       [0.02947053],\n",
       "       [0.50418213],\n",
       "       [2.61563344],\n",
       "       [0.97362525],\n",
       "       [1.24308582],\n",
       "       [0.2578809 ],\n",
       "       [0.52207299],\n",
       "       [0.79153356],\n",
       "       [0.95573438],\n",
       "       [0.5631232 ],\n",
       "       [0.6041734 ],\n",
       "       [0.79153356],\n",
       "       [1.24308582],\n",
       "       [1.24308582],\n",
       "       [0.2578809 ],\n",
       "       [0.75048336],\n",
       "       [0.75048336],\n",
       "       [0.75048336],\n",
       "       [0.23472156],\n",
       "       [0.83258377],\n",
       "       [0.01157967],\n",
       "       [0.95573438],\n",
       "       [0.54523233],\n",
       "       [0.97362525],\n",
       "       [0.2578809 ],\n",
       "       [0.2578809 ],\n",
       "       [0.33998131],\n",
       "       [1.21992648],\n",
       "       [0.2578809 ],\n",
       "       [0.52207299],\n",
       "       [0.75048336],\n",
       "       [0.93257504],\n",
       "       [0.50418213],\n",
       "       [0.76837422],\n",
       "       [0.75048336],\n",
       "       [0.75048336],\n",
       "       [0.75048336],\n",
       "       [1.4251775 ],\n",
       "       [0.2578809 ],\n",
       "       [0.07052074],\n",
       "       [1.32518623],\n",
       "       [1.32518623],\n",
       "       [1.32518623],\n",
       "       [0.48102279],\n",
       "       [0.48102279],\n",
       "       [0.50418213],\n",
       "       [0.72732402],\n",
       "       [0.83258377],\n",
       "       [1.4251775 ],\n",
       "       [0.33998131],\n",
       "       [0.2578809 ],\n",
       "       [1.91777996],\n",
       "       [0.54523233],\n",
       "       [0.21683069],\n",
       "       [0.02947053],\n",
       "       [0.6041734 ],\n",
       "       [0.75048336],\n",
       "       [1.03783479],\n",
       "       [1.63042853],\n",
       "       [0.83258377],\n",
       "       [1.24308582],\n",
       "       [0.38103151],\n",
       "       [0.68627381],\n",
       "       [0.75048336],\n",
       "       [0.75048336],\n",
       "       [1.50727791],\n",
       "       [1.24308582],\n",
       "       [1.24308582],\n",
       "       [1.24308582],\n",
       "       [0.75048336],\n",
       "       [1.24308582],\n",
       "       [1.24308582],\n",
       "       [1.24308582],\n",
       "       [0.46313192],\n",
       "       [0.75048336],\n",
       "       [0.75048336],\n",
       "       [0.75048336],\n",
       "       [0.2578809 ],\n",
       "       [0.2578809 ],\n",
       "       [1.24308582],\n",
       "       [1.24308582],\n",
       "       [1.24308582],\n",
       "       [0.02947053],\n",
       "       [1.24308582],\n",
       "       [1.24308582],\n",
       "       [1.24308582],\n",
       "       [1.24308582],\n",
       "       [0.46313192],\n",
       "       [0.2578809 ],\n",
       "       [2.12303099],\n",
       "       [0.15262115],\n",
       "       [0.83258377],\n",
       "       [0.33998131],\n",
       "       [0.01157967],\n",
       "       [1.71252894],\n",
       "       [0.23472156],\n",
       "       [0.33998131],\n",
       "       [0.33998131],\n",
       "       [1.46622771],\n",
       "       [1.01467545],\n",
       "       [0.33998131],\n",
       "       [0.83258377],\n",
       "       [1.21992648],\n",
       "       [0.46313192],\n",
       "       [0.48102279],\n",
       "       [0.46313192],\n",
       "       [0.23472156],\n",
       "       [1.95883017],\n",
       "       [1.21992648],\n",
       "       [0.48102279],\n",
       "       [1.09677586],\n",
       "       [0.93257504],\n",
       "       [1.83567955],\n",
       "       [0.75048336],\n",
       "       [0.33998131],\n",
       "       [0.27577176],\n",
       "       [0.05262988],\n",
       "       [0.33998131],\n",
       "       [0.01157967],\n",
       "       [0.48102279],\n",
       "       [0.33998131],\n",
       "       [0.5631232 ],\n",
       "       [0.99678459],\n",
       "       [0.2578809 ],\n",
       "       [2.49248283],\n",
       "       [0.99678459],\n",
       "       [0.02947053],\n",
       "       [2.2051314 ],\n",
       "       [0.62733274],\n",
       "       [0.11157094],\n",
       "       [2.61563344],\n",
       "       [0.62733274],\n",
       "       [0.95573438],\n",
       "       [1.63042853],\n",
       "       [2.12303099],\n",
       "       [0.75048336],\n",
       "       [0.75048336],\n",
       "       [1.03783479],\n",
       "       [0.75048336],\n",
       "       [0.83258377],\n",
       "       [0.95573438],\n",
       "       [0.95573438],\n",
       "       [0.95573438],\n",
       "       [0.97362525],\n",
       "       [0.19367135],\n",
       "       [1.79462935],\n",
       "       [1.32518623],\n",
       "       [1.32518623],\n",
       "       [1.32518623],\n",
       "       [1.32518623],\n",
       "       [1.32518623],\n",
       "       [1.32518623],\n",
       "       [1.32518623],\n",
       "       [1.32518623],\n",
       "       [1.32518623],\n",
       "       [1.32518623],\n",
       "       [1.32518623],\n",
       "       [1.32518623],\n",
       "       [1.32518623],\n",
       "       [1.32518623],\n",
       "       [1.32518623],\n",
       "       [1.32518623],\n",
       "       [1.32518623],\n",
       "       [1.32518623],\n",
       "       [1.32518623],\n",
       "       [1.32518623],\n",
       "       [1.32518623],\n",
       "       [1.32518623],\n",
       "       [0.02947053],\n",
       "       [0.75048336],\n",
       "       [0.05262988],\n",
       "       [0.27577176],\n",
       "       [0.50418213],\n",
       "       [0.33998131],\n",
       "       [0.75048336],\n",
       "       [0.02947053],\n",
       "       [2.2051314 ],\n",
       "       [0.33998131],\n",
       "       [0.05262988],\n",
       "       [0.01157967],\n",
       "       [0.33998131],\n",
       "       [1.75357914],\n",
       "       [0.02947053],\n",
       "       [0.72732402],\n",
       "       [0.72732402],\n",
       "       [0.02947053],\n",
       "       [0.31682197],\n",
       "       [0.83258377],\n",
       "       [0.52207299],\n",
       "       [0.15262115],\n",
       "       [0.52207299],\n",
       "       [0.21683069],\n",
       "       [0.43997258],\n",
       "       [0.72732402],\n",
       "       [0.97362525],\n",
       "       [0.95573438],\n",
       "       [0.97362525],\n",
       "       [0.15262115],\n",
       "       [0.33998131],\n",
       "       [0.75048336],\n",
       "       [1.71252894],\n",
       "       [0.2989311 ],\n",
       "       [0.83258377],\n",
       "       [1.24308582],\n",
       "       [1.24308582],\n",
       "       [1.24308582],\n",
       "       [1.24308582],\n",
       "       [1.24308582],\n",
       "       [1.24308582],\n",
       "       [1.24308582],\n",
       "       [1.24308582],\n",
       "       [1.24308582],\n",
       "       [1.24308582],\n",
       "       [1.24308582],\n",
       "       [1.24308582],\n",
       "       [1.24308582],\n",
       "       [1.24308582],\n",
       "       [1.24308582],\n",
       "       [1.24308582],\n",
       "       [1.24308582],\n",
       "       [0.42208172],\n",
       "       [1.24308582],\n",
       "       [1.24308582],\n",
       "       [1.24308582],\n",
       "       [1.24308582],\n",
       "       [1.24308582],\n",
       "       [0.19367135],\n",
       "       [0.33998131],\n",
       "       [1.17887627],\n",
       "       [0.79153356],\n",
       "       [0.83258377],\n",
       "       [0.35787217],\n",
       "       [0.97362525],\n",
       "       [0.72732402],\n",
       "       [2.61563344],\n",
       "       [0.38103151],\n",
       "       [1.83567955],\n",
       "       [0.95573438],\n",
       "       [0.48102279],\n",
       "       [0.97362525],\n",
       "       [2.12303099],\n",
       "       [0.95573438],\n",
       "       [0.95573438],\n",
       "       [0.95573438],\n",
       "       [1.67147873],\n",
       "       [0.27577176],\n",
       "       [0.75048336],\n",
       "       [1.01467545],\n",
       "       [0.02947053],\n",
       "       [0.2578809 ],\n",
       "       [0.11157094],\n",
       "       [0.2578809 ],\n",
       "       [0.97362525],\n",
       "       [0.27577176],\n",
       "       [1.58937832],\n",
       "       [0.46313192],\n",
       "       [0.15262115],\n",
       "       [0.97362525],\n",
       "       [0.35787217],\n",
       "       [0.46313192],\n",
       "       [0.48102279],\n",
       "       [1.95883017],\n",
       "       [0.54523233],\n",
       "       [0.23472156],\n",
       "       [0.2578809 ],\n",
       "       [0.75048336],\n",
       "       [0.97362525],\n",
       "       [0.97362525],\n",
       "       [0.48102279],\n",
       "       [0.93257504],\n",
       "       [0.01157967],\n",
       "       [1.79462935],\n",
       "       [0.5631232 ],\n",
       "       [1.46622771],\n",
       "       [0.50418213],\n",
       "       [0.33998131],\n",
       "       [0.75048336],\n",
       "       [0.05262988],\n",
       "       [0.83258377],\n",
       "       [0.46313192],\n",
       "       [0.75048336],\n",
       "       [0.2578809 ],\n",
       "       [0.62733274],\n",
       "       [0.46313192],\n",
       "       [0.64522361],\n",
       "       [0.2578809 ],\n",
       "       [0.02947053],\n",
       "       [0.02947053],\n",
       "       [1.46622771],\n",
       "       [0.2578809 ],\n",
       "       [0.83258377],\n",
       "       [0.83258377],\n",
       "       [0.83258377],\n",
       "       [0.83258377],\n",
       "       [0.83258377],\n",
       "       [0.83258377],\n",
       "       [0.72732402],\n",
       "       [0.01157967],\n",
       "       [0.11157094],\n",
       "       [1.63042853],\n",
       "       [0.46313192],\n",
       "       [0.46313192],\n",
       "       [0.62733274],\n",
       "       [0.15262115],\n",
       "       [0.75048336],\n",
       "       [1.05572566],\n",
       "       [1.03783479],\n",
       "       [1.03783479],\n",
       "       [0.21683069],\n",
       "       [0.70943315],\n",
       "       [0.33998131],\n",
       "       [1.54832812],\n",
       "       [0.27577176],\n",
       "       [1.95883017],\n",
       "       [0.68627381],\n",
       "       [0.01157967],\n",
       "       [0.64522361],\n",
       "       [0.15262115],\n",
       "       [0.75048336],\n",
       "       [0.27577176],\n",
       "       [2.61563344],\n",
       "       [0.2578809 ],\n",
       "       [0.19367135],\n",
       "       [0.52207299],\n",
       "       [0.02947053],\n",
       "       [0.02947053],\n",
       "       [1.13782607],\n",
       "       [0.75048336],\n",
       "       [0.54523233],\n",
       "       [0.2578809 ],\n",
       "       [1.21992648],\n",
       "       [0.95573438],\n",
       "       [0.01157967],\n",
       "       [0.17578049],\n",
       "       [2.61563344],\n",
       "       [0.97362525],\n",
       "       [0.95573438],\n",
       "       [0.95573438],\n",
       "       [0.95573438],\n",
       "       [0.95573438],\n",
       "       [0.95573438],\n",
       "       [0.95573438],\n",
       "       [0.95573438],\n",
       "       [0.95573438],\n",
       "       [0.54523233],\n",
       "       [0.64522361],\n",
       "       [0.54523233],\n",
       "       [0.2578809 ],\n",
       "       [0.27577176],\n",
       "       [0.23472156],\n",
       "       [0.33998131],\n",
       "       [0.33998131],\n",
       "       [1.21992648],\n",
       "       [0.68627381],\n",
       "       [0.42208172],\n",
       "       [1.50727791],\n",
       "       [0.93257504],\n",
       "       [1.50727791],\n",
       "       [0.54523233],\n",
       "       [0.93257504],\n",
       "       [0.15262115],\n",
       "       [0.33998131],\n",
       "       [0.23472156],\n",
       "       [0.68627381],\n",
       "       [0.13473028],\n",
       "       [0.72732402],\n",
       "       [1.26097668],\n",
       "       [0.23472156],\n",
       "       [0.23472156],\n",
       "       [0.64522361],\n",
       "       [0.83258377],\n",
       "       [0.83258377],\n",
       "       [0.83258377],\n",
       "       [0.83258377],\n",
       "       [0.83258377],\n",
       "       [0.83258377],\n",
       "       [0.83258377],\n",
       "       [0.83258377],\n",
       "       [1.54832812],\n",
       "       [0.83258377],\n",
       "       [0.83258377],\n",
       "       [0.72732402],\n",
       "       [1.58937832],\n",
       "       [0.97362525],\n",
       "       [1.01467545],\n",
       "       [1.01467545],\n",
       "       [1.09677586],\n",
       "       [0.23472156],\n",
       "       [2.2461816 ],\n",
       "       [0.54523233],\n",
       "       [0.33998131],\n",
       "       [1.71252894],\n",
       "       [0.33998131],\n",
       "       [0.46313192],\n",
       "       [0.05262988],\n",
       "       [0.48102279],\n",
       "       [0.01157967],\n",
       "       [1.21992648],\n",
       "       [0.27577176],\n",
       "       [0.75048336],\n",
       "       [0.75048336],\n",
       "       [0.75048336],\n",
       "       [0.75048336],\n",
       "       [0.75048336],\n",
       "       [0.75048336],\n",
       "       [0.75048336],\n",
       "       [0.43997258],\n",
       "       [0.75048336],\n",
       "       [0.75048336],\n",
       "       [0.75048336],\n",
       "       [0.75048336],\n",
       "       [0.75048336],\n",
       "       [0.33998131],\n",
       "       [0.46313192],\n",
       "       [0.2989311 ],\n",
       "       [0.46313192],\n",
       "       [0.46313192],\n",
       "       [0.93257504],\n",
       "       [1.05572566],\n",
       "       [0.46313192],\n",
       "       [1.63042853],\n",
       "       [0.2578809 ],\n",
       "       [0.23472156],\n",
       "       [0.72732402],\n",
       "       [0.72732402],\n",
       "       [2.16408119],\n",
       "       [1.21992648],\n",
       "       [0.02947053],\n",
       "       [2.41038242],\n",
       "       [0.38103151],\n",
       "       [0.72732402],\n",
       "       [2.41038242],\n",
       "       [2.49248283],\n",
       "       [0.48102279],\n",
       "       [1.71252894],\n",
       "       [0.72732402],\n",
       "       [1.71252894],\n",
       "       [2.12303099],\n",
       "       [0.02947053],\n",
       "       [0.33998131],\n",
       "       [0.33998131],\n",
       "       [1.21992648],\n",
       "       [0.64522361],\n",
       "       [0.05262988],\n",
       "       [0.15262115],\n",
       "       [0.2578809 ],\n",
       "       [0.54523233],\n",
       "       [0.54523233],\n",
       "       [0.54523233],\n",
       "       [0.54523233],\n",
       "       [0.54523233],\n",
       "       [0.54523233],\n",
       "       [0.54523233],\n",
       "       [0.54523233],\n",
       "       [0.54523233],\n",
       "       [0.54523233],\n",
       "       [0.54523233],\n",
       "       [0.54523233],\n",
       "       [1.05572566],\n",
       "       [0.43997258],\n",
       "       [0.72732402],\n",
       "       [0.50418213],\n",
       "       [1.46622771],\n",
       "       [0.97362525],\n",
       "       [0.23472156],\n",
       "       [0.27577176],\n",
       "       [1.99988037],\n",
       "       [0.02947053],\n",
       "       [0.6041734 ],\n",
       "       [1.46622771],\n",
       "       [0.46313192],\n",
       "       [0.46313192],\n",
       "       [0.46313192],\n",
       "       [0.46313192],\n",
       "       [0.46313192],\n",
       "       [0.46313192],\n",
       "       [0.46313192],\n",
       "       [0.46313192],\n",
       "       [0.76837422],\n",
       "       [2.12303099],\n",
       "       [0.5631232 ],\n",
       "       [0.27577176],\n",
       "       [1.21992648],\n",
       "       [1.46622771],\n",
       "       [1.46622771],\n",
       "       [2.16408119],\n",
       "       [2.2461816 ],\n",
       "       [2.16408119],\n",
       "       [1.21992648],\n",
       "       [0.15262115],\n",
       "       [0.15262115],\n",
       "       [0.23472156],\n",
       "       [1.63042853],\n",
       "       [2.12303099],\n",
       "       [0.2578809 ],\n",
       "       [1.75357914],\n",
       "       [2.61563344],\n",
       "       [1.71252894],\n",
       "       [2.61563344],\n",
       "       [0.31682197],\n",
       "       [0.46313192],\n",
       "       [0.72732402],\n",
       "       [0.09368008],\n",
       "       [1.24308582],\n",
       "       [0.33998131],\n",
       "       [0.2578809 ],\n",
       "       [0.02947053],\n",
       "       [0.15262115],\n",
       "       [0.83258377],\n",
       "       [0.91468418],\n",
       "       [2.61563344],\n",
       "       [0.05262988],\n",
       "       [0.2578809 ],\n",
       "       [0.23472156],\n",
       "       [0.27577176],\n",
       "       [0.19367135],\n",
       "       [0.35787217],\n",
       "       [0.2578809 ],\n",
       "       [0.95573438],\n",
       "       [0.75048336],\n",
       "       [1.21992648],\n",
       "       [1.83567955],\n",
       "       [0.50418213],\n",
       "       [0.75048336],\n",
       "       [0.83258377],\n",
       "       [0.2578809 ],\n",
       "       [0.83258377],\n",
       "       [0.33998131],\n",
       "       [0.75048336],\n",
       "       [0.09368008],\n",
       "       [0.33998131],\n",
       "       [0.15262115],\n",
       "       [1.24308582],\n",
       "       [0.2578809 ],\n",
       "       [0.72732402],\n",
       "       [1.46622771],\n",
       "       [1.24308582],\n",
       "       [2.49248283],\n",
       "       [1.24308582],\n",
       "       [0.5631232 ],\n",
       "       [0.95573438],\n",
       "       [1.46622771],\n",
       "       [0.09368008],\n",
       "       [0.75048336],\n",
       "       [0.02947053],\n",
       "       [0.2578809 ],\n",
       "       [0.83258377],\n",
       "       [0.46313192],\n",
       "       [0.66838295],\n",
       "       [0.2578809 ],\n",
       "       [0.17578049],\n",
       "       [0.83258377],\n",
       "       [0.64522361],\n",
       "       [1.21992648],\n",
       "       [0.72732402],\n",
       "       [2.61563344],\n",
       "       [0.52207299],\n",
       "       [2.12303099],\n",
       "       [1.67147873],\n",
       "       [0.02947053],\n",
       "       [0.85047463],\n",
       "       [0.02947053],\n",
       "       [0.43997258],\n",
       "       [0.52207299],\n",
       "       [1.03783479],\n",
       "       [0.95573438],\n",
       "       [0.95573438],\n",
       "       [0.95573438],\n",
       "       [0.15262115],\n",
       "       [0.21683069],\n",
       "       [0.15262115],\n",
       "       [0.66838295],\n",
       "       [0.54523233],\n",
       "       [1.32518623],\n",
       "       [1.32518623],\n",
       "       [1.32518623],\n",
       "       [1.32518623],\n",
       "       [1.32518623],\n",
       "       [1.32518623],\n",
       "       [1.32518623],\n",
       "       [1.32518623],\n",
       "       [1.32518623],\n",
       "       [1.32518623],\n",
       "       [1.32518623],\n",
       "       [0.15262115],\n",
       "       [0.50418213],\n",
       "       [0.6041734 ],\n",
       "       [1.67147873],\n",
       "       [0.15262115],\n",
       "       [1.28413602],\n",
       "       [0.35787217],\n",
       "       [0.42208172],\n",
       "       [0.19367135],\n",
       "       [0.83258377],\n",
       "       [0.48102279],\n",
       "       [0.83258377],\n",
       "       [0.33998131],\n",
       "       [0.87363397],\n",
       "       [2.49248283],\n",
       "       [1.75357914],\n",
       "       [1.75357914],\n",
       "       [1.24308582],\n",
       "       [1.24308582],\n",
       "       [1.24308582],\n",
       "       [1.24308582],\n",
       "       [1.24308582],\n",
       "       [1.24308582],\n",
       "       [1.24308582],\n",
       "       [1.24308582],\n",
       "       [1.24308582],\n",
       "       [1.24308582],\n",
       "       [1.24308582],\n",
       "       [1.24308582],\n",
       "       [1.13782607],\n",
       "       [1.24308582],\n",
       "       [0.01157967],\n",
       "       [0.2578809 ],\n",
       "       [0.83258377],\n",
       "       [0.02947053],\n",
       "       [0.80942443],\n",
       "       [0.95573438],\n",
       "       [1.17887627],\n",
       "       [2.2461816 ],\n",
       "       [1.21992648],\n",
       "       [0.50418213],\n",
       "       [0.33998131],\n",
       "       [1.50727791],\n",
       "       [0.75048336],\n",
       "       [2.2461816 ],\n",
       "       [0.97362525],\n",
       "       [0.02947053],\n",
       "       [0.2989311 ],\n",
       "       [2.2461816 ],\n",
       "       [0.72732402],\n",
       "       [0.72732402],\n",
       "       [0.27577176],\n",
       "       [0.15262115],\n",
       "       [0.83258377],\n",
       "       [0.83258377],\n",
       "       [0.83258377],\n",
       "       [0.05262988],\n",
       "       [0.46313192],\n",
       "       [0.48102279],\n",
       "       [1.03783479],\n",
       "       [0.2989311 ],\n",
       "       [0.33998131],\n",
       "       [0.17578049],\n",
       "       [0.54523233],\n",
       "       [1.75357914],\n",
       "       [0.13473028],\n",
       "       [0.64522361],\n",
       "       [0.33998131],\n",
       "       [0.43997258],\n",
       "       [0.05262988],\n",
       "       [0.75048336],\n",
       "       [0.54523233],\n",
       "       [1.54832812],\n",
       "       [0.95573438],\n",
       "       [0.95573438],\n",
       "       [0.95573438],\n",
       "       [0.95573438],\n",
       "       [0.95573438],\n",
       "       [1.67147873],\n",
       "       [1.75357914],\n",
       "       [0.2578809 ],\n",
       "       [2.16408119],\n",
       "       [1.99988037],\n",
       "       [1.13782607],\n",
       "       [0.46313192],\n",
       "       [0.33998131],\n",
       "       [1.13782607],\n",
       "       [1.67147873],\n",
       "       [0.2578809 ],\n",
       "       [1.4251775 ],\n",
       "       [0.48102279],\n",
       "       [0.38103151],\n",
       "       [0.11157094],\n",
       "       [0.05262988],\n",
       "       [0.15262115],\n",
       "       [1.71252894],\n",
       "       [0.64522361],\n",
       "       [0.05262988],\n",
       "       [0.83258377],\n",
       "       [0.83258377],\n",
       "       [0.83258377],\n",
       "       [0.83258377],\n",
       "       [0.83258377],\n",
       "       [0.83258377],\n",
       "       [0.97362525],\n",
       "       [0.02947053],\n",
       "       [0.02947053],\n",
       "       [1.21992648],\n",
       "       [0.54523233],\n",
       "       [0.02947053],\n",
       "       [0.75048336],\n",
       "       [0.75048336],\n",
       "       [0.75048336],\n",
       "       [0.75048336],\n",
       "       [0.75048336],\n",
       "       [0.21683069],\n",
       "       [1.63042853],\n",
       "       [0.15262115],\n",
       "       [0.5631232 ],\n",
       "       [0.46313192],\n",
       "       [0.43997258],\n",
       "       [0.02947053],\n",
       "       [1.91777996],\n",
       "       [0.97362525],\n",
       "       [1.50727791],\n",
       "       [0.33998131],\n",
       "       [0.02947053],\n",
       "       [0.02947053],\n",
       "       [1.4251775 ],\n",
       "       [0.15262115],\n",
       "       [0.02947053],\n",
       "       [0.23472156],\n",
       "       [0.2578809 ],\n",
       "       [0.54523233],\n",
       "       [0.54523233],\n",
       "       [0.64522361],\n",
       "       [0.54523233],\n",
       "       [0.54523233],\n",
       "       [0.19367135],\n",
       "       [0.05262988],\n",
       "       [1.83567955],\n",
       "       [0.46313192],\n",
       "       [0.46313192],\n",
       "       [0.46313192],\n",
       "       [0.46313192],\n",
       "       [0.46313192],\n",
       "       [0.46313192],\n",
       "       [0.46313192],\n",
       "       [0.72732402],\n",
       "       [0.46313192],\n",
       "       [2.2051314 ],\n",
       "       [2.12303099],\n",
       "       [0.15262115],\n",
       "       [0.72732402],\n",
       "       [1.13782607],\n",
       "       [0.19367135],\n",
       "       [1.54832812]])"
      ]
     },
     "execution_count": 65,
     "metadata": {},
     "output_type": "execute_result"
    }
   ],
   "source": [
    "e"
   ]
  },
  {
   "cell_type": "code",
   "execution_count": 66,
   "metadata": {},
   "outputs": [],
   "source": [
    "df[\"Time (months)\"]=e"
   ]
  },
  {
   "cell_type": "code",
   "execution_count": 67,
   "metadata": {},
   "outputs": [
    {
     "data": {
      "text/html": [
       "<div>\n",
       "<style scoped>\n",
       "    .dataframe tbody tr th:only-of-type {\n",
       "        vertical-align: middle;\n",
       "    }\n",
       "\n",
       "    .dataframe tbody tr th {\n",
       "        vertical-align: top;\n",
       "    }\n",
       "\n",
       "    .dataframe thead th {\n",
       "        text-align: right;\n",
       "    }\n",
       "</style>\n",
       "<table border=\"1\" class=\"dataframe\">\n",
       "  <thead>\n",
       "    <tr style=\"text-align: right;\">\n",
       "      <th></th>\n",
       "      <th>Recency (months)</th>\n",
       "      <th>Frequency (times)</th>\n",
       "      <th>Monetary (c.c. blood)</th>\n",
       "      <th>Time (months)</th>\n",
       "      <th>whether he/she donated blood in March 2007</th>\n",
       "    </tr>\n",
       "  </thead>\n",
       "  <tbody>\n",
       "    <tr>\n",
       "      <th>0</th>\n",
       "      <td>1.108507</td>\n",
       "      <td>2.310289</td>\n",
       "      <td>12500</td>\n",
       "      <td>2.615633</td>\n",
       "      <td>1</td>\n",
       "    </tr>\n",
       "    <tr>\n",
       "      <th>1</th>\n",
       "      <td>0.000000</td>\n",
       "      <td>1.824072</td>\n",
       "      <td>3250</td>\n",
       "      <td>0.257881</td>\n",
       "      <td>1</td>\n",
       "    </tr>\n",
       "    <tr>\n",
       "      <th>2</th>\n",
       "      <td>0.697077</td>\n",
       "      <td>1.909632</td>\n",
       "      <td>4000</td>\n",
       "      <td>0.029471</td>\n",
       "      <td>1</td>\n",
       "    </tr>\n",
       "    <tr>\n",
       "      <th>3</th>\n",
       "      <td>1.108507</td>\n",
       "      <td>1.997267</td>\n",
       "      <td>5000</td>\n",
       "      <td>0.439973</td>\n",
       "      <td>1</td>\n",
       "    </tr>\n",
       "    <tr>\n",
       "      <th>4</th>\n",
       "      <td>0.697077</td>\n",
       "      <td>2.065513</td>\n",
       "      <td>6000</td>\n",
       "      <td>1.753579</td>\n",
       "      <td>0</td>\n",
       "    </tr>\n",
       "  </tbody>\n",
       "</table>\n",
       "</div>"
      ],
      "text/plain": [
       "   Recency (months)  Frequency (times)  Monetary (c.c. blood)  Time (months)  \\\n",
       "0          1.108507           2.310289                  12500       2.615633   \n",
       "1          0.000000           1.824072                   3250       0.257881   \n",
       "2          0.697077           1.909632                   4000       0.029471   \n",
       "3          1.108507           1.997267                   5000       0.439973   \n",
       "4          0.697077           2.065513                   6000       1.753579   \n",
       "\n",
       "   whether he/she donated blood in March 2007  \n",
       "0                                           1  \n",
       "1                                           1  \n",
       "2                                           1  \n",
       "3                                           1  \n",
       "4                                           0  "
      ]
     },
     "execution_count": 67,
     "metadata": {},
     "output_type": "execute_result"
    }
   ],
   "source": [
    "df.head()"
   ]
  },
  {
   "cell_type": "code",
   "execution_count": 68,
   "metadata": {},
   "outputs": [],
   "source": [
    "#a=np.log(df[\"Time (months)\"])"
   ]
  },
  {
   "cell_type": "code",
   "execution_count": 69,
   "metadata": {},
   "outputs": [],
   "source": [
    "#a"
   ]
  },
  {
   "cell_type": "code",
   "execution_count": 70,
   "metadata": {},
   "outputs": [
    {
     "data": {
      "text/plain": [
       "Index(['Recency (months)', 'Frequency (times)', 'Monetary (c.c. blood)',\n",
       "       'Time (months)', 'whether he/she donated blood in March 2007'],\n",
       "      dtype='object')"
      ]
     },
     "execution_count": 70,
     "metadata": {},
     "output_type": "execute_result"
    }
   ],
   "source": [
    "df.columns"
   ]
  },
  {
   "cell_type": "code",
   "execution_count": 71,
   "metadata": {},
   "outputs": [
    {
     "data": {
      "text/plain": [
       "<matplotlib.axes._subplots.AxesSubplot at 0x2b9e872e848>"
      ]
     },
     "execution_count": 71,
     "metadata": {},
     "output_type": "execute_result"
    },
    {
     "data": {
      "image/png": "[encoded data removed]",
      "text/plain": [
       "<Figure size 432x288 with 2 Axes>"
      ]
     },
     "metadata": {
      "needs_background": "light"
     },
     "output_type": "display_data"
    }
   ],
   "source": [
    "sns.heatmap(df.corr(),annot=True)"
   ]
  },
  {
   "cell_type": "code",
   "execution_count": 72,
   "metadata": {},
   "outputs": [],
   "source": [
    "from sklearn.model_selection import train_test_split"
   ]
  },
  {
   "cell_type": "code",
   "execution_count": 73,
   "metadata": {},
   "outputs": [],
   "source": [
    "x=df.iloc[:,1:4]\n",
    "y=df.iloc[:,4]"
   ]
  },
  {
   "cell_type": "code",
   "execution_count": null,
   "metadata": {},
   "outputs": [],
   "source": []
  },
  {
   "cell_type": "code",
   "execution_count": 74,
   "metadata": {},
   "outputs": [],
   "source": [
    "x_train,x_test,y_train,y_test=train_test_split(x,y,test_size=0.1,random_state=42)"
   ]
  },
  {
   "cell_type": "code",
   "execution_count": 75,
   "metadata": {},
   "outputs": [
    {
     "data": {
      "text/html": [
       "<div>\n",
       "<style scoped>\n",
       "    .dataframe tbody tr th:only-of-type {\n",
       "        vertical-align: middle;\n",
       "    }\n",
       "\n",
       "    .dataframe tbody tr th {\n",
       "        vertical-align: top;\n",
       "    }\n",
       "\n",
       "    .dataframe thead th {\n",
       "        text-align: right;\n",
       "    }\n",
       "</style>\n",
       "<table border=\"1\" class=\"dataframe\">\n",
       "  <thead>\n",
       "    <tr style=\"text-align: right;\">\n",
       "      <th></th>\n",
       "      <th>Frequency (times)</th>\n",
       "      <th>Monetary (c.c. blood)</th>\n",
       "      <th>Time (months)</th>\n",
       "    </tr>\n",
       "  </thead>\n",
       "  <tbody>\n",
       "    <tr>\n",
       "      <th>422</th>\n",
       "      <td>0.936146</td>\n",
       "      <td>500</td>\n",
       "      <td>0.463132</td>\n",
       "    </tr>\n",
       "    <tr>\n",
       "      <th>541</th>\n",
       "      <td>1.710629</td>\n",
       "      <td>2500</td>\n",
       "      <td>0.727324</td>\n",
       "    </tr>\n",
       "    <tr>\n",
       "      <th>72</th>\n",
       "      <td>1.933887</td>\n",
       "      <td>4250</td>\n",
       "      <td>1.507278</td>\n",
       "    </tr>\n",
       "    <tr>\n",
       "      <th>213</th>\n",
       "      <td>0.625921</td>\n",
       "      <td>250</td>\n",
       "      <td>1.243086</td>\n",
       "    </tr>\n",
       "    <tr>\n",
       "      <th>381</th>\n",
       "      <td>0.625921</td>\n",
       "      <td>250</td>\n",
       "      <td>0.832584</td>\n",
       "    </tr>\n",
       "  </tbody>\n",
       "</table>\n",
       "</div>"
      ],
      "text/plain": [
       "     Frequency (times)  Monetary (c.c. blood)  Time (months)\n",
       "422           0.936146                    500       0.463132\n",
       "541           1.710629                   2500       0.727324\n",
       "72            1.933887                   4250       1.507278\n",
       "213           0.625921                    250       1.243086\n",
       "381           0.625921                    250       0.832584"
      ]
     },
     "execution_count": 75,
     "metadata": {},
     "output_type": "execute_result"
    }
   ],
   "source": [
    "x_train.head()"
   ]
  },
  {
   "cell_type": "code",
   "execution_count": 76,
   "metadata": {},
   "outputs": [
    {
     "data": {
      "text/plain": [
       "(673, 673)"
      ]
     },
     "execution_count": 76,
     "metadata": {},
     "output_type": "execute_result"
    }
   ],
   "source": [
    "len(x_train),len(y_train)"
   ]
  },
  {
   "cell_type": "code",
   "execution_count": 77,
   "metadata": {},
   "outputs": [
    {
     "data": {
      "text/plain": [
       "75"
      ]
     },
     "execution_count": 77,
     "metadata": {},
     "output_type": "execute_result"
    }
   ],
   "source": [
    "len(x_test)"
   ]
  },
  {
   "cell_type": "code",
   "execution_count": 78,
   "metadata": {},
   "outputs": [
    {
     "data": {
      "text/plain": [
       "0    510\n",
       "1    163\n",
       "Name: whether he/she donated blood in March 2007, dtype: int64"
      ]
     },
     "execution_count": 78,
     "metadata": {},
     "output_type": "execute_result"
    }
   ],
   "source": [
    "y_train.value_counts()"
   ]
  },
  {
   "cell_type": "code",
   "execution_count": 79,
   "metadata": {},
   "outputs": [
    {
     "data": {
      "text/plain": [
       "0    60\n",
       "1    15\n",
       "Name: whether he/she donated blood in March 2007, dtype: int64"
      ]
     },
     "execution_count": 79,
     "metadata": {},
     "output_type": "execute_result"
    }
   ],
   "source": [
    "y_test.value_counts()"
   ]
  },
  {
   "cell_type": "code",
   "execution_count": 80,
   "metadata": {},
   "outputs": [],
   "source": [
    "#KNN model for a given k"
   ]
  },
  {
   "cell_type": "code",
   "execution_count": 81,
   "metadata": {},
   "outputs": [],
   "source": [
    "from sklearn.neighbors import KNeighborsClassifier"
   ]
  },
  {
   "cell_type": "code",
   "execution_count": 82,
   "metadata": {},
   "outputs": [
    {
     "data": {
      "text/plain": [
       "KNeighborsClassifier(n_neighbors=11)"
      ]
     },
     "execution_count": 82,
     "metadata": {},
     "output_type": "execute_result"
    }
   ],
   "source": [
    "knn=KNeighborsClassifier(n_neighbors=11)\n",
    "knn.fit(x_train,y_train)"
   ]
  },
  {
   "cell_type": "code",
   "execution_count": 83,
   "metadata": {},
   "outputs": [
    {
     "data": {
      "text/plain": [
       "0.76"
      ]
     },
     "execution_count": 83,
     "metadata": {},
     "output_type": "execute_result"
    }
   ],
   "source": [
    "knn.score(x_test,y_test)"
   ]
  },
  {
   "cell_type": "code",
   "execution_count": 84,
   "metadata": {},
   "outputs": [
    {
     "data": {
      "text/plain": [
       "0.7726597325408618"
      ]
     },
     "execution_count": 84,
     "metadata": {},
     "output_type": "execute_result"
    }
   ],
   "source": [
    "knn.score(x_train,y_train)"
   ]
  },
  {
   "cell_type": "code",
   "execution_count": 85,
   "metadata": {},
   "outputs": [],
   "source": [
    "#Now lets remove the monetary feature due to multicollinearity and test the accuracy of the model"
   ]
  },
  {
   "cell_type": "code",
   "execution_count": 86,
   "metadata": {},
   "outputs": [],
   "source": [
    "x_train=x_train.drop(\"Monetary (c.c. blood)\",axis=1)"
   ]
  },
  {
   "cell_type": "code",
   "execution_count": 87,
   "metadata": {},
   "outputs": [],
   "source": [
    "x_test=x_test.drop(\"Monetary (c.c. blood)\",axis=1)"
   ]
  },
  {
   "cell_type": "code",
   "execution_count": null,
   "metadata": {},
   "outputs": [],
   "source": []
  },
  {
   "cell_type": "code",
   "execution_count": 88,
   "metadata": {},
   "outputs": [
    {
     "data": {
      "text/plain": [
       "KNeighborsClassifier(n_neighbors=11)"
      ]
     },
     "execution_count": 88,
     "metadata": {},
     "output_type": "execute_result"
    }
   ],
   "source": [
    "knn1=KNeighborsClassifier(n_neighbors=11)\n",
    "knn1.fit(x_train,y_train)"
   ]
  },
  {
   "cell_type": "code",
   "execution_count": 89,
   "metadata": {},
   "outputs": [
    {
     "data": {
      "text/plain": [
       "0.8133333333333334"
      ]
     },
     "execution_count": 89,
     "metadata": {},
     "output_type": "execute_result"
    }
   ],
   "source": [
    "knn1.score(x_test,y_test)"
   ]
  },
  {
   "cell_type": "code",
   "execution_count": 90,
   "metadata": {},
   "outputs": [
    {
     "data": {
      "text/plain": [
       "0.7771173848439822"
      ]
     },
     "execution_count": 90,
     "metadata": {},
     "output_type": "execute_result"
    }
   ],
   "source": [
    "knn1.score(x_train,y_train)"
   ]
  },
  {
   "cell_type": "code",
   "execution_count": 91,
   "metadata": {},
   "outputs": [],
   "source": [
    "# Evaluate our model for randomly chosen value of k=11"
   ]
  },
  {
   "cell_type": "code",
   "execution_count": 92,
   "metadata": {},
   "outputs": [],
   "source": [
    "from sklearn.model_selection import StratifiedKFold\n",
    "from sklearn.model_selection import cross_val_score"
   ]
  },
  {
   "cell_type": "code",
   "execution_count": 93,
   "metadata": {},
   "outputs": [],
   "source": [
    "kfold1=StratifiedKFold(n_splits=10,shuffle=True,random_state=42)"
   ]
  },
  {
   "cell_type": "code",
   "execution_count": 94,
   "metadata": {},
   "outputs": [],
   "source": [
    "res=cross_val_score(knn1,x_train,y_train,cv=kfold1)"
   ]
  },
  {
   "cell_type": "code",
   "execution_count": 95,
   "metadata": {},
   "outputs": [
    {
     "data": {
      "text/plain": [
       "array([0.70588235, 0.79411765, 0.80882353, 0.70149254, 0.79104478,\n",
       "       0.79104478, 0.74626866, 0.64179104, 0.7761194 , 0.76119403])"
      ]
     },
     "execution_count": 95,
     "metadata": {},
     "output_type": "execute_result"
    }
   ],
   "source": [
    "res"
   ]
  },
  {
   "cell_type": "code",
   "execution_count": 96,
   "metadata": {},
   "outputs": [
    {
     "data": {
      "text/plain": [
       "0.7517778753292361"
      ]
     },
     "execution_count": 96,
     "metadata": {},
     "output_type": "execute_result"
    }
   ],
   "source": [
    "res.mean()"
   ]
  },
  {
   "cell_type": "code",
   "execution_count": 97,
   "metadata": {},
   "outputs": [],
   "source": [
    "restest=cross_val_score(knn1,x_test,y_test,cv=kfold1)"
   ]
  },
  {
   "cell_type": "code",
   "execution_count": 98,
   "metadata": {},
   "outputs": [
    {
     "data": {
      "text/plain": [
       "array([0.75      , 0.75      , 0.75      , 0.75      , 0.75      ,\n",
       "       0.85714286, 0.85714286, 0.85714286, 0.85714286, 0.71428571])"
      ]
     },
     "execution_count": 98,
     "metadata": {},
     "output_type": "execute_result"
    }
   ],
   "source": [
    "restest"
   ]
  },
  {
   "cell_type": "code",
   "execution_count": 99,
   "metadata": {},
   "outputs": [
    {
     "data": {
      "text/plain": [
       "0.7892857142857143"
      ]
     },
     "execution_count": 99,
     "metadata": {},
     "output_type": "execute_result"
    }
   ],
   "source": [
    "restest.mean()"
   ]
  },
  {
   "cell_type": "code",
   "execution_count": null,
   "metadata": {},
   "outputs": [],
   "source": []
  },
  {
   "cell_type": "code",
   "execution_count": 100,
   "metadata": {},
   "outputs": [],
   "source": [
    "# for default k=5"
   ]
  },
  {
   "cell_type": "code",
   "execution_count": 101,
   "metadata": {},
   "outputs": [
    {
     "data": {
      "text/plain": [
       "KNeighborsClassifier()"
      ]
     },
     "execution_count": 101,
     "metadata": {},
     "output_type": "execute_result"
    }
   ],
   "source": [
    "knn=KNeighborsClassifier()\n",
    "knn.fit(x_train,y_train)"
   ]
  },
  {
   "cell_type": "code",
   "execution_count": 102,
   "metadata": {},
   "outputs": [
    {
     "data": {
      "text/plain": [
       "0.8"
      ]
     },
     "execution_count": 102,
     "metadata": {},
     "output_type": "execute_result"
    }
   ],
   "source": [
    "knn.score(x_test,y_test)"
   ]
  },
  {
   "cell_type": "code",
   "execution_count": 103,
   "metadata": {},
   "outputs": [
    {
     "data": {
      "text/plain": [
       "0.7860326894502229"
      ]
     },
     "execution_count": 103,
     "metadata": {},
     "output_type": "execute_result"
    }
   ],
   "source": [
    "knn.score(x_train,y_train)"
   ]
  },
  {
   "cell_type": "code",
   "execution_count": 104,
   "metadata": {},
   "outputs": [],
   "source": [
    "# Evaluate our model for k=5 default"
   ]
  },
  {
   "cell_type": "code",
   "execution_count": 105,
   "metadata": {},
   "outputs": [],
   "source": [
    "from sklearn.model_selection import StratifiedKFold\n",
    "from sklearn.model_selection import cross_val_score"
   ]
  },
  {
   "cell_type": "code",
   "execution_count": 106,
   "metadata": {},
   "outputs": [],
   "source": [
    "kfold=StratifiedKFold(n_splits=10,shuffle=True,random_state=7)\n",
    "results=cross_val_score(knn,x_train,y_train,cv=kfold)"
   ]
  },
  {
   "cell_type": "code",
   "execution_count": 107,
   "metadata": {},
   "outputs": [
    {
     "data": {
      "text/plain": [
       "array([0.77941176, 0.63235294, 0.72058824, 0.73134328, 0.71641791,\n",
       "       0.64179104, 0.82089552, 0.68656716, 0.71641791, 0.68656716])"
      ]
     },
     "execution_count": 107,
     "metadata": {},
     "output_type": "execute_result"
    }
   ],
   "source": [
    "results"
   ]
  },
  {
   "cell_type": "code",
   "execution_count": 108,
   "metadata": {},
   "outputs": [
    {
     "data": {
      "text/plain": [
       "0.7132352941176471"
      ]
     },
     "execution_count": 108,
     "metadata": {},
     "output_type": "execute_result"
    }
   ],
   "source": [
    "results.mean()"
   ]
  },
  {
   "cell_type": "code",
   "execution_count": 109,
   "metadata": {},
   "outputs": [
    {
     "data": {
      "text/plain": [
       "0.054259457443532146"
      ]
     },
     "execution_count": 109,
     "metadata": {},
     "output_type": "execute_result"
    }
   ],
   "source": [
    "results.std()"
   ]
  },
  {
   "cell_type": "code",
   "execution_count": 110,
   "metadata": {},
   "outputs": [],
   "source": [
    "# above result is for default value of k=5"
   ]
  },
  {
   "cell_type": "code",
   "execution_count": 111,
   "metadata": {},
   "outputs": [],
   "source": [
    "resultstest=cross_val_score(knn,x_test,y_test,cv=kfold)"
   ]
  },
  {
   "cell_type": "code",
   "execution_count": 112,
   "metadata": {},
   "outputs": [
    {
     "data": {
      "text/plain": [
       "array([0.75      , 0.75      , 0.75      , 0.75      , 0.75      ,\n",
       "       1.        , 0.71428571, 1.        , 0.85714286, 0.85714286])"
      ]
     },
     "execution_count": 112,
     "metadata": {},
     "output_type": "execute_result"
    }
   ],
   "source": [
    "resultstest"
   ]
  },
  {
   "cell_type": "code",
   "execution_count": 113,
   "metadata": {},
   "outputs": [
    {
     "data": {
      "text/plain": [
       "0.8178571428571428"
      ]
     },
     "execution_count": 113,
     "metadata": {},
     "output_type": "execute_result"
    }
   ],
   "source": [
    "resultstest.mean()"
   ]
  },
  {
   "cell_type": "code",
   "execution_count": 114,
   "metadata": {},
   "outputs": [
    {
     "data": {
      "text/plain": [
       "0.10158187609519923"
      ]
     },
     "execution_count": 114,
     "metadata": {},
     "output_type": "execute_result"
    }
   ],
   "source": [
    "resultstest.std()"
   ]
  },
  {
   "cell_type": "code",
   "execution_count": 115,
   "metadata": {},
   "outputs": [],
   "source": [
    "# finding Optimal value of K "
   ]
  },
  {
   "cell_type": "code",
   "execution_count": 116,
   "metadata": {},
   "outputs": [],
   "source": [
    "from sklearn.pipeline import Pipeline"
   ]
  },
  {
   "cell_type": "code",
   "execution_count": 117,
   "metadata": {},
   "outputs": [],
   "source": [
    "estimators=[]\n",
    "estimators.append((\"knn\",KNeighborsClassifier()))\n",
    "model=Pipeline(estimators)\n"
   ]
  },
  {
   "cell_type": "code",
   "execution_count": 118,
   "metadata": {},
   "outputs": [],
   "source": [
    "# define search space\n",
    "search_space=[{\n",
    "                \"knn__n_neighbors\":range(1,100),\n",
    "                \"knn__weights\":[\"uniform\",\"distance\"]\n",
    "}]"
   ]
  },
  {
   "cell_type": "code",
   "execution_count": 119,
   "metadata": {},
   "outputs": [],
   "source": [
    "from sklearn.model_selection import GridSearchCV"
   ]
  },
  {
   "cell_type": "code",
   "execution_count": 120,
   "metadata": {},
   "outputs": [
    {
     "name": "stdout",
     "output_type": "stream",
     "text": [
      "Fitting 10 folds for each of 198 candidates, totalling 1980 fits\n"
     ]
    },
    {
     "name": "stderr",
     "output_type": "stream",
     "text": [
      "[Parallel(n_jobs=1)]: Using backend SequentialBackend with 1 concurrent workers.\n",
      "[Parallel(n_jobs=1)]: Done 1980 out of 1980 | elapsed:  1.4min finished\n"
     ]
    }
   ],
   "source": [
    "kfold=StratifiedKFold(n_splits=10,shuffle=True,random_state=10)\n",
    "clf=GridSearchCV(model,search_space,cv=kfold,return_train_score=True,verbose=True)\n",
    "clf=clf.fit(x_train,y_train)"
   ]
  },
  {
   "cell_type": "code",
   "execution_count": 121,
   "metadata": {},
   "outputs": [
    {
     "data": {
      "text/plain": [
       "Pipeline(steps=[('knn', KNeighborsClassifier(n_neighbors=47))])"
      ]
     },
     "execution_count": 121,
     "metadata": {},
     "output_type": "execute_result"
    }
   ],
   "source": [
    "clf.best_estimator_"
   ]
  },
  {
   "cell_type": "code",
   "execution_count": 135,
   "metadata": {},
   "outputs": [],
   "source": [
    "from sklearn.metrics import mean_squared_error \n",
    "from math import sqrt\n",
    "from sklearn import neighbors"
   ]
  },
  {
   "cell_type": "code",
   "execution_count": 138,
   "metadata": {},
   "outputs": [
    {
     "name": "stdout",
     "output_type": "stream",
     "text": [
      "RMSE value for k= 1 is: 0.5163977794943222\n",
      "RMSE value for k= 2 is: 0.458257569495584\n",
      "RMSE value for k= 3 is: 0.4405383911466446\n",
      "RMSE value for k= 4 is: 0.43204937989385733\n",
      "RMSE value for k= 5 is: 0.4226897995772629\n",
      "RMSE value for k= 6 is: 0.43290577197284796\n",
      "RMSE value for k= 7 is: 0.41469602013480455\n",
      "RMSE value for k= 8 is: 0.40748210594658835\n",
      "RMSE value for k= 9 is: 0.40123266856150647\n",
      "RMSE value for k= 10 is: 0.3958114029012639\n",
      "RMSE value for k= 11 is: 0.3966804405322078\n",
      "RMSE value for k= 12 is: 0.39616214413349043\n",
      "RMSE value for k= 13 is: 0.39999999999999997\n",
      "RMSE value for k= 14 is: 0.395639497832178\n",
      "RMSE value for k= 15 is: 0.39695134509202806\n",
      "RMSE value for k= 16 is: 0.3974528273896161\n",
      "RMSE value for k= 17 is: 0.3941322795059524\n",
      "RMSE value for k= 18 is: 0.3935174291923921\n",
      "RMSE value for k= 19 is: 0.3945145572963617\n",
      "RMSE value for k= 20 is: 0.39408120990476064\n",
      "RMSE value for k= 21 is: 0.39286916768513597\n",
      "RMSE value for k= 22 is: 0.3886119964007242\n",
      "RMSE value for k= 23 is: 0.390885444052053\n",
      "RMSE value for k= 24 is: 0.39057175563050683\n",
      "RMSE value for k= 25 is: 0.38954332236607525\n",
      "RMSE value for k= 26 is: 0.3874510849065547\n",
      "RMSE value for k= 27 is: 0.3901625234385415\n",
      "RMSE value for k= 28 is: 0.38762753003471817\n",
      "RMSE value for k= 29 is: 0.3867606866982056\n",
      "RMSE value for k= 30 is: 0.3854963130918472\n",
      "RMSE value for k= 31 is: 0.3853905047321532\n",
      "RMSE value for k= 32 is: 0.3869788161730131\n",
      "RMSE value for k= 33 is: 0.38902922825238917\n",
      "RMSE value for k= 34 is: 0.3923430930357075\n",
      "RMSE value for k= 35 is: 0.3912651727079087\n",
      "RMSE value for k= 36 is: 0.39177500471697735\n",
      "RMSE value for k= 37 is: 0.39205650472539294\n",
      "RMSE value for k= 38 is: 0.39240245419371217\n",
      "RMSE value for k= 39 is: 0.3916171790185875\n",
      "RMSE value for k= 40 is: 0.39259818304894556\n",
      "RMSE value for k= 41 is: 0.39182606103459905\n",
      "RMSE value for k= 42 is: 0.3942615589564221\n",
      "RMSE value for k= 43 is: 0.3948286591572876\n",
      "RMSE value for k= 44 is: 0.3956025498027892\n",
      "RMSE value for k= 45 is: 0.3937035294937073\n",
      "RMSE value for k= 46 is: 0.3939443952075444\n",
      "RMSE value for k= 47 is: 0.3943466498111692\n",
      "RMSE value for k= 48 is: 0.39655635721098265\n",
      "RMSE value for k= 49 is: 0.3960375723484426\n",
      "RMSE value for k= 50 is: 0.3956092348096373\n"
     ]
    }
   ],
   "source": [
    "rmse_val = [] #to store rmse values for different k\n",
    "for K in range(50):\n",
    "    K = K+1\n",
    "    model = neighbors.KNeighborsRegressor(n_neighbors = K)\n",
    "\n",
    "    model.fit(x_train, y_train)  #fit the model\n",
    "    pred=model.predict(x_test) #make prediction on test set\n",
    "    error = sqrt(mean_squared_error(y_test,pred)) #calculate rmse\n",
    "    rmse_val.append(error) #store rmse values\n",
    "    print('RMSE value for k=' , K , 'is:', error)"
   ]
  },
  {
   "cell_type": "code",
   "execution_count": 139,
   "metadata": {},
   "outputs": [
    {
     "data": {
      "text/plain": [
       "<matplotlib.axes._subplots.AxesSubplot at 0x2b9e8cae248>"
      ]
     },
     "execution_count": 139,
     "metadata": {},
     "output_type": "execute_result"
    },
    {
     "data": {
      "image/png": "[encoded data removed]",
      "text/plain": [
       "<Figure size 432x288 with 1 Axes>"
      ]
     },
     "metadata": {
      "needs_background": "light"
     },
     "output_type": "display_data"
    }
   ],
   "source": [
    "curve = pd.DataFrame(rmse_val) #elbow curve \n",
    "curve.plot()"
   ]
  },
  {
   "cell_type": "code",
   "execution_count": null,
   "metadata": {},
   "outputs": [],
   "source": []
  },
  {
   "cell_type": "code",
   "execution_count": 122,
   "metadata": {},
   "outputs": [],
   "source": [
    "#n_neighbors =17 is my optimal value for k"
   ]
  },
  {
   "cell_type": "code",
   "execution_count": 123,
   "metadata": {},
   "outputs": [
    {
     "data": {
      "text/html": [
       "<div>\n",
       "<style scoped>\n",
       "    .dataframe tbody tr th:only-of-type {\n",
       "        vertical-align: middle;\n",
       "    }\n",
       "\n",
       "    .dataframe tbody tr th {\n",
       "        vertical-align: top;\n",
       "    }\n",
       "\n",
       "    .dataframe thead th {\n",
       "        text-align: right;\n",
       "    }\n",
       "</style>\n",
       "<table border=\"1\" class=\"dataframe\">\n",
       "  <thead>\n",
       "    <tr style=\"text-align: right;\">\n",
       "      <th></th>\n",
       "      <th>param_knn__n_neighbors</th>\n",
       "      <th>mean_train_score</th>\n",
       "      <th>mean_test_score</th>\n",
       "    </tr>\n",
       "  </thead>\n",
       "  <tbody>\n",
       "    <tr>\n",
       "      <th>0</th>\n",
       "      <td>1</td>\n",
       "      <td>0.842494</td>\n",
       "      <td>0.656629</td>\n",
       "    </tr>\n",
       "    <tr>\n",
       "      <th>1</th>\n",
       "      <td>1</td>\n",
       "      <td>0.842494</td>\n",
       "      <td>0.656629</td>\n",
       "    </tr>\n",
       "    <tr>\n",
       "      <th>2</th>\n",
       "      <td>2</td>\n",
       "      <td>0.799729</td>\n",
       "      <td>0.736962</td>\n",
       "    </tr>\n",
       "    <tr>\n",
       "      <th>3</th>\n",
       "      <td>2</td>\n",
       "      <td>0.866097</td>\n",
       "      <td>0.705729</td>\n",
       "    </tr>\n",
       "    <tr>\n",
       "      <th>4</th>\n",
       "      <td>3</td>\n",
       "      <td>0.802205</td>\n",
       "      <td>0.698156</td>\n",
       "    </tr>\n",
       "    <tr>\n",
       "      <th>...</th>\n",
       "      <td>...</td>\n",
       "      <td>...</td>\n",
       "      <td>...</td>\n",
       "    </tr>\n",
       "    <tr>\n",
       "      <th>193</th>\n",
       "      <td>97</td>\n",
       "      <td>0.881127</td>\n",
       "      <td>0.729500</td>\n",
       "    </tr>\n",
       "    <tr>\n",
       "      <th>194</th>\n",
       "      <td>98</td>\n",
       "      <td>0.757801</td>\n",
       "      <td>0.757836</td>\n",
       "    </tr>\n",
       "    <tr>\n",
       "      <th>195</th>\n",
       "      <td>98</td>\n",
       "      <td>0.881127</td>\n",
       "      <td>0.729500</td>\n",
       "    </tr>\n",
       "    <tr>\n",
       "      <th>196</th>\n",
       "      <td>99</td>\n",
       "      <td>0.757801</td>\n",
       "      <td>0.757836</td>\n",
       "    </tr>\n",
       "    <tr>\n",
       "      <th>197</th>\n",
       "      <td>99</td>\n",
       "      <td>0.881127</td>\n",
       "      <td>0.729500</td>\n",
       "    </tr>\n",
       "  </tbody>\n",
       "</table>\n",
       "<p>198 rows × 3 columns</p>\n",
       "</div>"
      ],
      "text/plain": [
       "    param_knn__n_neighbors  mean_train_score  mean_test_score\n",
       "0                        1          0.842494         0.656629\n",
       "1                        1          0.842494         0.656629\n",
       "2                        2          0.799729         0.736962\n",
       "3                        2          0.866097         0.705729\n",
       "4                        3          0.802205         0.698156\n",
       "..                     ...               ...              ...\n",
       "193                     97          0.881127         0.729500\n",
       "194                     98          0.757801         0.757836\n",
       "195                     98          0.881127         0.729500\n",
       "196                     99          0.757801         0.757836\n",
       "197                     99          0.881127         0.729500\n",
       "\n",
       "[198 rows x 3 columns]"
      ]
     },
     "metadata": {},
     "output_type": "display_data"
    }
   ],
   "source": [
    "param_cols=['param_knn__n_neighbors']\n",
    "score_cols=['mean_train_score','mean_test_score']\n",
    "\n",
    "# look at params\n",
    "df1=pd.DataFrame(clf.cv_results_)\n",
    "display(df1[param_cols+score_cols])"
   ]
  },
  {
   "cell_type": "code",
   "execution_count": 124,
   "metadata": {},
   "outputs": [],
   "source": [
    "#After finding optimal value of k=17 for range 1 to 20 and 47 for range 1 to 100"
   ]
  },
  {
   "cell_type": "code",
   "execution_count": 125,
   "metadata": {},
   "outputs": [
    {
     "data": {
      "text/plain": [
       "KNeighborsClassifier(n_neighbors=47)"
      ]
     },
     "execution_count": 125,
     "metadata": {},
     "output_type": "execute_result"
    }
   ],
   "source": [
    "knn11=KNeighborsClassifier(n_neighbors=47)\n",
    "knn11.fit(x_train,y_train)"
   ]
  },
  {
   "cell_type": "code",
   "execution_count": 126,
   "metadata": {},
   "outputs": [
    {
     "data": {
      "text/plain": [
       "0.7607726597325408"
      ]
     },
     "execution_count": 126,
     "metadata": {},
     "output_type": "execute_result"
    }
   ],
   "source": [
    "knn11.score(x_train,y_train)"
   ]
  },
  {
   "cell_type": "code",
   "execution_count": 127,
   "metadata": {},
   "outputs": [
    {
     "data": {
      "text/plain": [
       "0.8"
      ]
     },
     "execution_count": 127,
     "metadata": {},
     "output_type": "execute_result"
    }
   ],
   "source": [
    "knn11.score(x_test,y_test)"
   ]
  },
  {
   "cell_type": "code",
   "execution_count": 128,
   "metadata": {},
   "outputs": [],
   "source": [
    "pred=knn11.predict(x_test)"
   ]
  },
  {
   "cell_type": "code",
   "execution_count": 129,
   "metadata": {},
   "outputs": [],
   "source": [
    "from sklearn.metrics import confusion_matrix\n"
   ]
  },
  {
   "cell_type": "code",
   "execution_count": 130,
   "metadata": {},
   "outputs": [
    {
     "name": "stdout",
     "output_type": "stream",
     "text": [
      "[[60  0]\n",
      " [15  0]]\n"
     ]
    }
   ],
   "source": [
    "print(confusion_matrix(y_test,pred,labels=[0,1]))"
   ]
  },
  {
   "cell_type": "code",
   "execution_count": 131,
   "metadata": {},
   "outputs": [],
   "source": [
    "tp,fp,fn,tn=confusion_matrix(y_test,pred).ravel()"
   ]
  },
  {
   "cell_type": "code",
   "execution_count": 132,
   "metadata": {},
   "outputs": [
    {
     "name": "stdout",
     "output_type": "stream",
     "text": [
      "TP 60\n",
      "FP 0\n",
      "TN 0\n",
      "FN 15\n"
     ]
    }
   ],
   "source": [
    "print(\"TP\",tp)\n",
    "print(\"FP\",fp)\n",
    "print(\"TN\",tn)\n",
    "print(\"FN\",fn)\n",
    "\n"
   ]
  },
  {
   "cell_type": "code",
   "execution_count": 133,
   "metadata": {},
   "outputs": [
    {
     "data": {
      "text/plain": [
       "0    60\n",
       "1    15\n",
       "Name: whether he/she donated blood in March 2007, dtype: int64"
      ]
     },
     "execution_count": 133,
     "metadata": {},
     "output_type": "execute_result"
    }
   ],
   "source": [
    "y_test.value_counts()"
   ]
  },
  {
   "cell_type": "markdown",
   "metadata": {},
   "source": [
    "# Normalize data"
   ]
  },
  {
   "cell_type": "code",
   "execution_count": 121,
   "metadata": {},
   "outputs": [],
   "source": [
    "from sklearn.preprocessing import Normalizer"
   ]
  },
  {
   "cell_type": "code",
   "execution_count": 122,
   "metadata": {},
   "outputs": [],
   "source": [
    "nd=pd.read_csv(\"transfusion.csv\")"
   ]
  },
  {
   "cell_type": "code",
   "execution_count": 123,
   "metadata": {},
   "outputs": [
    {
     "data": {
      "text/html": [
       "<div>\n",
       "<style scoped>\n",
       "    .dataframe tbody tr th:only-of-type {\n",
       "        vertical-align: middle;\n",
       "    }\n",
       "\n",
       "    .dataframe tbody tr th {\n",
       "        vertical-align: top;\n",
       "    }\n",
       "\n",
       "    .dataframe thead th {\n",
       "        text-align: right;\n",
       "    }\n",
       "</style>\n",
       "<table border=\"1\" class=\"dataframe\">\n",
       "  <thead>\n",
       "    <tr style=\"text-align: right;\">\n",
       "      <th></th>\n",
       "      <th>Recency (months)</th>\n",
       "      <th>Frequency (times)</th>\n",
       "      <th>Monetary (c.c. blood)</th>\n",
       "      <th>Time (months)</th>\n",
       "      <th>whether he/she donated blood in March 2007</th>\n",
       "    </tr>\n",
       "  </thead>\n",
       "  <tbody>\n",
       "    <tr>\n",
       "      <th>0</th>\n",
       "      <td>2</td>\n",
       "      <td>50</td>\n",
       "      <td>12500</td>\n",
       "      <td>98</td>\n",
       "      <td>1</td>\n",
       "    </tr>\n",
       "    <tr>\n",
       "      <th>1</th>\n",
       "      <td>0</td>\n",
       "      <td>13</td>\n",
       "      <td>3250</td>\n",
       "      <td>28</td>\n",
       "      <td>1</td>\n",
       "    </tr>\n",
       "    <tr>\n",
       "      <th>2</th>\n",
       "      <td>1</td>\n",
       "      <td>16</td>\n",
       "      <td>4000</td>\n",
       "      <td>35</td>\n",
       "      <td>1</td>\n",
       "    </tr>\n",
       "    <tr>\n",
       "      <th>3</th>\n",
       "      <td>2</td>\n",
       "      <td>20</td>\n",
       "      <td>5000</td>\n",
       "      <td>45</td>\n",
       "      <td>1</td>\n",
       "    </tr>\n",
       "    <tr>\n",
       "      <th>4</th>\n",
       "      <td>1</td>\n",
       "      <td>24</td>\n",
       "      <td>6000</td>\n",
       "      <td>77</td>\n",
       "      <td>0</td>\n",
       "    </tr>\n",
       "  </tbody>\n",
       "</table>\n",
       "</div>"
      ],
      "text/plain": [
       "   Recency (months)  Frequency (times)  Monetary (c.c. blood)  Time (months)  \\\n",
       "0                 2                 50                  12500             98   \n",
       "1                 0                 13                   3250             28   \n",
       "2                 1                 16                   4000             35   \n",
       "3                 2                 20                   5000             45   \n",
       "4                 1                 24                   6000             77   \n",
       "\n",
       "   whether he/she donated blood in March 2007  \n",
       "0                                           1  \n",
       "1                                           1  \n",
       "2                                           1  \n",
       "3                                           1  \n",
       "4                                           0  "
      ]
     },
     "execution_count": 123,
     "metadata": {},
     "output_type": "execute_result"
    }
   ],
   "source": [
    "nd.head()"
   ]
  },
  {
   "cell_type": "code",
   "execution_count": 124,
   "metadata": {},
   "outputs": [],
   "source": [
    "scaler = Normalizer()"
   ]
  },
  {
   "cell_type": "code",
   "execution_count": 125,
   "metadata": {},
   "outputs": [],
   "source": [
    "dft=nd.drop(\"whether he/she donated blood in March 2007\",axis=1)"
   ]
  },
  {
   "cell_type": "code",
   "execution_count": 126,
   "metadata": {},
   "outputs": [
    {
     "data": {
      "text/html": [
       "<div>\n",
       "<style scoped>\n",
       "    .dataframe tbody tr th:only-of-type {\n",
       "        vertical-align: middle;\n",
       "    }\n",
       "\n",
       "    .dataframe tbody tr th {\n",
       "        vertical-align: top;\n",
       "    }\n",
       "\n",
       "    .dataframe thead th {\n",
       "        text-align: right;\n",
       "    }\n",
       "</style>\n",
       "<table border=\"1\" class=\"dataframe\">\n",
       "  <thead>\n",
       "    <tr style=\"text-align: right;\">\n",
       "      <th></th>\n",
       "      <th>Recency (months)</th>\n",
       "      <th>Frequency (times)</th>\n",
       "      <th>Monetary (c.c. blood)</th>\n",
       "      <th>Time (months)</th>\n",
       "    </tr>\n",
       "  </thead>\n",
       "  <tbody>\n",
       "    <tr>\n",
       "      <th>0</th>\n",
       "      <td>2</td>\n",
       "      <td>50</td>\n",
       "      <td>12500</td>\n",
       "      <td>98</td>\n",
       "    </tr>\n",
       "    <tr>\n",
       "      <th>1</th>\n",
       "      <td>0</td>\n",
       "      <td>13</td>\n",
       "      <td>3250</td>\n",
       "      <td>28</td>\n",
       "    </tr>\n",
       "    <tr>\n",
       "      <th>2</th>\n",
       "      <td>1</td>\n",
       "      <td>16</td>\n",
       "      <td>4000</td>\n",
       "      <td>35</td>\n",
       "    </tr>\n",
       "    <tr>\n",
       "      <th>3</th>\n",
       "      <td>2</td>\n",
       "      <td>20</td>\n",
       "      <td>5000</td>\n",
       "      <td>45</td>\n",
       "    </tr>\n",
       "    <tr>\n",
       "      <th>4</th>\n",
       "      <td>1</td>\n",
       "      <td>24</td>\n",
       "      <td>6000</td>\n",
       "      <td>77</td>\n",
       "    </tr>\n",
       "    <tr>\n",
       "      <th>...</th>\n",
       "      <td>...</td>\n",
       "      <td>...</td>\n",
       "      <td>...</td>\n",
       "      <td>...</td>\n",
       "    </tr>\n",
       "    <tr>\n",
       "      <th>743</th>\n",
       "      <td>23</td>\n",
       "      <td>2</td>\n",
       "      <td>500</td>\n",
       "      <td>38</td>\n",
       "    </tr>\n",
       "    <tr>\n",
       "      <th>744</th>\n",
       "      <td>21</td>\n",
       "      <td>2</td>\n",
       "      <td>500</td>\n",
       "      <td>52</td>\n",
       "    </tr>\n",
       "    <tr>\n",
       "      <th>745</th>\n",
       "      <td>23</td>\n",
       "      <td>3</td>\n",
       "      <td>750</td>\n",
       "      <td>62</td>\n",
       "    </tr>\n",
       "    <tr>\n",
       "      <th>746</th>\n",
       "      <td>39</td>\n",
       "      <td>1</td>\n",
       "      <td>250</td>\n",
       "      <td>39</td>\n",
       "    </tr>\n",
       "    <tr>\n",
       "      <th>747</th>\n",
       "      <td>72</td>\n",
       "      <td>1</td>\n",
       "      <td>250</td>\n",
       "      <td>72</td>\n",
       "    </tr>\n",
       "  </tbody>\n",
       "</table>\n",
       "<p>748 rows × 4 columns</p>\n",
       "</div>"
      ],
      "text/plain": [
       "     Recency (months)  Frequency (times)  Monetary (c.c. blood)  Time (months)\n",
       "0                   2                 50                  12500             98\n",
       "1                   0                 13                   3250             28\n",
       "2                   1                 16                   4000             35\n",
       "3                   2                 20                   5000             45\n",
       "4                   1                 24                   6000             77\n",
       "..                ...                ...                    ...            ...\n",
       "743                23                  2                    500             38\n",
       "744                21                  2                    500             52\n",
       "745                23                  3                    750             62\n",
       "746                39                  1                    250             39\n",
       "747                72                  1                    250             72\n",
       "\n",
       "[748 rows x 4 columns]"
      ]
     },
     "execution_count": 126,
     "metadata": {},
     "output_type": "execute_result"
    }
   ],
   "source": [
    "dft"
   ]
  },
  {
   "cell_type": "code",
   "execution_count": 131,
   "metadata": {},
   "outputs": [],
   "source": [
    "data_tf = scaler.fit_transform(dft)"
   ]
  },
  {
   "cell_type": "code",
   "execution_count": 132,
   "metadata": {},
   "outputs": [
    {
     "data": {
      "text/plain": [
       "array([[1.59993801e-04, 3.99984503e-03, 9.99961257e-01, 7.83969625e-03],\n",
       "       [0.00000000e+00, 3.99981956e-03, 9.99954891e-01, 8.61499598e-03],\n",
       "       [2.49988423e-04, 3.99981476e-03, 9.99953691e-01, 8.74959479e-03],\n",
       "       ...,\n",
       "       [3.05479100e-02, 3.98451000e-03, 9.96127500e-01, 8.23465400e-02],\n",
       "       [1.52335615e-01, 3.90604140e-03, 9.76510350e-01, 1.52335615e-01],\n",
       "       [2.66723383e-01, 3.70449144e-03, 9.26122859e-01, 2.66723383e-01]])"
      ]
     },
     "execution_count": 132,
     "metadata": {},
     "output_type": "execute_result"
    }
   ],
   "source": [
    "data_tf"
   ]
  },
  {
   "cell_type": "code",
   "execution_count": 133,
   "metadata": {},
   "outputs": [],
   "source": [
    "scaledf=pd.DataFrame(data_tf,columns=['Recency (months)', 'Frequency (times)', 'Monetary (c.c. blood)',\n",
    "       'Time (months)'])"
   ]
  },
  {
   "cell_type": "code",
   "execution_count": 134,
   "metadata": {},
   "outputs": [
    {
     "data": {
      "text/html": [
       "<div>\n",
       "<style scoped>\n",
       "    .dataframe tbody tr th:only-of-type {\n",
       "        vertical-align: middle;\n",
       "    }\n",
       "\n",
       "    .dataframe tbody tr th {\n",
       "        vertical-align: top;\n",
       "    }\n",
       "\n",
       "    .dataframe thead th {\n",
       "        text-align: right;\n",
       "    }\n",
       "</style>\n",
       "<table border=\"1\" class=\"dataframe\">\n",
       "  <thead>\n",
       "    <tr style=\"text-align: right;\">\n",
       "      <th></th>\n",
       "      <th>Recency (months)</th>\n",
       "      <th>Frequency (times)</th>\n",
       "      <th>Monetary (c.c. blood)</th>\n",
       "      <th>Time (months)</th>\n",
       "    </tr>\n",
       "  </thead>\n",
       "  <tbody>\n",
       "    <tr>\n",
       "      <th>0</th>\n",
       "      <td>0.000160</td>\n",
       "      <td>0.004000</td>\n",
       "      <td>0.999961</td>\n",
       "      <td>0.007840</td>\n",
       "    </tr>\n",
       "    <tr>\n",
       "      <th>1</th>\n",
       "      <td>0.000000</td>\n",
       "      <td>0.004000</td>\n",
       "      <td>0.999955</td>\n",
       "      <td>0.008615</td>\n",
       "    </tr>\n",
       "    <tr>\n",
       "      <th>2</th>\n",
       "      <td>0.000250</td>\n",
       "      <td>0.004000</td>\n",
       "      <td>0.999954</td>\n",
       "      <td>0.008750</td>\n",
       "    </tr>\n",
       "    <tr>\n",
       "      <th>3</th>\n",
       "      <td>0.000400</td>\n",
       "      <td>0.004000</td>\n",
       "      <td>0.999951</td>\n",
       "      <td>0.009000</td>\n",
       "    </tr>\n",
       "    <tr>\n",
       "      <th>4</th>\n",
       "      <td>0.000167</td>\n",
       "      <td>0.004000</td>\n",
       "      <td>0.999910</td>\n",
       "      <td>0.012832</td>\n",
       "    </tr>\n",
       "    <tr>\n",
       "      <th>...</th>\n",
       "      <td>...</td>\n",
       "      <td>...</td>\n",
       "      <td>...</td>\n",
       "      <td>...</td>\n",
       "    </tr>\n",
       "    <tr>\n",
       "      <th>743</th>\n",
       "      <td>0.045819</td>\n",
       "      <td>0.003984</td>\n",
       "      <td>0.996069</td>\n",
       "      <td>0.075701</td>\n",
       "    </tr>\n",
       "    <tr>\n",
       "      <th>744</th>\n",
       "      <td>0.041738</td>\n",
       "      <td>0.003975</td>\n",
       "      <td>0.993761</td>\n",
       "      <td>0.103351</td>\n",
       "    </tr>\n",
       "    <tr>\n",
       "      <th>745</th>\n",
       "      <td>0.030548</td>\n",
       "      <td>0.003985</td>\n",
       "      <td>0.996127</td>\n",
       "      <td>0.082347</td>\n",
       "    </tr>\n",
       "    <tr>\n",
       "      <th>746</th>\n",
       "      <td>0.152336</td>\n",
       "      <td>0.003906</td>\n",
       "      <td>0.976510</td>\n",
       "      <td>0.152336</td>\n",
       "    </tr>\n",
       "    <tr>\n",
       "      <th>747</th>\n",
       "      <td>0.266723</td>\n",
       "      <td>0.003704</td>\n",
       "      <td>0.926123</td>\n",
       "      <td>0.266723</td>\n",
       "    </tr>\n",
       "  </tbody>\n",
       "</table>\n",
       "<p>748 rows × 4 columns</p>\n",
       "</div>"
      ],
      "text/plain": [
       "     Recency (months)  Frequency (times)  Monetary (c.c. blood)  Time (months)\n",
       "0            0.000160           0.004000               0.999961       0.007840\n",
       "1            0.000000           0.004000               0.999955       0.008615\n",
       "2            0.000250           0.004000               0.999954       0.008750\n",
       "3            0.000400           0.004000               0.999951       0.009000\n",
       "4            0.000167           0.004000               0.999910       0.012832\n",
       "..                ...                ...                    ...            ...\n",
       "743          0.045819           0.003984               0.996069       0.075701\n",
       "744          0.041738           0.003975               0.993761       0.103351\n",
       "745          0.030548           0.003985               0.996127       0.082347\n",
       "746          0.152336           0.003906               0.976510       0.152336\n",
       "747          0.266723           0.003704               0.926123       0.266723\n",
       "\n",
       "[748 rows x 4 columns]"
      ]
     },
     "execution_count": 134,
     "metadata": {},
     "output_type": "execute_result"
    }
   ],
   "source": [
    "scaledf"
   ]
  },
  {
   "cell_type": "code",
   "execution_count": 135,
   "metadata": {},
   "outputs": [],
   "source": [
    "scaledf[\"whether he/she donated blood in March 2007\"]=df.iloc[:,4]"
   ]
  },
  {
   "cell_type": "code",
   "execution_count": 136,
   "metadata": {},
   "outputs": [
    {
     "data": {
      "text/html": [
       "<div>\n",
       "<style scoped>\n",
       "    .dataframe tbody tr th:only-of-type {\n",
       "        vertical-align: middle;\n",
       "    }\n",
       "\n",
       "    .dataframe tbody tr th {\n",
       "        vertical-align: top;\n",
       "    }\n",
       "\n",
       "    .dataframe thead th {\n",
       "        text-align: right;\n",
       "    }\n",
       "</style>\n",
       "<table border=\"1\" class=\"dataframe\">\n",
       "  <thead>\n",
       "    <tr style=\"text-align: right;\">\n",
       "      <th></th>\n",
       "      <th>Recency (months)</th>\n",
       "      <th>Frequency (times)</th>\n",
       "      <th>Monetary (c.c. blood)</th>\n",
       "      <th>Time (months)</th>\n",
       "      <th>whether he/she donated blood in March 2007</th>\n",
       "    </tr>\n",
       "  </thead>\n",
       "  <tbody>\n",
       "    <tr>\n",
       "      <th>0</th>\n",
       "      <td>0.000160</td>\n",
       "      <td>0.004</td>\n",
       "      <td>0.999961</td>\n",
       "      <td>0.007840</td>\n",
       "      <td>1</td>\n",
       "    </tr>\n",
       "    <tr>\n",
       "      <th>1</th>\n",
       "      <td>0.000000</td>\n",
       "      <td>0.004</td>\n",
       "      <td>0.999955</td>\n",
       "      <td>0.008615</td>\n",
       "      <td>1</td>\n",
       "    </tr>\n",
       "    <tr>\n",
       "      <th>2</th>\n",
       "      <td>0.000250</td>\n",
       "      <td>0.004</td>\n",
       "      <td>0.999954</td>\n",
       "      <td>0.008750</td>\n",
       "      <td>1</td>\n",
       "    </tr>\n",
       "    <tr>\n",
       "      <th>3</th>\n",
       "      <td>0.000400</td>\n",
       "      <td>0.004</td>\n",
       "      <td>0.999951</td>\n",
       "      <td>0.009000</td>\n",
       "      <td>1</td>\n",
       "    </tr>\n",
       "    <tr>\n",
       "      <th>4</th>\n",
       "      <td>0.000167</td>\n",
       "      <td>0.004</td>\n",
       "      <td>0.999910</td>\n",
       "      <td>0.012832</td>\n",
       "      <td>0</td>\n",
       "    </tr>\n",
       "  </tbody>\n",
       "</table>\n",
       "</div>"
      ],
      "text/plain": [
       "   Recency (months)  Frequency (times)  Monetary (c.c. blood)  Time (months)  \\\n",
       "0          0.000160              0.004               0.999961       0.007840   \n",
       "1          0.000000              0.004               0.999955       0.008615   \n",
       "2          0.000250              0.004               0.999954       0.008750   \n",
       "3          0.000400              0.004               0.999951       0.009000   \n",
       "4          0.000167              0.004               0.999910       0.012832   \n",
       "\n",
       "   whether he/she donated blood in March 2007  \n",
       "0                                           1  \n",
       "1                                           1  \n",
       "2                                           1  \n",
       "3                                           1  \n",
       "4                                           0  "
      ]
     },
     "execution_count": 136,
     "metadata": {},
     "output_type": "execute_result"
    }
   ],
   "source": [
    "scaledf.head()"
   ]
  },
  {
   "cell_type": "code",
   "execution_count": 138,
   "metadata": {},
   "outputs": [],
   "source": [
    "x_train,x_test,y_train,y_test=train_test_split(x,y,test_size=0.1,random_state=42)"
   ]
  },
  {
   "cell_type": "code",
   "execution_count": 139,
   "metadata": {},
   "outputs": [],
   "source": [
    "knn3=KNeighborsClassifier()"
   ]
  },
  {
   "cell_type": "code",
   "execution_count": 140,
   "metadata": {},
   "outputs": [
    {
     "data": {
      "text/plain": [
       "KNeighborsClassifier()"
      ]
     },
     "execution_count": 140,
     "metadata": {},
     "output_type": "execute_result"
    }
   ],
   "source": [
    "knn3.fit(x_train,y_train)"
   ]
  },
  {
   "cell_type": "code",
   "execution_count": 141,
   "metadata": {},
   "outputs": [
    {
     "data": {
      "text/plain": [
       "0.7964338781575037"
      ]
     },
     "execution_count": 141,
     "metadata": {},
     "output_type": "execute_result"
    }
   ],
   "source": [
    "knn3.score(x_train,y_train)"
   ]
  },
  {
   "cell_type": "code",
   "execution_count": 142,
   "metadata": {},
   "outputs": [
    {
     "data": {
      "text/plain": [
       "0.76"
      ]
     },
     "execution_count": 142,
     "metadata": {},
     "output_type": "execute_result"
    }
   ],
   "source": [
    "knn3.score(x_test,y_test)"
   ]
  },
  {
   "cell_type": "code",
   "execution_count": 143,
   "metadata": {},
   "outputs": [],
   "source": [
    "kf=StratifiedKFold(n_splits=10,shuffle=True,random_state=7)"
   ]
  },
  {
   "cell_type": "code",
   "execution_count": 144,
   "metadata": {},
   "outputs": [],
   "source": [
    "r=cross_val_score(knn3,x_train,y_train,cv=kf)"
   ]
  },
  {
   "cell_type": "code",
   "execution_count": 145,
   "metadata": {},
   "outputs": [
    {
     "data": {
      "text/plain": [
       "array([0.79411765, 0.66176471, 0.77941176, 0.71641791, 0.74626866,\n",
       "       0.65671642, 0.74626866, 0.71641791, 0.73134328, 0.71641791])"
      ]
     },
     "execution_count": 145,
     "metadata": {},
     "output_type": "execute_result"
    }
   ],
   "source": [
    "r"
   ]
  },
  {
   "cell_type": "code",
   "execution_count": 146,
   "metadata": {},
   "outputs": [
    {
     "data": {
      "text/plain": [
       "0.7265144863915716"
      ]
     },
     "execution_count": 146,
     "metadata": {},
     "output_type": "execute_result"
    }
   ],
   "source": [
    "r.mean()"
   ]
  },
  {
   "cell_type": "code",
   "execution_count": null,
   "metadata": {},
   "outputs": [],
   "source": [
    "# remove Monetary feature"
   ]
  },
  {
   "cell_type": "code",
   "execution_count": 147,
   "metadata": {},
   "outputs": [
    {
     "name": "stderr",
     "output_type": "stream",
     "text": [
      "C:\\Users\\gurdit\\Anaconda3\\lib\\site-packages\\pandas\\core\\frame.py:3997: SettingWithCopyWarning: \n",
      "A value is trying to be set on a copy of a slice from a DataFrame\n",
      "\n",
      "See the caveats in the documentation: https://pandas.pydata.org/pandas-docs/stable/user_guide/indexing.html#returning-a-view-versus-a-copy\n",
      "  errors=errors,\n"
     ]
    }
   ],
   "source": [
    "x_train.drop(\"Monetary (c.c. blood)\",axis=1,inplace=True)"
   ]
  },
  {
   "cell_type": "code",
   "execution_count": 148,
   "metadata": {},
   "outputs": [
    {
     "data": {
      "text/html": [
       "<div>\n",
       "<style scoped>\n",
       "    .dataframe tbody tr th:only-of-type {\n",
       "        vertical-align: middle;\n",
       "    }\n",
       "\n",
       "    .dataframe tbody tr th {\n",
       "        vertical-align: top;\n",
       "    }\n",
       "\n",
       "    .dataframe thead th {\n",
       "        text-align: right;\n",
       "    }\n",
       "</style>\n",
       "<table border=\"1\" class=\"dataframe\">\n",
       "  <thead>\n",
       "    <tr style=\"text-align: right;\">\n",
       "      <th></th>\n",
       "      <th>Frequency (times)</th>\n",
       "      <th>Time (months)</th>\n",
       "    </tr>\n",
       "  </thead>\n",
       "  <tbody>\n",
       "    <tr>\n",
       "      <th>422</th>\n",
       "      <td>0.936146</td>\n",
       "      <td>0.463132</td>\n",
       "    </tr>\n",
       "    <tr>\n",
       "      <th>541</th>\n",
       "      <td>1.710629</td>\n",
       "      <td>0.727324</td>\n",
       "    </tr>\n",
       "    <tr>\n",
       "      <th>72</th>\n",
       "      <td>1.933887</td>\n",
       "      <td>1.507278</td>\n",
       "    </tr>\n",
       "    <tr>\n",
       "      <th>213</th>\n",
       "      <td>0.625921</td>\n",
       "      <td>1.243086</td>\n",
       "    </tr>\n",
       "    <tr>\n",
       "      <th>381</th>\n",
       "      <td>0.625921</td>\n",
       "      <td>0.832584</td>\n",
       "    </tr>\n",
       "    <tr>\n",
       "      <th>...</th>\n",
       "      <td>...</td>\n",
       "      <td>...</td>\n",
       "    </tr>\n",
       "    <tr>\n",
       "      <th>71</th>\n",
       "      <td>1.276987</td>\n",
       "      <td>0.750483</td>\n",
       "    </tr>\n",
       "    <tr>\n",
       "      <th>106</th>\n",
       "      <td>1.609783</td>\n",
       "      <td>1.014675</td>\n",
       "    </tr>\n",
       "    <tr>\n",
       "      <th>270</th>\n",
       "      <td>1.752508</td>\n",
       "      <td>0.234722</td>\n",
       "    </tr>\n",
       "    <tr>\n",
       "      <th>435</th>\n",
       "      <td>1.547706</td>\n",
       "      <td>2.410382</td>\n",
       "    </tr>\n",
       "    <tr>\n",
       "      <th>102</th>\n",
       "      <td>1.663487</td>\n",
       "      <td>0.234722</td>\n",
       "    </tr>\n",
       "  </tbody>\n",
       "</table>\n",
       "<p>673 rows × 2 columns</p>\n",
       "</div>"
      ],
      "text/plain": [
       "     Frequency (times)  Time (months)\n",
       "422           0.936146       0.463132\n",
       "541           1.710629       0.727324\n",
       "72            1.933887       1.507278\n",
       "213           0.625921       1.243086\n",
       "381           0.625921       0.832584\n",
       "..                 ...            ...\n",
       "71            1.276987       0.750483\n",
       "106           1.609783       1.014675\n",
       "270           1.752508       0.234722\n",
       "435           1.547706       2.410382\n",
       "102           1.663487       0.234722\n",
       "\n",
       "[673 rows x 2 columns]"
      ]
     },
     "execution_count": 148,
     "metadata": {},
     "output_type": "execute_result"
    }
   ],
   "source": [
    "x_train"
   ]
  },
  {
   "cell_type": "code",
   "execution_count": 150,
   "metadata": {},
   "outputs": [
    {
     "name": "stderr",
     "output_type": "stream",
     "text": [
      "C:\\Users\\gurdit\\Anaconda3\\lib\\site-packages\\pandas\\core\\frame.py:3997: SettingWithCopyWarning: \n",
      "A value is trying to be set on a copy of a slice from a DataFrame\n",
      "\n",
      "See the caveats in the documentation: https://pandas.pydata.org/pandas-docs/stable/user_guide/indexing.html#returning-a-view-versus-a-copy\n",
      "  errors=errors,\n"
     ]
    }
   ],
   "source": [
    "x_test.drop(\"Monetary (c.c. blood)\",axis=1,inplace=True)"
   ]
  },
  {
   "cell_type": "code",
   "execution_count": 151,
   "metadata": {},
   "outputs": [
    {
     "data": {
      "text/html": [
       "<div>\n",
       "<style scoped>\n",
       "    .dataframe tbody tr th:only-of-type {\n",
       "        vertical-align: middle;\n",
       "    }\n",
       "\n",
       "    .dataframe tbody tr th {\n",
       "        vertical-align: top;\n",
       "    }\n",
       "\n",
       "    .dataframe thead th {\n",
       "        text-align: right;\n",
       "    }\n",
       "</style>\n",
       "<table border=\"1\" class=\"dataframe\">\n",
       "  <thead>\n",
       "    <tr style=\"text-align: right;\">\n",
       "      <th></th>\n",
       "      <th>Frequency (times)</th>\n",
       "      <th>Time (months)</th>\n",
       "    </tr>\n",
       "  </thead>\n",
       "  <tbody>\n",
       "    <tr>\n",
       "      <th>580</th>\n",
       "      <td>0.625921</td>\n",
       "      <td>1.325186</td>\n",
       "    </tr>\n",
       "    <tr>\n",
       "      <th>356</th>\n",
       "      <td>1.474628</td>\n",
       "      <td>0.234722</td>\n",
       "    </tr>\n",
       "    <tr>\n",
       "      <th>133</th>\n",
       "      <td>1.474628</td>\n",
       "      <td>0.029471</td>\n",
       "    </tr>\n",
       "    <tr>\n",
       "      <th>250</th>\n",
       "      <td>0.936146</td>\n",
       "      <td>0.955734</td>\n",
       "    </tr>\n",
       "    <tr>\n",
       "      <th>299</th>\n",
       "      <td>0.936146</td>\n",
       "      <td>0.832584</td>\n",
       "    </tr>\n",
       "  </tbody>\n",
       "</table>\n",
       "</div>"
      ],
      "text/plain": [
       "     Frequency (times)  Time (months)\n",
       "580           0.625921       1.325186\n",
       "356           1.474628       0.234722\n",
       "133           1.474628       0.029471\n",
       "250           0.936146       0.955734\n",
       "299           0.936146       0.832584"
      ]
     },
     "execution_count": 151,
     "metadata": {},
     "output_type": "execute_result"
    }
   ],
   "source": [
    "x_test.head()"
   ]
  },
  {
   "cell_type": "code",
   "execution_count": 152,
   "metadata": {},
   "outputs": [],
   "source": [
    "knn4=KNeighborsClassifier()"
   ]
  },
  {
   "cell_type": "code",
   "execution_count": 159,
   "metadata": {},
   "outputs": [
    {
     "data": {
      "text/plain": [
       "KNeighborsClassifier()"
      ]
     },
     "execution_count": 159,
     "metadata": {},
     "output_type": "execute_result"
    }
   ],
   "source": [
    "knn4.fit(x_train,y_train)"
   ]
  },
  {
   "cell_type": "code",
   "execution_count": 160,
   "metadata": {},
   "outputs": [
    {
     "data": {
      "text/plain": [
       "0.7860326894502229"
      ]
     },
     "execution_count": 160,
     "metadata": {},
     "output_type": "execute_result"
    }
   ],
   "source": [
    "knn4.score(x_train,y_train)"
   ]
  },
  {
   "cell_type": "code",
   "execution_count": 161,
   "metadata": {},
   "outputs": [
    {
     "data": {
      "text/plain": [
       "0.8"
      ]
     },
     "execution_count": 161,
     "metadata": {},
     "output_type": "execute_result"
    }
   ],
   "source": [
    "knn4.score(x_test,y_test)"
   ]
  },
  {
   "cell_type": "code",
   "execution_count": 162,
   "metadata": {},
   "outputs": [],
   "source": [
    "kfd=StratifiedKFold(n_splits=10,shuffle=True,random_state=42)"
   ]
  },
  {
   "cell_type": "code",
   "execution_count": 163,
   "metadata": {},
   "outputs": [],
   "source": [
    "rt=cross_val_score(knn4,x_train,y_train,cv=kfd)"
   ]
  },
  {
   "cell_type": "code",
   "execution_count": 164,
   "metadata": {},
   "outputs": [
    {
     "data": {
      "text/plain": [
       "array([0.67647059, 0.80882353, 0.80882353, 0.65671642, 0.73134328,\n",
       "       0.73134328, 0.65671642, 0.62686567, 0.76119403, 0.74626866])"
      ]
     },
     "execution_count": 164,
     "metadata": {},
     "output_type": "execute_result"
    }
   ],
   "source": [
    "rt"
   ]
  },
  {
   "cell_type": "code",
   "execution_count": 165,
   "metadata": {},
   "outputs": [
    {
     "data": {
      "text/plain": [
       "0.7860326894502229"
      ]
     },
     "execution_count": 165,
     "metadata": {},
     "output_type": "execute_result"
    }
   ],
   "source": [
    "knn4.score(x_train,y_train)"
   ]
  },
  {
   "cell_type": "code",
   "execution_count": 166,
   "metadata": {},
   "outputs": [
    {
     "data": {
      "text/plain": [
       "0.7204565408252853"
      ]
     },
     "execution_count": 166,
     "metadata": {},
     "output_type": "execute_result"
    }
   ],
   "source": [
    "rt.mean()"
   ]
  },
  {
   "cell_type": "code",
   "execution_count": null,
   "metadata": {},
   "outputs": [],
   "source": [
    "# Got a better score after removing Monetary in all 3 cases"
   ]
  },
  {
   "cell_type": "code",
   "execution_count": 56,
   "metadata": {},
   "outputs": [
    {
     "name": "stdout",
     "output_type": "stream",
     "text": [
      "Recency (months)                                 1.44002\n",
      "Frequency (times)                                0.61156\n",
      "Monetary (c.c. blood)                         1250.00000\n",
      "Time (months)                                   34.00000\n",
      "whether he/she donated blood in March 2007       0.00000\n",
      "dtype: float64\n"
     ]
    }
   ],
   "source": [
    "Q1=df.quantile(0.25)\n",
    "Q3=df.quantile(0.75)\n",
    "IQR=Q3-Q1\n",
    "print(IQR) # maximum data is clustered at IQR"
   ]
  },
  {
   "cell_type": "code",
   "execution_count": null,
   "metadata": {},
   "outputs": [],
   "source": []
  },
  {
   "cell_type": "code",
   "execution_count": null,
   "metadata": {},
   "outputs": [],
   "source": []
  }
 ],
 "metadata": {
  "kernelspec": {
   "display_name": "Python 3",
   "language": "python",
   "name": "python3"
  },
  "language_info": {
   "codemirror_mode": {
    "name": "ipython",
    "version": 3
   },
   "file_extension": ".py",
   "mimetype": "text/x-python",
   "name": "python",
   "nbconvert_exporter": "python",
   "pygments_lexer": "ipython3",
   "version": "3.7.6"
  }
 },
 "nbformat": 4,
 "nbformat_minor": 4
}
