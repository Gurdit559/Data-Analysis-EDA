{
 "cells": [
  {
   "cell_type": "markdown",
   "metadata": {},
   "source": [
    "# Predict heart disease\n",
    "\n",
    "## Problem statement\n",
    "As a part of health check automation, it is required to provide a preliminary\n",
    "diagnosis of whether, a given patient is likely to have heart disease, based\n",
    "on his/her medical records\n",
    "\n",
    "# Dataset Description\n",
    "<b>Age</b> - age in years<br>\n",
    "<b>Sex</b> –<br>\n",
    "1 = male;<br>\n",
    "0 = female<br>\n",
    "<b>ChestPain</b> –<br>\n",
    "1: typical angina<br>\n",
    "2: atypical angina<br>\n",
    "3: non-anginal pain<br>\n",
    "4: asymptomatic<br>\n",
    "<b>Rest_bp</b> – resting BP (mm Hg on admission to the hospital)<br>\n",
    "<b>Cholesterol</b> - serum cholesterol in mg/dl<br>\n",
    "<b>Fast_bld_sugar </b></b>- (fasting blood sugar > 120 mg/dl)<br>\n",
    "(1 = true; 0 = false)<br>\n",
    "<b>Rest_Ecg</b> –<br>\n",
    "0: normal<br>\n",
    "1: abnormal<br>\n",
    "2: probable or definite left ventricular enlargement<br>\n",
    "<b>Max_Rt</b> - maximum heart rate achieved<br>\n",
    "<b>Ex_Angina</b></b> - exercise induced angina<br>\n",
    "1 = yes;<br>\n",
    "0 = no<br>\n",
    "<b>St_Depr</b> - ST depression induced by exercise relative to rest<br>\n",
    "<b>Slope</b> - the slope of the peak exercise ST segment<br>\n",
    "1: upsloping<br>\n",
    "2: flat<br>\n",
    "3: down sloping<br>\n",
    "<b>Colored_Vessels</b> - number of major vessels (0-3) colored by flourosopy\n",
    "Thalassemi"
   ]
  },
  {
   "cell_type": "code",
   "execution_count": 687,
   "metadata": {},
   "outputs": [],
   "source": [
    "import pandas as pd\n",
    "import numpy as np\n",
    "import matplotlib.pyplot as plt\n",
    "import seaborn as sns\n",
    "\n",
    "\n",
    "from sklearn.impute import SimpleImputer\n",
    "from sklearn.model_selection import train_test_split, KFold, cross_val_score # to split the data\n",
    "from sklearn.metrics import accuracy_score, confusion_matrix, classification_report, fbeta_score #To evaluate our model\n",
    "\n",
    "from sklearn.model_selection import GridSearchCV\n",
    "\n",
    "# Algorithmns models to be compared\n",
    "from sklearn.ensemble import RandomForestClassifier\n",
    "from sklearn.linear_model import LogisticRegression\n",
    "from sklearn.tree import DecisionTreeClassifier\n",
    "from sklearn.neighbors import KNeighborsClassifier\n",
    "from sklearn.ensemble import RandomForestClassifier\n",
    "from sklearn.discriminant_analysis import LinearDiscriminantAnalysis\n",
    "from sklearn.naive_bayes import GaussianNB\n",
    "from sklearn.svm import SVC\n",
    "from xgboost import XGBClassifier\n",
    "\n",
    "\n",
    "import warnings\n",
    "import matplotlib.cbook\n",
    "warnings.filterwarnings('ignore')\n",
    "pd.options.mode.chained_assignment = None\n",
    "warnings.filterwarnings(\"ignore\", category=matplotlib.cbook.mplDeprecation)"
   ]
  },
  {
   "cell_type": "code",
   "execution_count": 587,
   "metadata": {},
   "outputs": [],
   "source": [
    "df=pd.read_csv(\"Comb_heart_Data.csv\")"
   ]
  },
  {
   "cell_type": "code",
   "execution_count": 588,
   "metadata": {},
   "outputs": [
    {
     "data": {
      "text/html": [
       "<div>\n",
       "<style scoped>\n",
       "    .dataframe tbody tr th:only-of-type {\n",
       "        vertical-align: middle;\n",
       "    }\n",
       "\n",
       "    .dataframe tbody tr th {\n",
       "        vertical-align: top;\n",
       "    }\n",
       "\n",
       "    .dataframe thead th {\n",
       "        text-align: right;\n",
       "    }\n",
       "</style>\n",
       "<table border=\"1\" class=\"dataframe\">\n",
       "  <thead>\n",
       "    <tr style=\"text-align: right;\">\n",
       "      <th></th>\n",
       "      <th>Age</th>\n",
       "      <th>Sex</th>\n",
       "      <th>ChestPain</th>\n",
       "      <th>Rest_bp</th>\n",
       "      <th>Cholestrol</th>\n",
       "      <th>Fast_bld_sugar</th>\n",
       "      <th>Rest_Ecg</th>\n",
       "      <th>Max_Rt</th>\n",
       "      <th>Ex_Angina</th>\n",
       "      <th>St_Depr</th>\n",
       "      <th>Slope</th>\n",
       "      <th>Colored_Vessels</th>\n",
       "      <th>Thalassemia</th>\n",
       "      <th>Target</th>\n",
       "    </tr>\n",
       "  </thead>\n",
       "  <tbody>\n",
       "    <tr>\n",
       "      <th>0</th>\n",
       "      <td>63</td>\n",
       "      <td>1</td>\n",
       "      <td>1</td>\n",
       "      <td>145</td>\n",
       "      <td>233</td>\n",
       "      <td>1</td>\n",
       "      <td>2</td>\n",
       "      <td>150</td>\n",
       "      <td>0</td>\n",
       "      <td>2.3</td>\n",
       "      <td>3</td>\n",
       "      <td>0</td>\n",
       "      <td>6</td>\n",
       "      <td>0</td>\n",
       "    </tr>\n",
       "    <tr>\n",
       "      <th>1</th>\n",
       "      <td>67</td>\n",
       "      <td>1</td>\n",
       "      <td>4</td>\n",
       "      <td>160</td>\n",
       "      <td>286</td>\n",
       "      <td>0</td>\n",
       "      <td>2</td>\n",
       "      <td>108</td>\n",
       "      <td>1</td>\n",
       "      <td>1.5</td>\n",
       "      <td>2</td>\n",
       "      <td>3</td>\n",
       "      <td>3</td>\n",
       "      <td>2</td>\n",
       "    </tr>\n",
       "    <tr>\n",
       "      <th>2</th>\n",
       "      <td>67</td>\n",
       "      <td>1</td>\n",
       "      <td>4</td>\n",
       "      <td>120</td>\n",
       "      <td>229</td>\n",
       "      <td>0</td>\n",
       "      <td>2</td>\n",
       "      <td>129</td>\n",
       "      <td>1</td>\n",
       "      <td>2.6</td>\n",
       "      <td>2</td>\n",
       "      <td>2</td>\n",
       "      <td>7</td>\n",
       "      <td>1</td>\n",
       "    </tr>\n",
       "    <tr>\n",
       "      <th>3</th>\n",
       "      <td>37</td>\n",
       "      <td>1</td>\n",
       "      <td>3</td>\n",
       "      <td>130</td>\n",
       "      <td>250</td>\n",
       "      <td>0</td>\n",
       "      <td>0</td>\n",
       "      <td>187</td>\n",
       "      <td>0</td>\n",
       "      <td>3.5</td>\n",
       "      <td>3</td>\n",
       "      <td>0</td>\n",
       "      <td>3</td>\n",
       "      <td>0</td>\n",
       "    </tr>\n",
       "    <tr>\n",
       "      <th>4</th>\n",
       "      <td>41</td>\n",
       "      <td>0</td>\n",
       "      <td>2</td>\n",
       "      <td>130</td>\n",
       "      <td>204</td>\n",
       "      <td>0</td>\n",
       "      <td>2</td>\n",
       "      <td>172</td>\n",
       "      <td>0</td>\n",
       "      <td>1.4</td>\n",
       "      <td>1</td>\n",
       "      <td>0</td>\n",
       "      <td>3</td>\n",
       "      <td>0</td>\n",
       "    </tr>\n",
       "  </tbody>\n",
       "</table>\n",
       "</div>"
      ],
      "text/plain": [
       "   Age  Sex  ChestPain Rest_bp Cholestrol Fast_bld_sugar Rest_Ecg Max_Rt  \\\n",
       "0   63    1          1     145        233              1        2    150   \n",
       "1   67    1          4     160        286              0        2    108   \n",
       "2   67    1          4     120        229              0        2    129   \n",
       "3   37    1          3     130        250              0        0    187   \n",
       "4   41    0          2     130        204              0        2    172   \n",
       "\n",
       "  Ex_Angina St_Depr Slope Colored_Vessels Thalassemia  Target  \n",
       "0         0     2.3     3               0           6       0  \n",
       "1         1     1.5     2               3           3       2  \n",
       "2         1     2.6     2               2           7       1  \n",
       "3         0     3.5     3               0           3       0  \n",
       "4         0     1.4     1               0           3       0  "
      ]
     },
     "execution_count": 588,
     "metadata": {},
     "output_type": "execute_result"
    }
   ],
   "source": [
    "df.head()"
   ]
  },
  {
   "cell_type": "code",
   "execution_count": 589,
   "metadata": {},
   "outputs": [
    {
     "data": {
      "text/plain": [
       "0    387\n",
       "1    214\n",
       "2    145\n",
       "3    142\n",
       "4     41\n",
       "Name: Target, dtype: int64"
      ]
     },
     "execution_count": 589,
     "metadata": {},
     "output_type": "execute_result"
    }
   ],
   "source": [
    "df.Target.value_counts()"
   ]
  },
  {
   "cell_type": "code",
   "execution_count": 590,
   "metadata": {},
   "outputs": [
    {
     "data": {
      "text/plain": [
       "(929, 14)"
      ]
     },
     "execution_count": 590,
     "metadata": {},
     "output_type": "execute_result"
    }
   ],
   "source": [
    "df.shape"
   ]
  },
  {
   "cell_type": "markdown",
   "metadata": {},
   "source": [
    "### Since the problem is to classifiy if the patient has heart disease or not we can convert all the target datapoints in terms of 0 and 1 \n",
    "0: no heart disease\n",
    "1: has heart disease  "
   ]
  },
  {
   "cell_type": "code",
   "execution_count": 591,
   "metadata": {},
   "outputs": [],
   "source": [
    "df1=df.copy()"
   ]
  },
  {
   "cell_type": "code",
   "execution_count": 592,
   "metadata": {},
   "outputs": [],
   "source": [
    "df1.Target=df1.Target.apply(lambda x:1 if x!=0 else 0)"
   ]
  },
  {
   "cell_type": "code",
   "execution_count": 593,
   "metadata": {},
   "outputs": [
    {
     "data": {
      "text/html": [
       "<div>\n",
       "<style scoped>\n",
       "    .dataframe tbody tr th:only-of-type {\n",
       "        vertical-align: middle;\n",
       "    }\n",
       "\n",
       "    .dataframe tbody tr th {\n",
       "        vertical-align: top;\n",
       "    }\n",
       "\n",
       "    .dataframe thead th {\n",
       "        text-align: right;\n",
       "    }\n",
       "</style>\n",
       "<table border=\"1\" class=\"dataframe\">\n",
       "  <thead>\n",
       "    <tr style=\"text-align: right;\">\n",
       "      <th></th>\n",
       "      <th>Age</th>\n",
       "      <th>Sex</th>\n",
       "      <th>ChestPain</th>\n",
       "      <th>Rest_bp</th>\n",
       "      <th>Cholestrol</th>\n",
       "      <th>Fast_bld_sugar</th>\n",
       "      <th>Rest_Ecg</th>\n",
       "      <th>Max_Rt</th>\n",
       "      <th>Ex_Angina</th>\n",
       "      <th>St_Depr</th>\n",
       "      <th>Slope</th>\n",
       "      <th>Colored_Vessels</th>\n",
       "      <th>Thalassemia</th>\n",
       "      <th>Target</th>\n",
       "    </tr>\n",
       "  </thead>\n",
       "  <tbody>\n",
       "    <tr>\n",
       "      <th>0</th>\n",
       "      <td>63</td>\n",
       "      <td>1</td>\n",
       "      <td>1</td>\n",
       "      <td>145</td>\n",
       "      <td>233</td>\n",
       "      <td>1</td>\n",
       "      <td>2</td>\n",
       "      <td>150</td>\n",
       "      <td>0</td>\n",
       "      <td>2.3</td>\n",
       "      <td>3</td>\n",
       "      <td>0</td>\n",
       "      <td>6</td>\n",
       "      <td>0</td>\n",
       "    </tr>\n",
       "    <tr>\n",
       "      <th>1</th>\n",
       "      <td>67</td>\n",
       "      <td>1</td>\n",
       "      <td>4</td>\n",
       "      <td>160</td>\n",
       "      <td>286</td>\n",
       "      <td>0</td>\n",
       "      <td>2</td>\n",
       "      <td>108</td>\n",
       "      <td>1</td>\n",
       "      <td>1.5</td>\n",
       "      <td>2</td>\n",
       "      <td>3</td>\n",
       "      <td>3</td>\n",
       "      <td>1</td>\n",
       "    </tr>\n",
       "    <tr>\n",
       "      <th>2</th>\n",
       "      <td>67</td>\n",
       "      <td>1</td>\n",
       "      <td>4</td>\n",
       "      <td>120</td>\n",
       "      <td>229</td>\n",
       "      <td>0</td>\n",
       "      <td>2</td>\n",
       "      <td>129</td>\n",
       "      <td>1</td>\n",
       "      <td>2.6</td>\n",
       "      <td>2</td>\n",
       "      <td>2</td>\n",
       "      <td>7</td>\n",
       "      <td>1</td>\n",
       "    </tr>\n",
       "    <tr>\n",
       "      <th>3</th>\n",
       "      <td>37</td>\n",
       "      <td>1</td>\n",
       "      <td>3</td>\n",
       "      <td>130</td>\n",
       "      <td>250</td>\n",
       "      <td>0</td>\n",
       "      <td>0</td>\n",
       "      <td>187</td>\n",
       "      <td>0</td>\n",
       "      <td>3.5</td>\n",
       "      <td>3</td>\n",
       "      <td>0</td>\n",
       "      <td>3</td>\n",
       "      <td>0</td>\n",
       "    </tr>\n",
       "    <tr>\n",
       "      <th>4</th>\n",
       "      <td>41</td>\n",
       "      <td>0</td>\n",
       "      <td>2</td>\n",
       "      <td>130</td>\n",
       "      <td>204</td>\n",
       "      <td>0</td>\n",
       "      <td>2</td>\n",
       "      <td>172</td>\n",
       "      <td>0</td>\n",
       "      <td>1.4</td>\n",
       "      <td>1</td>\n",
       "      <td>0</td>\n",
       "      <td>3</td>\n",
       "      <td>0</td>\n",
       "    </tr>\n",
       "  </tbody>\n",
       "</table>\n",
       "</div>"
      ],
      "text/plain": [
       "   Age  Sex  ChestPain Rest_bp Cholestrol Fast_bld_sugar Rest_Ecg Max_Rt  \\\n",
       "0   63    1          1     145        233              1        2    150   \n",
       "1   67    1          4     160        286              0        2    108   \n",
       "2   67    1          4     120        229              0        2    129   \n",
       "3   37    1          3     130        250              0        0    187   \n",
       "4   41    0          2     130        204              0        2    172   \n",
       "\n",
       "  Ex_Angina St_Depr Slope Colored_Vessels Thalassemia  Target  \n",
       "0         0     2.3     3               0           6       0  \n",
       "1         1     1.5     2               3           3       1  \n",
       "2         1     2.6     2               2           7       1  \n",
       "3         0     3.5     3               0           3       0  \n",
       "4         0     1.4     1               0           3       0  "
      ]
     },
     "execution_count": 593,
     "metadata": {},
     "output_type": "execute_result"
    }
   ],
   "source": [
    "df1.head()"
   ]
  },
  {
   "cell_type": "code",
   "execution_count": 594,
   "metadata": {},
   "outputs": [],
   "source": [
    "df1.replace(\"?\",np.NAN,inplace=True)"
   ]
  },
  {
   "cell_type": "code",
   "execution_count": 595,
   "metadata": {},
   "outputs": [
    {
     "data": {
      "text/plain": [
       "1    542\n",
       "0    387\n",
       "Name: Target, dtype: int64"
      ]
     },
     "execution_count": 595,
     "metadata": {},
     "output_type": "execute_result"
    }
   ],
   "source": [
    "df1.Target.value_counts()"
   ]
  },
  {
   "cell_type": "code",
   "execution_count": 596,
   "metadata": {},
   "outputs": [],
   "source": [
    "df1.Target=df1.Target.astype(\"object\")"
   ]
  },
  {
   "cell_type": "code",
   "execution_count": 597,
   "metadata": {},
   "outputs": [
    {
     "data": {
      "text/plain": [
       "Age                  0\n",
       "Sex                  0\n",
       "ChestPain            0\n",
       "Rest_bp             58\n",
       "Cholestrol           7\n",
       "Fast_bld_sugar      82\n",
       "Rest_Ecg             1\n",
       "Max_Rt              54\n",
       "Ex_Angina           54\n",
       "St_Depr             62\n",
       "Slope              119\n",
       "Colored_Vessels    324\n",
       "Thalassemia        222\n",
       "Target               0\n",
       "dtype: int64"
      ]
     },
     "execution_count": 597,
     "metadata": {},
     "output_type": "execute_result"
    }
   ],
   "source": [
    "df1.isnull().sum()#no null values"
   ]
  },
  {
   "cell_type": "code",
   "execution_count": 598,
   "metadata": {},
   "outputs": [
    {
     "name": "stdout",
     "output_type": "stream",
     "text": [
      "<class 'pandas.core.frame.DataFrame'>\n",
      "RangeIndex: 929 entries, 0 to 928\n",
      "Data columns (total 14 columns):\n",
      " #   Column           Non-Null Count  Dtype \n",
      "---  ------           --------------  ----- \n",
      " 0   Age              929 non-null    int64 \n",
      " 1   Sex              929 non-null    int64 \n",
      " 2   ChestPain        929 non-null    int64 \n",
      " 3   Rest_bp          871 non-null    object\n",
      " 4   Cholestrol       922 non-null    object\n",
      " 5   Fast_bld_sugar   847 non-null    object\n",
      " 6   Rest_Ecg         928 non-null    object\n",
      " 7   Max_Rt           875 non-null    object\n",
      " 8   Ex_Angina        875 non-null    object\n",
      " 9   St_Depr          867 non-null    object\n",
      " 10  Slope            810 non-null    object\n",
      " 11  Colored_Vessels  605 non-null    object\n",
      " 12  Thalassemia      707 non-null    object\n",
      " 13  Target           929 non-null    object\n",
      "dtypes: int64(3), object(11)\n",
      "memory usage: 101.7+ KB\n"
     ]
    }
   ],
   "source": [
    "df1.info()"
   ]
  },
  {
   "cell_type": "markdown",
   "metadata": {},
   "source": [
    "### Descriptive Statistics "
   ]
  },
  {
   "cell_type": "code",
   "execution_count": 599,
   "metadata": {},
   "outputs": [
    {
     "data": {
      "text/plain": [
       "(929, 14)"
      ]
     },
     "execution_count": 599,
     "metadata": {},
     "output_type": "execute_result"
    }
   ],
   "source": [
    "df1.shape"
   ]
  },
  {
   "cell_type": "code",
   "execution_count": 600,
   "metadata": {},
   "outputs": [
    {
     "name": "stdout",
     "output_type": "stream",
     "text": [
      "<class 'pandas.core.frame.DataFrame'>\n",
      "RangeIndex: 929 entries, 0 to 928\n",
      "Data columns (total 14 columns):\n",
      " #   Column           Non-Null Count  Dtype \n",
      "---  ------           --------------  ----- \n",
      " 0   Age              929 non-null    int64 \n",
      " 1   Sex              929 non-null    int64 \n",
      " 2   ChestPain        929 non-null    int64 \n",
      " 3   Rest_bp          871 non-null    object\n",
      " 4   Cholestrol       922 non-null    object\n",
      " 5   Fast_bld_sugar   847 non-null    object\n",
      " 6   Rest_Ecg         928 non-null    object\n",
      " 7   Max_Rt           875 non-null    object\n",
      " 8   Ex_Angina        875 non-null    object\n",
      " 9   St_Depr          867 non-null    object\n",
      " 10  Slope            810 non-null    object\n",
      " 11  Colored_Vessels  605 non-null    object\n",
      " 12  Thalassemia      707 non-null    object\n",
      " 13  Target           929 non-null    object\n",
      "dtypes: int64(3), object(11)\n",
      "memory usage: 101.7+ KB\n"
     ]
    }
   ],
   "source": [
    "df1.info()"
   ]
  },
  {
   "cell_type": "code",
   "execution_count": 601,
   "metadata": {},
   "outputs": [
    {
     "data": {
      "text/html": [
       "<div>\n",
       "<style scoped>\n",
       "    .dataframe tbody tr th:only-of-type {\n",
       "        vertical-align: middle;\n",
       "    }\n",
       "\n",
       "    .dataframe tbody tr th {\n",
       "        vertical-align: top;\n",
       "    }\n",
       "\n",
       "    .dataframe thead th {\n",
       "        text-align: right;\n",
       "    }\n",
       "</style>\n",
       "<table border=\"1\" class=\"dataframe\">\n",
       "  <thead>\n",
       "    <tr style=\"text-align: right;\">\n",
       "      <th></th>\n",
       "      <th>Age</th>\n",
       "      <th>Sex</th>\n",
       "      <th>ChestPain</th>\n",
       "    </tr>\n",
       "  </thead>\n",
       "  <tbody>\n",
       "    <tr>\n",
       "      <th>count</th>\n",
       "      <td>929.000000</td>\n",
       "      <td>929.000000</td>\n",
       "      <td>929.000000</td>\n",
       "    </tr>\n",
       "    <tr>\n",
       "      <th>mean</th>\n",
       "      <td>55.612487</td>\n",
       "      <td>0.773950</td>\n",
       "      <td>3.304629</td>\n",
       "    </tr>\n",
       "    <tr>\n",
       "      <th>std</th>\n",
       "      <td>8.994760</td>\n",
       "      <td>0.418497</td>\n",
       "      <td>0.917261</td>\n",
       "    </tr>\n",
       "    <tr>\n",
       "      <th>min</th>\n",
       "      <td>29.000000</td>\n",
       "      <td>0.000000</td>\n",
       "      <td>1.000000</td>\n",
       "    </tr>\n",
       "    <tr>\n",
       "      <th>25%</th>\n",
       "      <td>50.000000</td>\n",
       "      <td>1.000000</td>\n",
       "      <td>3.000000</td>\n",
       "    </tr>\n",
       "    <tr>\n",
       "      <th>50%</th>\n",
       "      <td>57.000000</td>\n",
       "      <td>1.000000</td>\n",
       "      <td>4.000000</td>\n",
       "    </tr>\n",
       "    <tr>\n",
       "      <th>75%</th>\n",
       "      <td>62.000000</td>\n",
       "      <td>1.000000</td>\n",
       "      <td>4.000000</td>\n",
       "    </tr>\n",
       "    <tr>\n",
       "      <th>max</th>\n",
       "      <td>77.000000</td>\n",
       "      <td>1.000000</td>\n",
       "      <td>4.000000</td>\n",
       "    </tr>\n",
       "  </tbody>\n",
       "</table>\n",
       "</div>"
      ],
      "text/plain": [
       "              Age         Sex   ChestPain\n",
       "count  929.000000  929.000000  929.000000\n",
       "mean    55.612487    0.773950    3.304629\n",
       "std      8.994760    0.418497    0.917261\n",
       "min     29.000000    0.000000    1.000000\n",
       "25%     50.000000    1.000000    3.000000\n",
       "50%     57.000000    1.000000    4.000000\n",
       "75%     62.000000    1.000000    4.000000\n",
       "max     77.000000    1.000000    4.000000"
      ]
     },
     "execution_count": 601,
     "metadata": {},
     "output_type": "execute_result"
    }
   ],
   "source": [
    "df1.describe()"
   ]
  },
  {
   "cell_type": "markdown",
   "metadata": {},
   "source": [
    "Most variables have wrong datatypes some int values are stored as objects and vice versa we need to correct that"
   ]
  },
  {
   "cell_type": "code",
   "execution_count": 602,
   "metadata": {},
   "outputs": [],
   "source": [
    "df1.Sex=df1.Sex.astype('object')#gender must be categorical and not int"
   ]
  },
  {
   "cell_type": "code",
   "execution_count": 603,
   "metadata": {},
   "outputs": [
    {
     "name": "stdout",
     "output_type": "stream",
     "text": [
      "<class 'pandas.core.frame.DataFrame'>\n",
      "RangeIndex: 929 entries, 0 to 928\n",
      "Data columns (total 14 columns):\n",
      " #   Column           Non-Null Count  Dtype \n",
      "---  ------           --------------  ----- \n",
      " 0   Age              929 non-null    int64 \n",
      " 1   Sex              929 non-null    object\n",
      " 2   ChestPain        929 non-null    int64 \n",
      " 3   Rest_bp          871 non-null    object\n",
      " 4   Cholestrol       922 non-null    object\n",
      " 5   Fast_bld_sugar   847 non-null    object\n",
      " 6   Rest_Ecg         928 non-null    object\n",
      " 7   Max_Rt           875 non-null    object\n",
      " 8   Ex_Angina        875 non-null    object\n",
      " 9   St_Depr          867 non-null    object\n",
      " 10  Slope            810 non-null    object\n",
      " 11  Colored_Vessels  605 non-null    object\n",
      " 12  Thalassemia      707 non-null    object\n",
      " 13  Target           929 non-null    object\n",
      "dtypes: int64(2), object(12)\n",
      "memory usage: 101.7+ KB\n"
     ]
    }
   ],
   "source": [
    "df1.info()"
   ]
  },
  {
   "cell_type": "code",
   "execution_count": 604,
   "metadata": {},
   "outputs": [
    {
     "data": {
      "text/html": [
       "<div>\n",
       "<style scoped>\n",
       "    .dataframe tbody tr th:only-of-type {\n",
       "        vertical-align: middle;\n",
       "    }\n",
       "\n",
       "    .dataframe tbody tr th {\n",
       "        vertical-align: top;\n",
       "    }\n",
       "\n",
       "    .dataframe thead th {\n",
       "        text-align: right;\n",
       "    }\n",
       "</style>\n",
       "<table border=\"1\" class=\"dataframe\">\n",
       "  <thead>\n",
       "    <tr style=\"text-align: right;\">\n",
       "      <th></th>\n",
       "      <th>Age</th>\n",
       "      <th>Sex</th>\n",
       "      <th>ChestPain</th>\n",
       "      <th>Rest_bp</th>\n",
       "      <th>Cholestrol</th>\n",
       "      <th>Fast_bld_sugar</th>\n",
       "      <th>Rest_Ecg</th>\n",
       "      <th>Max_Rt</th>\n",
       "      <th>Ex_Angina</th>\n",
       "      <th>St_Depr</th>\n",
       "      <th>Slope</th>\n",
       "      <th>Colored_Vessels</th>\n",
       "      <th>Thalassemia</th>\n",
       "      <th>Target</th>\n",
       "    </tr>\n",
       "  </thead>\n",
       "  <tbody>\n",
       "    <tr>\n",
       "      <th>0</th>\n",
       "      <td>63</td>\n",
       "      <td>1</td>\n",
       "      <td>1</td>\n",
       "      <td>145</td>\n",
       "      <td>233</td>\n",
       "      <td>1</td>\n",
       "      <td>2</td>\n",
       "      <td>150</td>\n",
       "      <td>0</td>\n",
       "      <td>2.3</td>\n",
       "      <td>3</td>\n",
       "      <td>0</td>\n",
       "      <td>6</td>\n",
       "      <td>0</td>\n",
       "    </tr>\n",
       "    <tr>\n",
       "      <th>1</th>\n",
       "      <td>67</td>\n",
       "      <td>1</td>\n",
       "      <td>4</td>\n",
       "      <td>160</td>\n",
       "      <td>286</td>\n",
       "      <td>0</td>\n",
       "      <td>2</td>\n",
       "      <td>108</td>\n",
       "      <td>1</td>\n",
       "      <td>1.5</td>\n",
       "      <td>2</td>\n",
       "      <td>3</td>\n",
       "      <td>3</td>\n",
       "      <td>1</td>\n",
       "    </tr>\n",
       "    <tr>\n",
       "      <th>2</th>\n",
       "      <td>67</td>\n",
       "      <td>1</td>\n",
       "      <td>4</td>\n",
       "      <td>120</td>\n",
       "      <td>229</td>\n",
       "      <td>0</td>\n",
       "      <td>2</td>\n",
       "      <td>129</td>\n",
       "      <td>1</td>\n",
       "      <td>2.6</td>\n",
       "      <td>2</td>\n",
       "      <td>2</td>\n",
       "      <td>7</td>\n",
       "      <td>1</td>\n",
       "    </tr>\n",
       "    <tr>\n",
       "      <th>3</th>\n",
       "      <td>37</td>\n",
       "      <td>1</td>\n",
       "      <td>3</td>\n",
       "      <td>130</td>\n",
       "      <td>250</td>\n",
       "      <td>0</td>\n",
       "      <td>0</td>\n",
       "      <td>187</td>\n",
       "      <td>0</td>\n",
       "      <td>3.5</td>\n",
       "      <td>3</td>\n",
       "      <td>0</td>\n",
       "      <td>3</td>\n",
       "      <td>0</td>\n",
       "    </tr>\n",
       "    <tr>\n",
       "      <th>4</th>\n",
       "      <td>41</td>\n",
       "      <td>0</td>\n",
       "      <td>2</td>\n",
       "      <td>130</td>\n",
       "      <td>204</td>\n",
       "      <td>0</td>\n",
       "      <td>2</td>\n",
       "      <td>172</td>\n",
       "      <td>0</td>\n",
       "      <td>1.4</td>\n",
       "      <td>1</td>\n",
       "      <td>0</td>\n",
       "      <td>3</td>\n",
       "      <td>0</td>\n",
       "    </tr>\n",
       "  </tbody>\n",
       "</table>\n",
       "</div>"
      ],
      "text/plain": [
       "   Age Sex  ChestPain Rest_bp Cholestrol Fast_bld_sugar Rest_Ecg Max_Rt  \\\n",
       "0   63   1          1     145        233              1        2    150   \n",
       "1   67   1          4     160        286              0        2    108   \n",
       "2   67   1          4     120        229              0        2    129   \n",
       "3   37   1          3     130        250              0        0    187   \n",
       "4   41   0          2     130        204              0        2    172   \n",
       "\n",
       "  Ex_Angina St_Depr Slope Colored_Vessels Thalassemia Target  \n",
       "0         0     2.3     3               0           6      0  \n",
       "1         1     1.5     2               3           3      1  \n",
       "2         1     2.6     2               2           7      1  \n",
       "3         0     3.5     3               0           3      0  \n",
       "4         0     1.4     1               0           3      0  "
      ]
     },
     "execution_count": 604,
     "metadata": {},
     "output_type": "execute_result"
    }
   ],
   "source": [
    "df1.head() "
   ]
  },
  {
   "cell_type": "code",
   "execution_count": null,
   "metadata": {},
   "outputs": [],
   "source": []
  },
  {
   "cell_type": "code",
   "execution_count": 605,
   "metadata": {},
   "outputs": [
    {
     "name": "stdout",
     "output_type": "stream",
     "text": [
      "<class 'pandas.core.frame.DataFrame'>\n",
      "RangeIndex: 929 entries, 0 to 928\n",
      "Data columns (total 14 columns):\n",
      " #   Column           Non-Null Count  Dtype \n",
      "---  ------           --------------  ----- \n",
      " 0   Age              929 non-null    int64 \n",
      " 1   Sex              929 non-null    object\n",
      " 2   ChestPain        929 non-null    int64 \n",
      " 3   Rest_bp          871 non-null    object\n",
      " 4   Cholestrol       922 non-null    object\n",
      " 5   Fast_bld_sugar   847 non-null    object\n",
      " 6   Rest_Ecg         928 non-null    object\n",
      " 7   Max_Rt           875 non-null    object\n",
      " 8   Ex_Angina        875 non-null    object\n",
      " 9   St_Depr          867 non-null    object\n",
      " 10  Slope            810 non-null    object\n",
      " 11  Colored_Vessels  605 non-null    object\n",
      " 12  Thalassemia      707 non-null    object\n",
      " 13  Target           929 non-null    object\n",
      "dtypes: int64(2), object(12)\n",
      "memory usage: 101.7+ KB\n"
     ]
    }
   ],
   "source": [
    "df1.info()"
   ]
  },
  {
   "cell_type": "code",
   "execution_count": 606,
   "metadata": {},
   "outputs": [
    {
     "data": {
      "text/plain": [
       "Age                  0\n",
       "Sex                  0\n",
       "ChestPain            0\n",
       "Rest_bp             58\n",
       "Cholestrol           7\n",
       "Fast_bld_sugar      82\n",
       "Rest_Ecg             1\n",
       "Max_Rt              54\n",
       "Ex_Angina           54\n",
       "St_Depr             62\n",
       "Slope              119\n",
       "Colored_Vessels    324\n",
       "Thalassemia        222\n",
       "Target               0\n",
       "dtype: int64"
      ]
     },
     "execution_count": 606,
     "metadata": {},
     "output_type": "execute_result"
    }
   ],
   "source": [
    "df1.isnull().sum()"
   ]
  },
  {
   "cell_type": "code",
   "execution_count": 607,
   "metadata": {},
   "outputs": [],
   "source": [
    "df1.ChestPain=df1.ChestPain.astype(\"object\")#chestPain has 4 categories ie it can not be integer"
   ]
  },
  {
   "cell_type": "markdown",
   "metadata": {},
   "source": [
    "NOTE:the above has an error because Rest_bp has some values that are '?' that must be converted to NAN and then dealt with"
   ]
  },
  {
   "cell_type": "code",
   "execution_count": 608,
   "metadata": {},
   "outputs": [
    {
     "data": {
      "text/html": [
       "<div>\n",
       "<style scoped>\n",
       "    .dataframe tbody tr th:only-of-type {\n",
       "        vertical-align: middle;\n",
       "    }\n",
       "\n",
       "    .dataframe tbody tr th {\n",
       "        vertical-align: top;\n",
       "    }\n",
       "\n",
       "    .dataframe thead th {\n",
       "        text-align: right;\n",
       "    }\n",
       "</style>\n",
       "<table border=\"1\" class=\"dataframe\">\n",
       "  <thead>\n",
       "    <tr style=\"text-align: right;\">\n",
       "      <th></th>\n",
       "      <th>Age</th>\n",
       "      <th>Sex</th>\n",
       "      <th>ChestPain</th>\n",
       "      <th>Rest_bp</th>\n",
       "      <th>Cholestrol</th>\n",
       "      <th>Fast_bld_sugar</th>\n",
       "      <th>Rest_Ecg</th>\n",
       "      <th>Max_Rt</th>\n",
       "      <th>Ex_Angina</th>\n",
       "      <th>St_Depr</th>\n",
       "      <th>Slope</th>\n",
       "      <th>Colored_Vessels</th>\n",
       "      <th>Thalassemia</th>\n",
       "      <th>Target</th>\n",
       "    </tr>\n",
       "  </thead>\n",
       "  <tbody>\n",
       "    <tr>\n",
       "      <th>87</th>\n",
       "      <td>53</td>\n",
       "      <td>0</td>\n",
       "      <td>3</td>\n",
       "      <td>128</td>\n",
       "      <td>216</td>\n",
       "      <td>0</td>\n",
       "      <td>2</td>\n",
       "      <td>115</td>\n",
       "      <td>0</td>\n",
       "      <td>0</td>\n",
       "      <td>1</td>\n",
       "      <td>0</td>\n",
       "      <td>NaN</td>\n",
       "      <td>0</td>\n",
       "    </tr>\n",
       "    <tr>\n",
       "      <th>166</th>\n",
       "      <td>52</td>\n",
       "      <td>1</td>\n",
       "      <td>3</td>\n",
       "      <td>138</td>\n",
       "      <td>223</td>\n",
       "      <td>0</td>\n",
       "      <td>0</td>\n",
       "      <td>169</td>\n",
       "      <td>0</td>\n",
       "      <td>0</td>\n",
       "      <td>1</td>\n",
       "      <td>NaN</td>\n",
       "      <td>3</td>\n",
       "      <td>0</td>\n",
       "    </tr>\n",
       "    <tr>\n",
       "      <th>192</th>\n",
       "      <td>43</td>\n",
       "      <td>1</td>\n",
       "      <td>4</td>\n",
       "      <td>132</td>\n",
       "      <td>247</td>\n",
       "      <td>1</td>\n",
       "      <td>2</td>\n",
       "      <td>143</td>\n",
       "      <td>1</td>\n",
       "      <td>0.1</td>\n",
       "      <td>2</td>\n",
       "      <td>NaN</td>\n",
       "      <td>7</td>\n",
       "      <td>1</td>\n",
       "    </tr>\n",
       "    <tr>\n",
       "      <th>266</th>\n",
       "      <td>52</td>\n",
       "      <td>1</td>\n",
       "      <td>4</td>\n",
       "      <td>128</td>\n",
       "      <td>204</td>\n",
       "      <td>1</td>\n",
       "      <td>0</td>\n",
       "      <td>156</td>\n",
       "      <td>1</td>\n",
       "      <td>1</td>\n",
       "      <td>2</td>\n",
       "      <td>0</td>\n",
       "      <td>NaN</td>\n",
       "      <td>1</td>\n",
       "    </tr>\n",
       "    <tr>\n",
       "      <th>287</th>\n",
       "      <td>58</td>\n",
       "      <td>1</td>\n",
       "      <td>2</td>\n",
       "      <td>125</td>\n",
       "      <td>220</td>\n",
       "      <td>0</td>\n",
       "      <td>0</td>\n",
       "      <td>144</td>\n",
       "      <td>0</td>\n",
       "      <td>0.4</td>\n",
       "      <td>2</td>\n",
       "      <td>NaN</td>\n",
       "      <td>7</td>\n",
       "      <td>0</td>\n",
       "    </tr>\n",
       "    <tr>\n",
       "      <th>...</th>\n",
       "      <td>...</td>\n",
       "      <td>...</td>\n",
       "      <td>...</td>\n",
       "      <td>...</td>\n",
       "      <td>...</td>\n",
       "      <td>...</td>\n",
       "      <td>...</td>\n",
       "      <td>...</td>\n",
       "      <td>...</td>\n",
       "      <td>...</td>\n",
       "      <td>...</td>\n",
       "      <td>...</td>\n",
       "      <td>...</td>\n",
       "      <td>...</td>\n",
       "    </tr>\n",
       "    <tr>\n",
       "      <th>924</th>\n",
       "      <td>54</td>\n",
       "      <td>0</td>\n",
       "      <td>4</td>\n",
       "      <td>127</td>\n",
       "      <td>333</td>\n",
       "      <td>1</td>\n",
       "      <td>1</td>\n",
       "      <td>154</td>\n",
       "      <td>0</td>\n",
       "      <td>0</td>\n",
       "      <td>NaN</td>\n",
       "      <td>NaN</td>\n",
       "      <td>NaN</td>\n",
       "      <td>1</td>\n",
       "    </tr>\n",
       "    <tr>\n",
       "      <th>925</th>\n",
       "      <td>62</td>\n",
       "      <td>1</td>\n",
       "      <td>1</td>\n",
       "      <td>NaN</td>\n",
       "      <td>139</td>\n",
       "      <td>0</td>\n",
       "      <td>1</td>\n",
       "      <td>NaN</td>\n",
       "      <td>NaN</td>\n",
       "      <td>NaN</td>\n",
       "      <td>NaN</td>\n",
       "      <td>NaN</td>\n",
       "      <td>NaN</td>\n",
       "      <td>0</td>\n",
       "    </tr>\n",
       "    <tr>\n",
       "      <th>926</th>\n",
       "      <td>55</td>\n",
       "      <td>1</td>\n",
       "      <td>4</td>\n",
       "      <td>122</td>\n",
       "      <td>223</td>\n",
       "      <td>1</td>\n",
       "      <td>1</td>\n",
       "      <td>100</td>\n",
       "      <td>0</td>\n",
       "      <td>0</td>\n",
       "      <td>NaN</td>\n",
       "      <td>NaN</td>\n",
       "      <td>6</td>\n",
       "      <td>1</td>\n",
       "    </tr>\n",
       "    <tr>\n",
       "      <th>927</th>\n",
       "      <td>58</td>\n",
       "      <td>1</td>\n",
       "      <td>4</td>\n",
       "      <td>NaN</td>\n",
       "      <td>385</td>\n",
       "      <td>1</td>\n",
       "      <td>2</td>\n",
       "      <td>NaN</td>\n",
       "      <td>NaN</td>\n",
       "      <td>NaN</td>\n",
       "      <td>NaN</td>\n",
       "      <td>NaN</td>\n",
       "      <td>NaN</td>\n",
       "      <td>0</td>\n",
       "    </tr>\n",
       "    <tr>\n",
       "      <th>928</th>\n",
       "      <td>62</td>\n",
       "      <td>1</td>\n",
       "      <td>2</td>\n",
       "      <td>120</td>\n",
       "      <td>254</td>\n",
       "      <td>0</td>\n",
       "      <td>2</td>\n",
       "      <td>93</td>\n",
       "      <td>1</td>\n",
       "      <td>0</td>\n",
       "      <td>NaN</td>\n",
       "      <td>NaN</td>\n",
       "      <td>NaN</td>\n",
       "      <td>1</td>\n",
       "    </tr>\n",
       "  </tbody>\n",
       "</table>\n",
       "<p>334 rows × 14 columns</p>\n",
       "</div>"
      ],
      "text/plain": [
       "     Age Sex ChestPain Rest_bp Cholestrol Fast_bld_sugar Rest_Ecg Max_Rt  \\\n",
       "87    53   0         3     128        216              0        2    115   \n",
       "166   52   1         3     138        223              0        0    169   \n",
       "192   43   1         4     132        247              1        2    143   \n",
       "266   52   1         4     128        204              1        0    156   \n",
       "287   58   1         2     125        220              0        0    144   \n",
       "..   ...  ..       ...     ...        ...            ...      ...    ...   \n",
       "924   54   0         4     127        333              1        1    154   \n",
       "925   62   1         1     NaN        139              0        1    NaN   \n",
       "926   55   1         4     122        223              1        1    100   \n",
       "927   58   1         4     NaN        385              1        2    NaN   \n",
       "928   62   1         2     120        254              0        2     93   \n",
       "\n",
       "    Ex_Angina St_Depr Slope Colored_Vessels Thalassemia Target  \n",
       "87          0       0     1               0         NaN      0  \n",
       "166         0       0     1             NaN           3      0  \n",
       "192         1     0.1     2             NaN           7      1  \n",
       "266         1       1     2               0         NaN      1  \n",
       "287         0     0.4     2             NaN           7      0  \n",
       "..        ...     ...   ...             ...         ...    ...  \n",
       "924         0       0   NaN             NaN         NaN      1  \n",
       "925       NaN     NaN   NaN             NaN         NaN      0  \n",
       "926         0       0   NaN             NaN           6      1  \n",
       "927       NaN     NaN   NaN             NaN         NaN      0  \n",
       "928         1       0   NaN             NaN         NaN      1  \n",
       "\n",
       "[334 rows x 14 columns]"
      ]
     },
     "execution_count": 608,
     "metadata": {},
     "output_type": "execute_result"
    }
   ],
   "source": [
    "df1[df1.isnull().any(axis=1)] # many columns are presesnt that have '?'' as values.. need to convert that to NAN"
   ]
  },
  {
   "cell_type": "code",
   "execution_count": 609,
   "metadata": {},
   "outputs": [
    {
     "name": "stdout",
     "output_type": "stream",
     "text": [
      "<class 'pandas.core.frame.DataFrame'>\n",
      "RangeIndex: 929 entries, 0 to 928\n",
      "Data columns (total 14 columns):\n",
      " #   Column           Non-Null Count  Dtype \n",
      "---  ------           --------------  ----- \n",
      " 0   Age              929 non-null    int64 \n",
      " 1   Sex              929 non-null    object\n",
      " 2   ChestPain        929 non-null    object\n",
      " 3   Rest_bp          871 non-null    object\n",
      " 4   Cholestrol       922 non-null    object\n",
      " 5   Fast_bld_sugar   847 non-null    object\n",
      " 6   Rest_Ecg         928 non-null    object\n",
      " 7   Max_Rt           875 non-null    object\n",
      " 8   Ex_Angina        875 non-null    object\n",
      " 9   St_Depr          867 non-null    object\n",
      " 10  Slope            810 non-null    object\n",
      " 11  Colored_Vessels  605 non-null    object\n",
      " 12  Thalassemia      707 non-null    object\n",
      " 13  Target           929 non-null    object\n",
      "dtypes: int64(1), object(13)\n",
      "memory usage: 101.7+ KB\n"
     ]
    }
   ],
   "source": [
    "df1.info()"
   ]
  },
  {
   "cell_type": "code",
   "execution_count": 610,
   "metadata": {},
   "outputs": [
    {
     "data": {
      "text/plain": [
       "Age                  0\n",
       "Sex                  0\n",
       "ChestPain            0\n",
       "Rest_bp             58\n",
       "Cholestrol           7\n",
       "Fast_bld_sugar      82\n",
       "Rest_Ecg             1\n",
       "Max_Rt              54\n",
       "Ex_Angina           54\n",
       "St_Depr             62\n",
       "Slope              119\n",
       "Colored_Vessels    324\n",
       "Thalassemia        222\n",
       "Target               0\n",
       "dtype: int64"
      ]
     },
     "execution_count": 610,
     "metadata": {},
     "output_type": "execute_result"
    }
   ],
   "source": [
    "df1.isnull().sum()"
   ]
  },
  {
   "cell_type": "code",
   "execution_count": 611,
   "metadata": {},
   "outputs": [],
   "source": [
    "#Replace missing value in cholestrol with mean"
   ]
  },
  {
   "cell_type": "code",
   "execution_count": 612,
   "metadata": {},
   "outputs": [],
   "source": [
    "df1.Cholestrol=df1.Cholestrol.astype(\"float\")"
   ]
  },
  {
   "cell_type": "code",
   "execution_count": 613,
   "metadata": {},
   "outputs": [],
   "source": [
    "df1.Cholestrol=df1.Cholestrol.fillna(df1.Cholestrol.mean())"
   ]
  },
  {
   "cell_type": "code",
   "execution_count": 614,
   "metadata": {},
   "outputs": [
    {
     "name": "stdout",
     "output_type": "stream",
     "text": [
      "<class 'pandas.core.frame.DataFrame'>\n",
      "RangeIndex: 929 entries, 0 to 928\n",
      "Data columns (total 14 columns):\n",
      " #   Column           Non-Null Count  Dtype  \n",
      "---  ------           --------------  -----  \n",
      " 0   Age              929 non-null    int64  \n",
      " 1   Sex              929 non-null    object \n",
      " 2   ChestPain        929 non-null    object \n",
      " 3   Rest_bp          871 non-null    object \n",
      " 4   Cholestrol       929 non-null    float64\n",
      " 5   Fast_bld_sugar   847 non-null    object \n",
      " 6   Rest_Ecg         928 non-null    object \n",
      " 7   Max_Rt           875 non-null    object \n",
      " 8   Ex_Angina        875 non-null    object \n",
      " 9   St_Depr          867 non-null    object \n",
      " 10  Slope            810 non-null    object \n",
      " 11  Colored_Vessels  605 non-null    object \n",
      " 12  Thalassemia      707 non-null    object \n",
      " 13  Target           929 non-null    object \n",
      "dtypes: float64(1), int64(1), object(12)\n",
      "memory usage: 101.7+ KB\n"
     ]
    }
   ],
   "source": [
    "df1.info()"
   ]
  },
  {
   "cell_type": "code",
   "execution_count": 615,
   "metadata": {},
   "outputs": [
    {
     "data": {
      "text/plain": [
       "Age                  0\n",
       "Sex                  0\n",
       "ChestPain            0\n",
       "Rest_bp             58\n",
       "Cholestrol           0\n",
       "Fast_bld_sugar      82\n",
       "Rest_Ecg             1\n",
       "Max_Rt              54\n",
       "Ex_Angina           54\n",
       "St_Depr             62\n",
       "Slope              119\n",
       "Colored_Vessels    324\n",
       "Thalassemia        222\n",
       "Target               0\n",
       "dtype: int64"
      ]
     },
     "execution_count": 615,
     "metadata": {},
     "output_type": "execute_result"
    }
   ],
   "source": [
    "df1.isnull().sum()"
   ]
  },
  {
   "cell_type": "code",
   "execution_count": 616,
   "metadata": {},
   "outputs": [],
   "source": [
    "# Replacing missing values of Rest_bp with median value"
   ]
  },
  {
   "cell_type": "code",
   "execution_count": 617,
   "metadata": {},
   "outputs": [],
   "source": [
    "df1.Rest_bp=df1.Rest_bp.astype(\"float\")"
   ]
  },
  {
   "cell_type": "code",
   "execution_count": 618,
   "metadata": {},
   "outputs": [
    {
     "data": {
      "text/plain": [
       "130.0"
      ]
     },
     "execution_count": 618,
     "metadata": {},
     "output_type": "execute_result"
    }
   ],
   "source": [
    "df1.Rest_bp.median()"
   ]
  },
  {
   "cell_type": "code",
   "execution_count": 619,
   "metadata": {},
   "outputs": [],
   "source": [
    "imputer=SimpleImputer(strategy=\"median\")\n",
    "imputed=imputer.fit_transform(df1[[\"Rest_bp\"]])\n"
   ]
  },
  {
   "cell_type": "code",
   "execution_count": 620,
   "metadata": {},
   "outputs": [],
   "source": [
    "df1[['Rest_bp']]=pd.DataFrame(imputed,columns=['Rest_bp'])"
   ]
  },
  {
   "cell_type": "code",
   "execution_count": 621,
   "metadata": {
    "scrolled": true
   },
   "outputs": [
    {
     "data": {
      "text/plain": [
       "Age                  0\n",
       "Sex                  0\n",
       "ChestPain            0\n",
       "Rest_bp              0\n",
       "Cholestrol           0\n",
       "Fast_bld_sugar      82\n",
       "Rest_Ecg             1\n",
       "Max_Rt              54\n",
       "Ex_Angina           54\n",
       "St_Depr             62\n",
       "Slope              119\n",
       "Colored_Vessels    324\n",
       "Thalassemia        222\n",
       "Target               0\n",
       "dtype: int64"
      ]
     },
     "execution_count": 621,
     "metadata": {},
     "output_type": "execute_result"
    }
   ],
   "source": [
    "df1.isnull().sum()"
   ]
  },
  {
   "cell_type": "code",
   "execution_count": 622,
   "metadata": {},
   "outputs": [
    {
     "name": "stdout",
     "output_type": "stream",
     "text": [
      "<class 'pandas.core.frame.DataFrame'>\n",
      "RangeIndex: 929 entries, 0 to 928\n",
      "Data columns (total 14 columns):\n",
      " #   Column           Non-Null Count  Dtype  \n",
      "---  ------           --------------  -----  \n",
      " 0   Age              929 non-null    int64  \n",
      " 1   Sex              929 non-null    object \n",
      " 2   ChestPain        929 non-null    object \n",
      " 3   Rest_bp          929 non-null    float64\n",
      " 4   Cholestrol       929 non-null    float64\n",
      " 5   Fast_bld_sugar   847 non-null    object \n",
      " 6   Rest_Ecg         928 non-null    object \n",
      " 7   Max_Rt           875 non-null    object \n",
      " 8   Ex_Angina        875 non-null    object \n",
      " 9   St_Depr          867 non-null    object \n",
      " 10  Slope            810 non-null    object \n",
      " 11  Colored_Vessels  605 non-null    object \n",
      " 12  Thalassemia      707 non-null    object \n",
      " 13  Target           929 non-null    object \n",
      "dtypes: float64(2), int64(1), object(11)\n",
      "memory usage: 101.7+ KB\n"
     ]
    }
   ],
   "source": [
    "df1.info()"
   ]
  },
  {
   "cell_type": "code",
   "execution_count": 623,
   "metadata": {},
   "outputs": [],
   "source": [
    "imputer=SimpleImputer(strategy=\"median\")\n",
    "imputed=imputer.fit_transform(df1[[\"Fast_bld_sugar\",\"Rest_Ecg\",\"Max_Rt\",\"Ex_Angina\",\"St_Depr\",\"Slope\",\"Colored_Vessels\",\"Thalassemia\"]])\n"
   ]
  },
  {
   "cell_type": "code",
   "execution_count": 624,
   "metadata": {},
   "outputs": [],
   "source": [
    "df1[[\"Fast_bld_sugar\",\"Rest_Ecg\",\"Max_Rt\",\"Ex_Angina\",\"St_Depr\",\"Slope\",\"Colored_Vessels\",\"Thalassemia\"]]=pd.DataFrame(imputed,columns=[\"Fast_bld_sugar\",\"Rest_Ecg\",\"Max_Rt\",\"Ex_Angina\",\"St_Depr\",\"Slope\",\"Colored_Vessels\",\"Thalassemia\"])"
   ]
  },
  {
   "cell_type": "code",
   "execution_count": 625,
   "metadata": {},
   "outputs": [
    {
     "data": {
      "text/plain": [
       "Age                0\n",
       "Sex                0\n",
       "ChestPain          0\n",
       "Rest_bp            0\n",
       "Cholestrol         0\n",
       "Fast_bld_sugar     0\n",
       "Rest_Ecg           0\n",
       "Max_Rt             0\n",
       "Ex_Angina          0\n",
       "St_Depr            0\n",
       "Slope              0\n",
       "Colored_Vessels    0\n",
       "Thalassemia        0\n",
       "Target             0\n",
       "dtype: int64"
      ]
     },
     "execution_count": 625,
     "metadata": {},
     "output_type": "execute_result"
    }
   ],
   "source": [
    "df1.isnull().sum()"
   ]
  },
  {
   "cell_type": "code",
   "execution_count": 626,
   "metadata": {},
   "outputs": [
    {
     "data": {
      "text/html": [
       "<div>\n",
       "<style scoped>\n",
       "    .dataframe tbody tr th:only-of-type {\n",
       "        vertical-align: middle;\n",
       "    }\n",
       "\n",
       "    .dataframe tbody tr th {\n",
       "        vertical-align: top;\n",
       "    }\n",
       "\n",
       "    .dataframe thead th {\n",
       "        text-align: right;\n",
       "    }\n",
       "</style>\n",
       "<table border=\"1\" class=\"dataframe\">\n",
       "  <thead>\n",
       "    <tr style=\"text-align: right;\">\n",
       "      <th></th>\n",
       "      <th>Age</th>\n",
       "      <th>Sex</th>\n",
       "      <th>ChestPain</th>\n",
       "      <th>Rest_bp</th>\n",
       "      <th>Cholestrol</th>\n",
       "      <th>Fast_bld_sugar</th>\n",
       "      <th>Rest_Ecg</th>\n",
       "      <th>Max_Rt</th>\n",
       "      <th>Ex_Angina</th>\n",
       "      <th>St_Depr</th>\n",
       "      <th>Slope</th>\n",
       "      <th>Colored_Vessels</th>\n",
       "      <th>Thalassemia</th>\n",
       "      <th>Target</th>\n",
       "    </tr>\n",
       "  </thead>\n",
       "  <tbody>\n",
       "    <tr>\n",
       "      <th>0</th>\n",
       "      <td>63</td>\n",
       "      <td>1</td>\n",
       "      <td>1</td>\n",
       "      <td>145.0</td>\n",
       "      <td>233.0</td>\n",
       "      <td>1.0</td>\n",
       "      <td>2.0</td>\n",
       "      <td>150.0</td>\n",
       "      <td>0.0</td>\n",
       "      <td>2.3</td>\n",
       "      <td>3.0</td>\n",
       "      <td>0.0</td>\n",
       "      <td>6.0</td>\n",
       "      <td>0</td>\n",
       "    </tr>\n",
       "    <tr>\n",
       "      <th>1</th>\n",
       "      <td>67</td>\n",
       "      <td>1</td>\n",
       "      <td>4</td>\n",
       "      <td>160.0</td>\n",
       "      <td>286.0</td>\n",
       "      <td>0.0</td>\n",
       "      <td>2.0</td>\n",
       "      <td>108.0</td>\n",
       "      <td>1.0</td>\n",
       "      <td>1.5</td>\n",
       "      <td>2.0</td>\n",
       "      <td>3.0</td>\n",
       "      <td>3.0</td>\n",
       "      <td>1</td>\n",
       "    </tr>\n",
       "    <tr>\n",
       "      <th>2</th>\n",
       "      <td>67</td>\n",
       "      <td>1</td>\n",
       "      <td>4</td>\n",
       "      <td>120.0</td>\n",
       "      <td>229.0</td>\n",
       "      <td>0.0</td>\n",
       "      <td>2.0</td>\n",
       "      <td>129.0</td>\n",
       "      <td>1.0</td>\n",
       "      <td>2.6</td>\n",
       "      <td>2.0</td>\n",
       "      <td>2.0</td>\n",
       "      <td>7.0</td>\n",
       "      <td>1</td>\n",
       "    </tr>\n",
       "    <tr>\n",
       "      <th>3</th>\n",
       "      <td>37</td>\n",
       "      <td>1</td>\n",
       "      <td>3</td>\n",
       "      <td>130.0</td>\n",
       "      <td>250.0</td>\n",
       "      <td>0.0</td>\n",
       "      <td>0.0</td>\n",
       "      <td>187.0</td>\n",
       "      <td>0.0</td>\n",
       "      <td>3.5</td>\n",
       "      <td>3.0</td>\n",
       "      <td>0.0</td>\n",
       "      <td>3.0</td>\n",
       "      <td>0</td>\n",
       "    </tr>\n",
       "    <tr>\n",
       "      <th>4</th>\n",
       "      <td>41</td>\n",
       "      <td>0</td>\n",
       "      <td>2</td>\n",
       "      <td>130.0</td>\n",
       "      <td>204.0</td>\n",
       "      <td>0.0</td>\n",
       "      <td>2.0</td>\n",
       "      <td>172.0</td>\n",
       "      <td>0.0</td>\n",
       "      <td>1.4</td>\n",
       "      <td>1.0</td>\n",
       "      <td>0.0</td>\n",
       "      <td>3.0</td>\n",
       "      <td>0</td>\n",
       "    </tr>\n",
       "  </tbody>\n",
       "</table>\n",
       "</div>"
      ],
      "text/plain": [
       "   Age Sex ChestPain  Rest_bp  Cholestrol  Fast_bld_sugar  Rest_Ecg  Max_Rt  \\\n",
       "0   63   1         1    145.0       233.0             1.0       2.0   150.0   \n",
       "1   67   1         4    160.0       286.0             0.0       2.0   108.0   \n",
       "2   67   1         4    120.0       229.0             0.0       2.0   129.0   \n",
       "3   37   1         3    130.0       250.0             0.0       0.0   187.0   \n",
       "4   41   0         2    130.0       204.0             0.0       2.0   172.0   \n",
       "\n",
       "   Ex_Angina  St_Depr  Slope  Colored_Vessels  Thalassemia Target  \n",
       "0        0.0      2.3    3.0              0.0          6.0      0  \n",
       "1        1.0      1.5    2.0              3.0          3.0      1  \n",
       "2        1.0      2.6    2.0              2.0          7.0      1  \n",
       "3        0.0      3.5    3.0              0.0          3.0      0  \n",
       "4        0.0      1.4    1.0              0.0          3.0      0  "
      ]
     },
     "execution_count": 626,
     "metadata": {},
     "output_type": "execute_result"
    }
   ],
   "source": [
    "df1.head()"
   ]
  },
  {
   "cell_type": "code",
   "execution_count": 627,
   "metadata": {},
   "outputs": [
    {
     "name": "stdout",
     "output_type": "stream",
     "text": [
      "<class 'pandas.core.frame.DataFrame'>\n",
      "RangeIndex: 929 entries, 0 to 928\n",
      "Data columns (total 14 columns):\n",
      " #   Column           Non-Null Count  Dtype  \n",
      "---  ------           --------------  -----  \n",
      " 0   Age              929 non-null    int64  \n",
      " 1   Sex              929 non-null    object \n",
      " 2   ChestPain        929 non-null    object \n",
      " 3   Rest_bp          929 non-null    float64\n",
      " 4   Cholestrol       929 non-null    float64\n",
      " 5   Fast_bld_sugar   929 non-null    float64\n",
      " 6   Rest_Ecg         929 non-null    float64\n",
      " 7   Max_Rt           929 non-null    float64\n",
      " 8   Ex_Angina        929 non-null    float64\n",
      " 9   St_Depr          929 non-null    float64\n",
      " 10  Slope            929 non-null    float64\n",
      " 11  Colored_Vessels  929 non-null    float64\n",
      " 12  Thalassemia      929 non-null    float64\n",
      " 13  Target           929 non-null    object \n",
      "dtypes: float64(10), int64(1), object(3)\n",
      "memory usage: 101.7+ KB\n"
     ]
    }
   ],
   "source": [
    "df1.info()"
   ]
  },
  {
   "cell_type": "code",
   "execution_count": 628,
   "metadata": {},
   "outputs": [],
   "source": [
    "df1.Fast_bld_sugar=df1.Fast_bld_sugar.astype(\"object\")\n",
    "df1.Rest_Ecg=df1.Rest_Ecg.astype(\"object\")\n",
    "df1.Ex_Angina=df1.Ex_Angina.astype(\"object\")\n",
    "df1.Slope =df1.Slope.astype(\"object\")\n",
    "df1.Colored_Vessels=df1.Colored_Vessels.astype(\"object\")\n",
    "df1.Thalassemia=df1.Thalassemia.astype(\"object\")"
   ]
  },
  {
   "cell_type": "code",
   "execution_count": 629,
   "metadata": {},
   "outputs": [
    {
     "name": "stdout",
     "output_type": "stream",
     "text": [
      "<class 'pandas.core.frame.DataFrame'>\n",
      "RangeIndex: 929 entries, 0 to 928\n",
      "Data columns (total 14 columns):\n",
      " #   Column           Non-Null Count  Dtype  \n",
      "---  ------           --------------  -----  \n",
      " 0   Age              929 non-null    int64  \n",
      " 1   Sex              929 non-null    object \n",
      " 2   ChestPain        929 non-null    object \n",
      " 3   Rest_bp          929 non-null    float64\n",
      " 4   Cholestrol       929 non-null    float64\n",
      " 5   Fast_bld_sugar   929 non-null    object \n",
      " 6   Rest_Ecg         929 non-null    object \n",
      " 7   Max_Rt           929 non-null    float64\n",
      " 8   Ex_Angina        929 non-null    object \n",
      " 9   St_Depr          929 non-null    float64\n",
      " 10  Slope            929 non-null    object \n",
      " 11  Colored_Vessels  929 non-null    object \n",
      " 12  Thalassemia      929 non-null    object \n",
      " 13  Target           929 non-null    object \n",
      "dtypes: float64(4), int64(1), object(9)\n",
      "memory usage: 101.7+ KB\n"
     ]
    }
   ],
   "source": [
    "df1.info()"
   ]
  },
  {
   "cell_type": "code",
   "execution_count": 630,
   "metadata": {},
   "outputs": [
    {
     "data": {
      "text/html": [
       "<div>\n",
       "<style scoped>\n",
       "    .dataframe tbody tr th:only-of-type {\n",
       "        vertical-align: middle;\n",
       "    }\n",
       "\n",
       "    .dataframe tbody tr th {\n",
       "        vertical-align: top;\n",
       "    }\n",
       "\n",
       "    .dataframe thead th {\n",
       "        text-align: right;\n",
       "    }\n",
       "</style>\n",
       "<table border=\"1\" class=\"dataframe\">\n",
       "  <thead>\n",
       "    <tr style=\"text-align: right;\">\n",
       "      <th></th>\n",
       "      <th>Age</th>\n",
       "      <th>Sex</th>\n",
       "      <th>ChestPain</th>\n",
       "      <th>Rest_bp</th>\n",
       "      <th>Cholestrol</th>\n",
       "      <th>Fast_bld_sugar</th>\n",
       "      <th>Rest_Ecg</th>\n",
       "      <th>Max_Rt</th>\n",
       "      <th>Ex_Angina</th>\n",
       "      <th>St_Depr</th>\n",
       "      <th>Slope</th>\n",
       "      <th>Colored_Vessels</th>\n",
       "      <th>Thalassemia</th>\n",
       "      <th>Target</th>\n",
       "    </tr>\n",
       "  </thead>\n",
       "  <tbody>\n",
       "    <tr>\n",
       "      <th>0</th>\n",
       "      <td>63</td>\n",
       "      <td>1</td>\n",
       "      <td>1</td>\n",
       "      <td>145.0</td>\n",
       "      <td>233.0</td>\n",
       "      <td>1</td>\n",
       "      <td>2</td>\n",
       "      <td>150.0</td>\n",
       "      <td>0</td>\n",
       "      <td>2.3</td>\n",
       "      <td>3</td>\n",
       "      <td>0</td>\n",
       "      <td>6</td>\n",
       "      <td>0</td>\n",
       "    </tr>\n",
       "    <tr>\n",
       "      <th>1</th>\n",
       "      <td>67</td>\n",
       "      <td>1</td>\n",
       "      <td>4</td>\n",
       "      <td>160.0</td>\n",
       "      <td>286.0</td>\n",
       "      <td>0</td>\n",
       "      <td>2</td>\n",
       "      <td>108.0</td>\n",
       "      <td>1</td>\n",
       "      <td>1.5</td>\n",
       "      <td>2</td>\n",
       "      <td>3</td>\n",
       "      <td>3</td>\n",
       "      <td>1</td>\n",
       "    </tr>\n",
       "    <tr>\n",
       "      <th>2</th>\n",
       "      <td>67</td>\n",
       "      <td>1</td>\n",
       "      <td>4</td>\n",
       "      <td>120.0</td>\n",
       "      <td>229.0</td>\n",
       "      <td>0</td>\n",
       "      <td>2</td>\n",
       "      <td>129.0</td>\n",
       "      <td>1</td>\n",
       "      <td>2.6</td>\n",
       "      <td>2</td>\n",
       "      <td>2</td>\n",
       "      <td>7</td>\n",
       "      <td>1</td>\n",
       "    </tr>\n",
       "    <tr>\n",
       "      <th>3</th>\n",
       "      <td>37</td>\n",
       "      <td>1</td>\n",
       "      <td>3</td>\n",
       "      <td>130.0</td>\n",
       "      <td>250.0</td>\n",
       "      <td>0</td>\n",
       "      <td>0</td>\n",
       "      <td>187.0</td>\n",
       "      <td>0</td>\n",
       "      <td>3.5</td>\n",
       "      <td>3</td>\n",
       "      <td>0</td>\n",
       "      <td>3</td>\n",
       "      <td>0</td>\n",
       "    </tr>\n",
       "    <tr>\n",
       "      <th>4</th>\n",
       "      <td>41</td>\n",
       "      <td>0</td>\n",
       "      <td>2</td>\n",
       "      <td>130.0</td>\n",
       "      <td>204.0</td>\n",
       "      <td>0</td>\n",
       "      <td>2</td>\n",
       "      <td>172.0</td>\n",
       "      <td>0</td>\n",
       "      <td>1.4</td>\n",
       "      <td>1</td>\n",
       "      <td>0</td>\n",
       "      <td>3</td>\n",
       "      <td>0</td>\n",
       "    </tr>\n",
       "  </tbody>\n",
       "</table>\n",
       "</div>"
      ],
      "text/plain": [
       "   Age Sex ChestPain  Rest_bp  Cholestrol Fast_bld_sugar Rest_Ecg  Max_Rt  \\\n",
       "0   63   1         1    145.0       233.0              1        2   150.0   \n",
       "1   67   1         4    160.0       286.0              0        2   108.0   \n",
       "2   67   1         4    120.0       229.0              0        2   129.0   \n",
       "3   37   1         3    130.0       250.0              0        0   187.0   \n",
       "4   41   0         2    130.0       204.0              0        2   172.0   \n",
       "\n",
       "  Ex_Angina  St_Depr Slope Colored_Vessels Thalassemia Target  \n",
       "0         0      2.3     3               0           6      0  \n",
       "1         1      1.5     2               3           3      1  \n",
       "2         1      2.6     2               2           7      1  \n",
       "3         0      3.5     3               0           3      0  \n",
       "4         0      1.4     1               0           3      0  "
      ]
     },
     "execution_count": 630,
     "metadata": {},
     "output_type": "execute_result"
    }
   ],
   "source": [
    "df1.head()"
   ]
  },
  {
   "cell_type": "code",
   "execution_count": 631,
   "metadata": {},
   "outputs": [
    {
     "data": {
      "text/html": [
       "<div>\n",
       "<style scoped>\n",
       "    .dataframe tbody tr th:only-of-type {\n",
       "        vertical-align: middle;\n",
       "    }\n",
       "\n",
       "    .dataframe tbody tr th {\n",
       "        vertical-align: top;\n",
       "    }\n",
       "\n",
       "    .dataframe thead th {\n",
       "        text-align: right;\n",
       "    }\n",
       "</style>\n",
       "<table border=\"1\" class=\"dataframe\">\n",
       "  <thead>\n",
       "    <tr style=\"text-align: right;\">\n",
       "      <th></th>\n",
       "      <th>count</th>\n",
       "      <th>mean</th>\n",
       "      <th>std</th>\n",
       "      <th>min</th>\n",
       "      <th>25%</th>\n",
       "      <th>50%</th>\n",
       "      <th>75%</th>\n",
       "      <th>max</th>\n",
       "    </tr>\n",
       "  </thead>\n",
       "  <tbody>\n",
       "    <tr>\n",
       "      <th>Age</th>\n",
       "      <td>929.0</td>\n",
       "      <td>55.612487</td>\n",
       "      <td>8.994760</td>\n",
       "      <td>29.0</td>\n",
       "      <td>50.0</td>\n",
       "      <td>57.0</td>\n",
       "      <td>62.0</td>\n",
       "      <td>77.0</td>\n",
       "    </tr>\n",
       "    <tr>\n",
       "      <th>Rest_bp</th>\n",
       "      <td>929.0</td>\n",
       "      <td>131.712594</td>\n",
       "      <td>18.439798</td>\n",
       "      <td>0.0</td>\n",
       "      <td>120.0</td>\n",
       "      <td>130.0</td>\n",
       "      <td>140.0</td>\n",
       "      <td>200.0</td>\n",
       "    </tr>\n",
       "    <tr>\n",
       "      <th>Cholestrol</th>\n",
       "      <td>929.0</td>\n",
       "      <td>199.559653</td>\n",
       "      <td>106.087549</td>\n",
       "      <td>0.0</td>\n",
       "      <td>180.0</td>\n",
       "      <td>226.0</td>\n",
       "      <td>266.0</td>\n",
       "      <td>564.0</td>\n",
       "    </tr>\n",
       "    <tr>\n",
       "      <th>Max_Rt</th>\n",
       "      <td>929.0</td>\n",
       "      <td>141.355221</td>\n",
       "      <td>25.604855</td>\n",
       "      <td>60.0</td>\n",
       "      <td>123.0</td>\n",
       "      <td>144.0</td>\n",
       "      <td>161.0</td>\n",
       "      <td>202.0</td>\n",
       "    </tr>\n",
       "    <tr>\n",
       "      <th>St_Depr</th>\n",
       "      <td>929.0</td>\n",
       "      <td>1.018622</td>\n",
       "      <td>1.113479</td>\n",
       "      <td>-2.6</td>\n",
       "      <td>0.0</td>\n",
       "      <td>0.8</td>\n",
       "      <td>1.6</td>\n",
       "      <td>6.2</td>\n",
       "    </tr>\n",
       "  </tbody>\n",
       "</table>\n",
       "</div>"
      ],
      "text/plain": [
       "            count        mean         std   min    25%    50%    75%    max\n",
       "Age         929.0   55.612487    8.994760  29.0   50.0   57.0   62.0   77.0\n",
       "Rest_bp     929.0  131.712594   18.439798   0.0  120.0  130.0  140.0  200.0\n",
       "Cholestrol  929.0  199.559653  106.087549   0.0  180.0  226.0  266.0  564.0\n",
       "Max_Rt      929.0  141.355221   25.604855  60.0  123.0  144.0  161.0  202.0\n",
       "St_Depr     929.0    1.018622    1.113479  -2.6    0.0    0.8    1.6    6.2"
      ]
     },
     "execution_count": 631,
     "metadata": {},
     "output_type": "execute_result"
    }
   ],
   "source": [
    "df1.describe().T"
   ]
  },
  {
   "cell_type": "code",
   "execution_count": null,
   "metadata": {},
   "outputs": [],
   "source": []
  },
  {
   "cell_type": "markdown",
   "metadata": {},
   "source": [
    "## EDA"
   ]
  },
  {
   "cell_type": "code",
   "execution_count": 632,
   "metadata": {},
   "outputs": [
    {
     "data": {
      "text/plain": [
       "<matplotlib.axes._subplots.AxesSubplot at 0x16912b6ba48>"
      ]
     },
     "execution_count": 632,
     "metadata": {},
     "output_type": "execute_result"
    },
    {
     "data": {
      "image/png": "[encoded data removed]",
      "text/plain": [
       "<Figure size 432x288 with 1 Axes>"
      ]
     },
     "metadata": {
      "needs_background": "light"
     },
     "output_type": "display_data"
    }
   ],
   "source": [
    "sns.countplot(df1.Target)"
   ]
  },
  {
   "cell_type": "code",
   "execution_count": 633,
   "metadata": {},
   "outputs": [
    {
     "data": {
      "text/plain": [
       "<matplotlib.axes._subplots.AxesSubplot at 0x16912bf0d88>"
      ]
     },
     "execution_count": 633,
     "metadata": {},
     "output_type": "execute_result"
    },
    {
     "data": {
      "image/png": "[encoded data removed]",
      "text/plain": [
       "<Figure size 432x288 with 1 Axes>"
      ]
     },
     "metadata": {
      "needs_background": "light"
     },
     "output_type": "display_data"
    }
   ],
   "source": [
    "sns.countplot(df1.Sex)"
   ]
  },
  {
   "cell_type": "code",
   "execution_count": 634,
   "metadata": {},
   "outputs": [
    {
     "data": {
      "text/plain": [
       "<matplotlib.axes._subplots.AxesSubplot at 0x16912c44d48>"
      ]
     },
     "execution_count": 634,
     "metadata": {},
     "output_type": "execute_result"
    },
    {
     "data": {
      "image/png": "[encoded data removed]",
      "text/plain": [
       "<Figure size 432x288 with 1 Axes>"
      ]
     },
     "metadata": {
      "needs_background": "light"
     },
     "output_type": "display_data"
    }
   ],
   "source": [
    "sns.countplot(df1.Target,hue=df1.Sex)"
   ]
  },
  {
   "cell_type": "code",
   "execution_count": 635,
   "metadata": {},
   "outputs": [
    {
     "data": {
      "text/plain": [
       "(array([  3.,  32.,  79.,  92., 102., 194., 217., 139.,  53.,  18.]),\n",
       " array([29. , 33.8, 38.6, 43.4, 48.2, 53. , 57.8, 62.6, 67.4, 72.2, 77. ]),\n",
       " <a list of 10 Patch objects>)"
      ]
     },
     "execution_count": 635,
     "metadata": {},
     "output_type": "execute_result"
    },
    {
     "data": {
      "image/png": "[encoded data removed]",
      "text/plain": [
       "<Figure size 432x288 with 1 Axes>"
      ]
     },
     "metadata": {
      "needs_background": "light"
     },
     "output_type": "display_data"
    }
   ],
   "source": [
    "plt.hist(df1.Age)"
   ]
  },
  {
   "cell_type": "code",
   "execution_count": 636,
   "metadata": {},
   "outputs": [
    {
     "data": {
      "text/plain": [
       "-0.3138344083994114"
      ]
     },
     "execution_count": 636,
     "metadata": {},
     "output_type": "execute_result"
    }
   ],
   "source": [
    "df1.Age.skew()"
   ]
  },
  {
   "cell_type": "markdown",
   "metadata": {},
   "source": [
    "## data preprocessing"
   ]
  },
  {
   "cell_type": "code",
   "execution_count": 637,
   "metadata": {},
   "outputs": [],
   "source": [
    "### dummy variables"
   ]
  },
  {
   "cell_type": "code",
   "execution_count": 638,
   "metadata": {},
   "outputs": [
    {
     "name": "stdout",
     "output_type": "stream",
     "text": [
      "<class 'pandas.core.frame.DataFrame'>\n",
      "RangeIndex: 929 entries, 0 to 928\n",
      "Data columns (total 14 columns):\n",
      " #   Column           Non-Null Count  Dtype  \n",
      "---  ------           --------------  -----  \n",
      " 0   Age              929 non-null    int64  \n",
      " 1   Sex              929 non-null    object \n",
      " 2   ChestPain        929 non-null    object \n",
      " 3   Rest_bp          929 non-null    float64\n",
      " 4   Cholestrol       929 non-null    float64\n",
      " 5   Fast_bld_sugar   929 non-null    object \n",
      " 6   Rest_Ecg         929 non-null    object \n",
      " 7   Max_Rt           929 non-null    float64\n",
      " 8   Ex_Angina        929 non-null    object \n",
      " 9   St_Depr          929 non-null    float64\n",
      " 10  Slope            929 non-null    object \n",
      " 11  Colored_Vessels  929 non-null    object \n",
      " 12  Thalassemia      929 non-null    object \n",
      " 13  Target           929 non-null    object \n",
      "dtypes: float64(4), int64(1), object(9)\n",
      "memory usage: 101.7+ KB\n"
     ]
    }
   ],
   "source": [
    "df1.info()\n"
   ]
  },
  {
   "cell_type": "code",
   "execution_count": 639,
   "metadata": {},
   "outputs": [
    {
     "data": {
      "text/html": [
       "<div>\n",
       "<style scoped>\n",
       "    .dataframe tbody tr th:only-of-type {\n",
       "        vertical-align: middle;\n",
       "    }\n",
       "\n",
       "    .dataframe tbody tr th {\n",
       "        vertical-align: top;\n",
       "    }\n",
       "\n",
       "    .dataframe thead th {\n",
       "        text-align: right;\n",
       "    }\n",
       "</style>\n",
       "<table border=\"1\" class=\"dataframe\">\n",
       "  <thead>\n",
       "    <tr style=\"text-align: right;\">\n",
       "      <th></th>\n",
       "      <th>Age</th>\n",
       "      <th>Sex</th>\n",
       "      <th>ChestPain</th>\n",
       "      <th>Rest_bp</th>\n",
       "      <th>Cholestrol</th>\n",
       "      <th>Fast_bld_sugar</th>\n",
       "      <th>Rest_Ecg</th>\n",
       "      <th>Max_Rt</th>\n",
       "      <th>Ex_Angina</th>\n",
       "      <th>St_Depr</th>\n",
       "      <th>Slope</th>\n",
       "      <th>Colored_Vessels</th>\n",
       "      <th>Thalassemia</th>\n",
       "      <th>Target</th>\n",
       "    </tr>\n",
       "  </thead>\n",
       "  <tbody>\n",
       "    <tr>\n",
       "      <th>0</th>\n",
       "      <td>63</td>\n",
       "      <td>1</td>\n",
       "      <td>1</td>\n",
       "      <td>145.0</td>\n",
       "      <td>233.0</td>\n",
       "      <td>1</td>\n",
       "      <td>2</td>\n",
       "      <td>150.0</td>\n",
       "      <td>0</td>\n",
       "      <td>2.3</td>\n",
       "      <td>3</td>\n",
       "      <td>0</td>\n",
       "      <td>6</td>\n",
       "      <td>0</td>\n",
       "    </tr>\n",
       "    <tr>\n",
       "      <th>1</th>\n",
       "      <td>67</td>\n",
       "      <td>1</td>\n",
       "      <td>4</td>\n",
       "      <td>160.0</td>\n",
       "      <td>286.0</td>\n",
       "      <td>0</td>\n",
       "      <td>2</td>\n",
       "      <td>108.0</td>\n",
       "      <td>1</td>\n",
       "      <td>1.5</td>\n",
       "      <td>2</td>\n",
       "      <td>3</td>\n",
       "      <td>3</td>\n",
       "      <td>1</td>\n",
       "    </tr>\n",
       "    <tr>\n",
       "      <th>2</th>\n",
       "      <td>67</td>\n",
       "      <td>1</td>\n",
       "      <td>4</td>\n",
       "      <td>120.0</td>\n",
       "      <td>229.0</td>\n",
       "      <td>0</td>\n",
       "      <td>2</td>\n",
       "      <td>129.0</td>\n",
       "      <td>1</td>\n",
       "      <td>2.6</td>\n",
       "      <td>2</td>\n",
       "      <td>2</td>\n",
       "      <td>7</td>\n",
       "      <td>1</td>\n",
       "    </tr>\n",
       "    <tr>\n",
       "      <th>3</th>\n",
       "      <td>37</td>\n",
       "      <td>1</td>\n",
       "      <td>3</td>\n",
       "      <td>130.0</td>\n",
       "      <td>250.0</td>\n",
       "      <td>0</td>\n",
       "      <td>0</td>\n",
       "      <td>187.0</td>\n",
       "      <td>0</td>\n",
       "      <td>3.5</td>\n",
       "      <td>3</td>\n",
       "      <td>0</td>\n",
       "      <td>3</td>\n",
       "      <td>0</td>\n",
       "    </tr>\n",
       "    <tr>\n",
       "      <th>4</th>\n",
       "      <td>41</td>\n",
       "      <td>0</td>\n",
       "      <td>2</td>\n",
       "      <td>130.0</td>\n",
       "      <td>204.0</td>\n",
       "      <td>0</td>\n",
       "      <td>2</td>\n",
       "      <td>172.0</td>\n",
       "      <td>0</td>\n",
       "      <td>1.4</td>\n",
       "      <td>1</td>\n",
       "      <td>0</td>\n",
       "      <td>3</td>\n",
       "      <td>0</td>\n",
       "    </tr>\n",
       "  </tbody>\n",
       "</table>\n",
       "</div>"
      ],
      "text/plain": [
       "   Age Sex ChestPain  Rest_bp  Cholestrol Fast_bld_sugar Rest_Ecg  Max_Rt  \\\n",
       "0   63   1         1    145.0       233.0              1        2   150.0   \n",
       "1   67   1         4    160.0       286.0              0        2   108.0   \n",
       "2   67   1         4    120.0       229.0              0        2   129.0   \n",
       "3   37   1         3    130.0       250.0              0        0   187.0   \n",
       "4   41   0         2    130.0       204.0              0        2   172.0   \n",
       "\n",
       "  Ex_Angina  St_Depr Slope Colored_Vessels Thalassemia Target  \n",
       "0         0      2.3     3               0           6      0  \n",
       "1         1      1.5     2               3           3      1  \n",
       "2         1      2.6     2               2           7      1  \n",
       "3         0      3.5     3               0           3      0  \n",
       "4         0      1.4     1               0           3      0  "
      ]
     },
     "execution_count": 639,
     "metadata": {},
     "output_type": "execute_result"
    }
   ],
   "source": [
    "df1.head()"
   ]
  },
  {
   "cell_type": "code",
   "execution_count": 640,
   "metadata": {},
   "outputs": [],
   "source": [
    "a = pd.get_dummies(df1['Sex'], prefix = \"Sex\")\n",
    "b = pd.get_dummies(df1['ChestPain'], prefix = \"chestpain\")\n",
    "c = pd.get_dummies(df1['Fast_bld_sugar'], prefix = \"Fast_bld_sugar\")\n",
    "d = pd.get_dummies(df1['Rest_Ecg'], prefix = \"Rest_Ecg\")\n",
    "e = pd.get_dummies(df1['Ex_Angina'], prefix = \"Ex_Angina\")\n",
    "f = pd.get_dummies(df1['Slope'], prefix = \"Slope\")\n",
    "g = pd.get_dummies(df1['Colored_Vessels'], prefix = \"Colored_Vessels\")\n",
    "h = pd.get_dummies(df1['Thalassemia'], prefix = \"Thalassemia\")\n"
   ]
  },
  {
   "cell_type": "code",
   "execution_count": 641,
   "metadata": {},
   "outputs": [
    {
     "data": {
      "text/html": [
       "<div>\n",
       "<style scoped>\n",
       "    .dataframe tbody tr th:only-of-type {\n",
       "        vertical-align: middle;\n",
       "    }\n",
       "\n",
       "    .dataframe tbody tr th {\n",
       "        vertical-align: top;\n",
       "    }\n",
       "\n",
       "    .dataframe thead th {\n",
       "        text-align: right;\n",
       "    }\n",
       "</style>\n",
       "<table border=\"1\" class=\"dataframe\">\n",
       "  <thead>\n",
       "    <tr style=\"text-align: right;\">\n",
       "      <th></th>\n",
       "      <th>Age</th>\n",
       "      <th>Sex</th>\n",
       "      <th>ChestPain</th>\n",
       "      <th>Rest_bp</th>\n",
       "      <th>Cholestrol</th>\n",
       "      <th>Fast_bld_sugar</th>\n",
       "      <th>Rest_Ecg</th>\n",
       "      <th>Max_Rt</th>\n",
       "      <th>Ex_Angina</th>\n",
       "      <th>St_Depr</th>\n",
       "      <th>...</th>\n",
       "      <th>Slope_1.0</th>\n",
       "      <th>Slope_2.0</th>\n",
       "      <th>Slope_3.0</th>\n",
       "      <th>Colored_Vessels_0.0</th>\n",
       "      <th>Colored_Vessels_1.0</th>\n",
       "      <th>Colored_Vessels_2.0</th>\n",
       "      <th>Colored_Vessels_3.0</th>\n",
       "      <th>Thalassemia_3.0</th>\n",
       "      <th>Thalassemia_6.0</th>\n",
       "      <th>Thalassemia_7.0</th>\n",
       "    </tr>\n",
       "  </thead>\n",
       "  <tbody>\n",
       "    <tr>\n",
       "      <th>0</th>\n",
       "      <td>63</td>\n",
       "      <td>1</td>\n",
       "      <td>1</td>\n",
       "      <td>145.0</td>\n",
       "      <td>233.0</td>\n",
       "      <td>1</td>\n",
       "      <td>2</td>\n",
       "      <td>150.0</td>\n",
       "      <td>0</td>\n",
       "      <td>2.3</td>\n",
       "      <td>...</td>\n",
       "      <td>0</td>\n",
       "      <td>0</td>\n",
       "      <td>1</td>\n",
       "      <td>1</td>\n",
       "      <td>0</td>\n",
       "      <td>0</td>\n",
       "      <td>0</td>\n",
       "      <td>0</td>\n",
       "      <td>1</td>\n",
       "      <td>0</td>\n",
       "    </tr>\n",
       "    <tr>\n",
       "      <th>1</th>\n",
       "      <td>67</td>\n",
       "      <td>1</td>\n",
       "      <td>4</td>\n",
       "      <td>160.0</td>\n",
       "      <td>286.0</td>\n",
       "      <td>0</td>\n",
       "      <td>2</td>\n",
       "      <td>108.0</td>\n",
       "      <td>1</td>\n",
       "      <td>1.5</td>\n",
       "      <td>...</td>\n",
       "      <td>0</td>\n",
       "      <td>1</td>\n",
       "      <td>0</td>\n",
       "      <td>0</td>\n",
       "      <td>0</td>\n",
       "      <td>0</td>\n",
       "      <td>1</td>\n",
       "      <td>1</td>\n",
       "      <td>0</td>\n",
       "      <td>0</td>\n",
       "    </tr>\n",
       "    <tr>\n",
       "      <th>2</th>\n",
       "      <td>67</td>\n",
       "      <td>1</td>\n",
       "      <td>4</td>\n",
       "      <td>120.0</td>\n",
       "      <td>229.0</td>\n",
       "      <td>0</td>\n",
       "      <td>2</td>\n",
       "      <td>129.0</td>\n",
       "      <td>1</td>\n",
       "      <td>2.6</td>\n",
       "      <td>...</td>\n",
       "      <td>0</td>\n",
       "      <td>1</td>\n",
       "      <td>0</td>\n",
       "      <td>0</td>\n",
       "      <td>0</td>\n",
       "      <td>1</td>\n",
       "      <td>0</td>\n",
       "      <td>0</td>\n",
       "      <td>0</td>\n",
       "      <td>1</td>\n",
       "    </tr>\n",
       "    <tr>\n",
       "      <th>3</th>\n",
       "      <td>37</td>\n",
       "      <td>1</td>\n",
       "      <td>3</td>\n",
       "      <td>130.0</td>\n",
       "      <td>250.0</td>\n",
       "      <td>0</td>\n",
       "      <td>0</td>\n",
       "      <td>187.0</td>\n",
       "      <td>0</td>\n",
       "      <td>3.5</td>\n",
       "      <td>...</td>\n",
       "      <td>0</td>\n",
       "      <td>0</td>\n",
       "      <td>1</td>\n",
       "      <td>1</td>\n",
       "      <td>0</td>\n",
       "      <td>0</td>\n",
       "      <td>0</td>\n",
       "      <td>1</td>\n",
       "      <td>0</td>\n",
       "      <td>0</td>\n",
       "    </tr>\n",
       "    <tr>\n",
       "      <th>4</th>\n",
       "      <td>41</td>\n",
       "      <td>0</td>\n",
       "      <td>2</td>\n",
       "      <td>130.0</td>\n",
       "      <td>204.0</td>\n",
       "      <td>0</td>\n",
       "      <td>2</td>\n",
       "      <td>172.0</td>\n",
       "      <td>0</td>\n",
       "      <td>1.4</td>\n",
       "      <td>...</td>\n",
       "      <td>1</td>\n",
       "      <td>0</td>\n",
       "      <td>0</td>\n",
       "      <td>1</td>\n",
       "      <td>0</td>\n",
       "      <td>0</td>\n",
       "      <td>0</td>\n",
       "      <td>1</td>\n",
       "      <td>0</td>\n",
       "      <td>0</td>\n",
       "    </tr>\n",
       "  </tbody>\n",
       "</table>\n",
       "<p>5 rows × 37 columns</p>\n",
       "</div>"
      ],
      "text/plain": [
       "   Age Sex ChestPain  Rest_bp  Cholestrol Fast_bld_sugar Rest_Ecg  Max_Rt  \\\n",
       "0   63   1         1    145.0       233.0              1        2   150.0   \n",
       "1   67   1         4    160.0       286.0              0        2   108.0   \n",
       "2   67   1         4    120.0       229.0              0        2   129.0   \n",
       "3   37   1         3    130.0       250.0              0        0   187.0   \n",
       "4   41   0         2    130.0       204.0              0        2   172.0   \n",
       "\n",
       "  Ex_Angina  St_Depr  ... Slope_1.0 Slope_2.0 Slope_3.0 Colored_Vessels_0.0  \\\n",
       "0         0      2.3  ...         0         0         1                   1   \n",
       "1         1      1.5  ...         0         1         0                   0   \n",
       "2         1      2.6  ...         0         1         0                   0   \n",
       "3         0      3.5  ...         0         0         1                   1   \n",
       "4         0      1.4  ...         1         0         0                   1   \n",
       "\n",
       "   Colored_Vessels_1.0  Colored_Vessels_2.0  Colored_Vessels_3.0  \\\n",
       "0                    0                    0                    0   \n",
       "1                    0                    0                    1   \n",
       "2                    0                    1                    0   \n",
       "3                    0                    0                    0   \n",
       "4                    0                    0                    0   \n",
       "\n",
       "   Thalassemia_3.0  Thalassemia_6.0  Thalassemia_7.0  \n",
       "0                0                1                0  \n",
       "1                1                0                0  \n",
       "2                0                0                1  \n",
       "3                1                0                0  \n",
       "4                1                0                0  \n",
       "\n",
       "[5 rows x 37 columns]"
      ]
     },
     "execution_count": 641,
     "metadata": {},
     "output_type": "execute_result"
    }
   ],
   "source": [
    "frames = [df1, a, b, c,d,e,f,g,h]\n",
    "df1 = pd.concat(frames, axis = 1)\n",
    "df1.head()"
   ]
  },
  {
   "cell_type": "code",
   "execution_count": 642,
   "metadata": {},
   "outputs": [],
   "source": [
    "df1.drop([\"Sex\",\"ChestPain\",\"Fast_bld_sugar\",\"Rest_Ecg\",\"Ex_Angina\",\"Slope\",\"Colored_Vessels\",\"Thalassemia\"],axis=1,inplace=True)"
   ]
  },
  {
   "cell_type": "code",
   "execution_count": 643,
   "metadata": {},
   "outputs": [
    {
     "data": {
      "text/html": [
       "<div>\n",
       "<style scoped>\n",
       "    .dataframe tbody tr th:only-of-type {\n",
       "        vertical-align: middle;\n",
       "    }\n",
       "\n",
       "    .dataframe tbody tr th {\n",
       "        vertical-align: top;\n",
       "    }\n",
       "\n",
       "    .dataframe thead th {\n",
       "        text-align: right;\n",
       "    }\n",
       "</style>\n",
       "<table border=\"1\" class=\"dataframe\">\n",
       "  <thead>\n",
       "    <tr style=\"text-align: right;\">\n",
       "      <th></th>\n",
       "      <th>Age</th>\n",
       "      <th>Rest_bp</th>\n",
       "      <th>Cholestrol</th>\n",
       "      <th>Max_Rt</th>\n",
       "      <th>St_Depr</th>\n",
       "      <th>Target</th>\n",
       "      <th>Sex_0</th>\n",
       "      <th>Sex_1</th>\n",
       "      <th>chestpain_1</th>\n",
       "      <th>chestpain_2</th>\n",
       "      <th>...</th>\n",
       "      <th>Slope_1.0</th>\n",
       "      <th>Slope_2.0</th>\n",
       "      <th>Slope_3.0</th>\n",
       "      <th>Colored_Vessels_0.0</th>\n",
       "      <th>Colored_Vessels_1.0</th>\n",
       "      <th>Colored_Vessels_2.0</th>\n",
       "      <th>Colored_Vessels_3.0</th>\n",
       "      <th>Thalassemia_3.0</th>\n",
       "      <th>Thalassemia_6.0</th>\n",
       "      <th>Thalassemia_7.0</th>\n",
       "    </tr>\n",
       "  </thead>\n",
       "  <tbody>\n",
       "    <tr>\n",
       "      <th>0</th>\n",
       "      <td>63</td>\n",
       "      <td>145.0</td>\n",
       "      <td>233.0</td>\n",
       "      <td>150.0</td>\n",
       "      <td>2.3</td>\n",
       "      <td>0</td>\n",
       "      <td>0</td>\n",
       "      <td>1</td>\n",
       "      <td>1</td>\n",
       "      <td>0</td>\n",
       "      <td>...</td>\n",
       "      <td>0</td>\n",
       "      <td>0</td>\n",
       "      <td>1</td>\n",
       "      <td>1</td>\n",
       "      <td>0</td>\n",
       "      <td>0</td>\n",
       "      <td>0</td>\n",
       "      <td>0</td>\n",
       "      <td>1</td>\n",
       "      <td>0</td>\n",
       "    </tr>\n",
       "    <tr>\n",
       "      <th>1</th>\n",
       "      <td>67</td>\n",
       "      <td>160.0</td>\n",
       "      <td>286.0</td>\n",
       "      <td>108.0</td>\n",
       "      <td>1.5</td>\n",
       "      <td>1</td>\n",
       "      <td>0</td>\n",
       "      <td>1</td>\n",
       "      <td>0</td>\n",
       "      <td>0</td>\n",
       "      <td>...</td>\n",
       "      <td>0</td>\n",
       "      <td>1</td>\n",
       "      <td>0</td>\n",
       "      <td>0</td>\n",
       "      <td>0</td>\n",
       "      <td>0</td>\n",
       "      <td>1</td>\n",
       "      <td>1</td>\n",
       "      <td>0</td>\n",
       "      <td>0</td>\n",
       "    </tr>\n",
       "    <tr>\n",
       "      <th>2</th>\n",
       "      <td>67</td>\n",
       "      <td>120.0</td>\n",
       "      <td>229.0</td>\n",
       "      <td>129.0</td>\n",
       "      <td>2.6</td>\n",
       "      <td>1</td>\n",
       "      <td>0</td>\n",
       "      <td>1</td>\n",
       "      <td>0</td>\n",
       "      <td>0</td>\n",
       "      <td>...</td>\n",
       "      <td>0</td>\n",
       "      <td>1</td>\n",
       "      <td>0</td>\n",
       "      <td>0</td>\n",
       "      <td>0</td>\n",
       "      <td>1</td>\n",
       "      <td>0</td>\n",
       "      <td>0</td>\n",
       "      <td>0</td>\n",
       "      <td>1</td>\n",
       "    </tr>\n",
       "    <tr>\n",
       "      <th>3</th>\n",
       "      <td>37</td>\n",
       "      <td>130.0</td>\n",
       "      <td>250.0</td>\n",
       "      <td>187.0</td>\n",
       "      <td>3.5</td>\n",
       "      <td>0</td>\n",
       "      <td>0</td>\n",
       "      <td>1</td>\n",
       "      <td>0</td>\n",
       "      <td>0</td>\n",
       "      <td>...</td>\n",
       "      <td>0</td>\n",
       "      <td>0</td>\n",
       "      <td>1</td>\n",
       "      <td>1</td>\n",
       "      <td>0</td>\n",
       "      <td>0</td>\n",
       "      <td>0</td>\n",
       "      <td>1</td>\n",
       "      <td>0</td>\n",
       "      <td>0</td>\n",
       "    </tr>\n",
       "    <tr>\n",
       "      <th>4</th>\n",
       "      <td>41</td>\n",
       "      <td>130.0</td>\n",
       "      <td>204.0</td>\n",
       "      <td>172.0</td>\n",
       "      <td>1.4</td>\n",
       "      <td>0</td>\n",
       "      <td>1</td>\n",
       "      <td>0</td>\n",
       "      <td>0</td>\n",
       "      <td>1</td>\n",
       "      <td>...</td>\n",
       "      <td>1</td>\n",
       "      <td>0</td>\n",
       "      <td>0</td>\n",
       "      <td>1</td>\n",
       "      <td>0</td>\n",
       "      <td>0</td>\n",
       "      <td>0</td>\n",
       "      <td>1</td>\n",
       "      <td>0</td>\n",
       "      <td>0</td>\n",
       "    </tr>\n",
       "  </tbody>\n",
       "</table>\n",
       "<p>5 rows × 29 columns</p>\n",
       "</div>"
      ],
      "text/plain": [
       "   Age  Rest_bp  Cholestrol  Max_Rt  St_Depr Target  Sex_0  Sex_1  \\\n",
       "0   63    145.0       233.0   150.0      2.3      0      0      1   \n",
       "1   67    160.0       286.0   108.0      1.5      1      0      1   \n",
       "2   67    120.0       229.0   129.0      2.6      1      0      1   \n",
       "3   37    130.0       250.0   187.0      3.5      0      0      1   \n",
       "4   41    130.0       204.0   172.0      1.4      0      1      0   \n",
       "\n",
       "   chestpain_1  chestpain_2  ...  Slope_1.0  Slope_2.0  Slope_3.0  \\\n",
       "0            1            0  ...          0          0          1   \n",
       "1            0            0  ...          0          1          0   \n",
       "2            0            0  ...          0          1          0   \n",
       "3            0            0  ...          0          0          1   \n",
       "4            0            1  ...          1          0          0   \n",
       "\n",
       "   Colored_Vessels_0.0  Colored_Vessels_1.0  Colored_Vessels_2.0  \\\n",
       "0                    1                    0                    0   \n",
       "1                    0                    0                    0   \n",
       "2                    0                    0                    1   \n",
       "3                    1                    0                    0   \n",
       "4                    1                    0                    0   \n",
       "\n",
       "   Colored_Vessels_3.0  Thalassemia_3.0  Thalassemia_6.0  Thalassemia_7.0  \n",
       "0                    0                0                1                0  \n",
       "1                    1                1                0                0  \n",
       "2                    0                0                0                1  \n",
       "3                    0                1                0                0  \n",
       "4                    0                1                0                0  \n",
       "\n",
       "[5 rows x 29 columns]"
      ]
     },
     "execution_count": 643,
     "metadata": {},
     "output_type": "execute_result"
    }
   ],
   "source": [
    "df1.head()"
   ]
  },
  {
   "cell_type": "code",
   "execution_count": 644,
   "metadata": {},
   "outputs": [
    {
     "data": {
      "text/plain": [
       "Index(['Age', 'Rest_bp', 'Cholestrol', 'Max_Rt', 'St_Depr', 'Target', 'Sex_0',\n",
       "       'Sex_1', 'chestpain_1', 'chestpain_2', 'chestpain_3', 'chestpain_4',\n",
       "       'Fast_bld_sugar_0.0', 'Fast_bld_sugar_1.0', 'Rest_Ecg_0.0',\n",
       "       'Rest_Ecg_1.0', 'Rest_Ecg_2.0', 'Ex_Angina_0.0', 'Ex_Angina_1.0',\n",
       "       'Slope_1.0', 'Slope_2.0', 'Slope_3.0', 'Colored_Vessels_0.0',\n",
       "       'Colored_Vessels_1.0', 'Colored_Vessels_2.0', 'Colored_Vessels_3.0',\n",
       "       'Thalassemia_3.0', 'Thalassemia_6.0', 'Thalassemia_7.0'],\n",
       "      dtype='object')"
      ]
     },
     "execution_count": 644,
     "metadata": {},
     "output_type": "execute_result"
    }
   ],
   "source": [
    "df1.columns"
   ]
  },
  {
   "cell_type": "code",
   "execution_count": 645,
   "metadata": {},
   "outputs": [
    {
     "name": "stdout",
     "output_type": "stream",
     "text": [
      "<class 'pandas.core.frame.DataFrame'>\n",
      "RangeIndex: 929 entries, 0 to 928\n",
      "Data columns (total 29 columns):\n",
      " #   Column               Non-Null Count  Dtype  \n",
      "---  ------               --------------  -----  \n",
      " 0   Age                  929 non-null    int64  \n",
      " 1   Rest_bp              929 non-null    float64\n",
      " 2   Cholestrol           929 non-null    float64\n",
      " 3   Max_Rt               929 non-null    float64\n",
      " 4   St_Depr              929 non-null    float64\n",
      " 5   Target               929 non-null    object \n",
      " 6   Sex_0                929 non-null    uint8  \n",
      " 7   Sex_1                929 non-null    uint8  \n",
      " 8   chestpain_1          929 non-null    uint8  \n",
      " 9   chestpain_2          929 non-null    uint8  \n",
      " 10  chestpain_3          929 non-null    uint8  \n",
      " 11  chestpain_4          929 non-null    uint8  \n",
      " 12  Fast_bld_sugar_0.0   929 non-null    uint8  \n",
      " 13  Fast_bld_sugar_1.0   929 non-null    uint8  \n",
      " 14  Rest_Ecg_0.0         929 non-null    uint8  \n",
      " 15  Rest_Ecg_1.0         929 non-null    uint8  \n",
      " 16  Rest_Ecg_2.0         929 non-null    uint8  \n",
      " 17  Ex_Angina_0.0        929 non-null    uint8  \n",
      " 18  Ex_Angina_1.0        929 non-null    uint8  \n",
      " 19  Slope_1.0            929 non-null    uint8  \n",
      " 20  Slope_2.0            929 non-null    uint8  \n",
      " 21  Slope_3.0            929 non-null    uint8  \n",
      " 22  Colored_Vessels_0.0  929 non-null    uint8  \n",
      " 23  Colored_Vessels_1.0  929 non-null    uint8  \n",
      " 24  Colored_Vessels_2.0  929 non-null    uint8  \n",
      " 25  Colored_Vessels_3.0  929 non-null    uint8  \n",
      " 26  Thalassemia_3.0      929 non-null    uint8  \n",
      " 27  Thalassemia_6.0      929 non-null    uint8  \n",
      " 28  Thalassemia_7.0      929 non-null    uint8  \n",
      "dtypes: float64(4), int64(1), object(1), uint8(23)\n",
      "memory usage: 64.5+ KB\n"
     ]
    }
   ],
   "source": [
    "df1.info()"
   ]
  },
  {
   "cell_type": "code",
   "execution_count": 646,
   "metadata": {},
   "outputs": [
    {
     "data": {
      "image/png": "[encoded data removed]",
      "text/plain": [
       "<Figure size 1440x1080 with 2 Axes>"
      ]
     },
     "metadata": {
      "needs_background": "light"
     },
     "output_type": "display_data"
    }
   ],
   "source": [
    "plt.figure(figsize=(20,15))\n",
    "sns.heatmap(df1.corr(),linewidths=0.1,vmax=1.0, \n",
    "            square=True,  linecolor='white', annot=True)\n",
    "plt.show()"
   ]
  },
  {
   "cell_type": "code",
   "execution_count": 647,
   "metadata": {},
   "outputs": [],
   "source": [
    "df1.Target=df1.Target.astype(\"object\")"
   ]
  },
  {
   "cell_type": "code",
   "execution_count": 648,
   "metadata": {},
   "outputs": [
    {
     "name": "stdout",
     "output_type": "stream",
     "text": [
      "<class 'pandas.core.frame.DataFrame'>\n",
      "RangeIndex: 929 entries, 0 to 928\n",
      "Data columns (total 29 columns):\n",
      " #   Column               Non-Null Count  Dtype  \n",
      "---  ------               --------------  -----  \n",
      " 0   Age                  929 non-null    int64  \n",
      " 1   Rest_bp              929 non-null    float64\n",
      " 2   Cholestrol           929 non-null    float64\n",
      " 3   Max_Rt               929 non-null    float64\n",
      " 4   St_Depr              929 non-null    float64\n",
      " 5   Target               929 non-null    object \n",
      " 6   Sex_0                929 non-null    uint8  \n",
      " 7   Sex_1                929 non-null    uint8  \n",
      " 8   chestpain_1          929 non-null    uint8  \n",
      " 9   chestpain_2          929 non-null    uint8  \n",
      " 10  chestpain_3          929 non-null    uint8  \n",
      " 11  chestpain_4          929 non-null    uint8  \n",
      " 12  Fast_bld_sugar_0.0   929 non-null    uint8  \n",
      " 13  Fast_bld_sugar_1.0   929 non-null    uint8  \n",
      " 14  Rest_Ecg_0.0         929 non-null    uint8  \n",
      " 15  Rest_Ecg_1.0         929 non-null    uint8  \n",
      " 16  Rest_Ecg_2.0         929 non-null    uint8  \n",
      " 17  Ex_Angina_0.0        929 non-null    uint8  \n",
      " 18  Ex_Angina_1.0        929 non-null    uint8  \n",
      " 19  Slope_1.0            929 non-null    uint8  \n",
      " 20  Slope_2.0            929 non-null    uint8  \n",
      " 21  Slope_3.0            929 non-null    uint8  \n",
      " 22  Colored_Vessels_0.0  929 non-null    uint8  \n",
      " 23  Colored_Vessels_1.0  929 non-null    uint8  \n",
      " 24  Colored_Vessels_2.0  929 non-null    uint8  \n",
      " 25  Colored_Vessels_3.0  929 non-null    uint8  \n",
      " 26  Thalassemia_3.0      929 non-null    uint8  \n",
      " 27  Thalassemia_6.0      929 non-null    uint8  \n",
      " 28  Thalassemia_7.0      929 non-null    uint8  \n",
      "dtypes: float64(4), int64(1), object(1), uint8(23)\n",
      "memory usage: 64.5+ KB\n"
     ]
    }
   ],
   "source": [
    "df1.info()"
   ]
  },
  {
   "cell_type": "code",
   "execution_count": null,
   "metadata": {},
   "outputs": [],
   "source": []
  },
  {
   "cell_type": "code",
   "execution_count": 680,
   "metadata": {},
   "outputs": [],
   "source": [
    "X = df1.drop('Target', 1).values\n",
    "\n",
    "y = df1[\"Target\"].values\n",
    "y=y.astype('int')"
   ]
  },
  {
   "cell_type": "code",
   "execution_count": null,
   "metadata": {},
   "outputs": [],
   "source": []
  },
  {
   "cell_type": "code",
   "execution_count": 681,
   "metadata": {},
   "outputs": [
    {
     "name": "stdout",
     "output_type": "stream",
     "text": [
      "(743, 28)\n"
     ]
    }
   ],
   "source": [
    "X_train,X_test,Y_train,Y_test=train_test_split(X,y,test_size=0.2,random_state=42)\n",
    "print(X_train1.shape)"
   ]
  },
  {
   "cell_type": "code",
   "execution_count": 682,
   "metadata": {},
   "outputs": [
    {
     "name": "stdout",
     "output_type": "stream",
     "text": [
      "<class 'pandas.core.frame.DataFrame'>\n",
      "RangeIndex: 929 entries, 0 to 928\n",
      "Data columns (total 29 columns):\n",
      " #   Column               Non-Null Count  Dtype  \n",
      "---  ------               --------------  -----  \n",
      " 0   Age                  929 non-null    int64  \n",
      " 1   Rest_bp              929 non-null    float64\n",
      " 2   Cholestrol           929 non-null    float64\n",
      " 3   Max_Rt               929 non-null    float64\n",
      " 4   St_Depr              929 non-null    float64\n",
      " 5   Target               929 non-null    object \n",
      " 6   Sex_0                929 non-null    uint8  \n",
      " 7   Sex_1                929 non-null    uint8  \n",
      " 8   chestpain_1          929 non-null    uint8  \n",
      " 9   chestpain_2          929 non-null    uint8  \n",
      " 10  chestpain_3          929 non-null    uint8  \n",
      " 11  chestpain_4          929 non-null    uint8  \n",
      " 12  Fast_bld_sugar_0.0   929 non-null    uint8  \n",
      " 13  Fast_bld_sugar_1.0   929 non-null    uint8  \n",
      " 14  Rest_Ecg_0.0         929 non-null    uint8  \n",
      " 15  Rest_Ecg_1.0         929 non-null    uint8  \n",
      " 16  Rest_Ecg_2.0         929 non-null    uint8  \n",
      " 17  Ex_Angina_0.0        929 non-null    uint8  \n",
      " 18  Ex_Angina_1.0        929 non-null    uint8  \n",
      " 19  Slope_1.0            929 non-null    uint8  \n",
      " 20  Slope_2.0            929 non-null    uint8  \n",
      " 21  Slope_3.0            929 non-null    uint8  \n",
      " 22  Colored_Vessels_0.0  929 non-null    uint8  \n",
      " 23  Colored_Vessels_1.0  929 non-null    uint8  \n",
      " 24  Colored_Vessels_2.0  929 non-null    uint8  \n",
      " 25  Colored_Vessels_3.0  929 non-null    uint8  \n",
      " 26  Thalassemia_3.0      929 non-null    uint8  \n",
      " 27  Thalassemia_6.0      929 non-null    uint8  \n",
      " 28  Thalassemia_7.0      929 non-null    uint8  \n",
      "dtypes: float64(4), int64(1), object(1), uint8(23)\n",
      "memory usage: 64.5+ KB\n"
     ]
    }
   ],
   "source": [
    "df1.info()"
   ]
  },
  {
   "cell_type": "code",
   "execution_count": 683,
   "metadata": {},
   "outputs": [],
   "source": [
    "models = []\n",
    "models.append(('LR', LogisticRegression()))\n",
    "models.append(('LDA', LinearDiscriminantAnalysis()))\n",
    "models.append(('KNN', KNeighborsClassifier()))\n",
    "models.append(('CART', DecisionTreeClassifier()))\n",
    "models.append(('NB', GaussianNB()))\n",
    "models.append(('RF', RandomForestClassifier()))\n",
    "models.append(('SVM', SVC(gamma='auto')))\n",
    "models.append(('XGB', XGBClassifier()))"
   ]
  },
  {
   "cell_type": "code",
   "execution_count": 688,
   "metadata": {},
   "outputs": [
    {
     "name": "stdout",
     "output_type": "stream",
     "text": [
      "LR: 0.850983 (0.045287)\n",
      "LDA: 0.854580 (0.055598)\n",
      "KNN: 0.781951 (0.064610)\n",
      "CART: 0.869101 (0.059022)\n",
      "NB: 0.805313 (0.058857)\n",
      "RF: 0.921171 (0.031210)\n",
      "SVM: 0.983704 (0.014835)\n",
      "XGB: 0.926067 (0.031493)\n"
     ]
    },
    {
     "data": {
      "image/png": "[encoded data removed]",
      "text/plain": [
       "<Figure size 792x432 with 1 Axes>"
      ]
     },
     "metadata": {
      "needs_background": "light"
     },
     "output_type": "display_data"
    }
   ],
   "source": [
    "# evaluate each model in turn\n",
    "results = []\n",
    "names = []\n",
    "scoring = 'recall'\n",
    "\n",
    "for name, model in models:\n",
    "        kfold = KFold(n_splits=10, random_state=seed)\n",
    "        cv_results = cross_val_score(model, X_train, Y_train, cv=kfold, scoring=scoring)\n",
    "        results.append(cv_results)\n",
    "        names.append(name)\n",
    "        msg = \"%s: %f (%f)\" % (name, cv_results.mean(), cv_results.std())\n",
    "        print(msg)\n",
    "        \n",
    "# boxplot algorithm comparison\n",
    "fig = plt.figure(figsize=(11,6))\n",
    "fig.suptitle('Algorithm Comparison')\n",
    "ax = fig.add_subplot(111)\n",
    "plt.boxplot(results)\n",
    "ax.set_xticklabels(names)\n",
    "plt.show()\n"
   ]
  },
  {
   "cell_type": "code",
   "execution_count": null,
   "metadata": {},
   "outputs": [],
   "source": []
  },
  {
   "cell_type": "code",
   "execution_count": null,
   "metadata": {},
   "outputs": [],
   "source": []
  },
  {
   "cell_type": "code",
   "execution_count": null,
   "metadata": {},
   "outputs": [],
   "source": []
  },
  {
   "cell_type": "code",
   "execution_count": null,
   "metadata": {},
   "outputs": [],
   "source": []
  },
  {
   "cell_type": "code",
   "execution_count": null,
   "metadata": {},
   "outputs": [],
   "source": []
  },
  {
   "cell_type": "code",
   "execution_count": null,
   "metadata": {},
   "outputs": [],
   "source": []
  },
  {
   "cell_type": "code",
   "execution_count": null,
   "metadata": {},
   "outputs": [],
   "source": []
  },
  {
   "cell_type": "code",
   "execution_count": null,
   "metadata": {},
   "outputs": [],
   "source": []
  },
  {
   "cell_type": "code",
   "execution_count": null,
   "metadata": {},
   "outputs": [],
   "source": []
  },
  {
   "cell_type": "code",
   "execution_count": null,
   "metadata": {},
   "outputs": [],
   "source": []
  },
  {
   "cell_type": "code",
   "execution_count": null,
   "metadata": {},
   "outputs": [],
   "source": []
  },
  {
   "cell_type": "code",
   "execution_count": null,
   "metadata": {},
   "outputs": [],
   "source": []
  },
  {
   "cell_type": "code",
   "execution_count": null,
   "metadata": {},
   "outputs": [],
   "source": []
  }
 ],
 "metadata": {
  "kernelspec": {
   "display_name": "Python 3",
   "language": "python",
   "name": "python3"
  },
  "language_info": {
   "codemirror_mode": {
    "name": "ipython",
    "version": 3
   },
   "file_extension": ".py",
   "mimetype": "text/x-python",
   "name": "python",
   "nbconvert_exporter": "python",
   "pygments_lexer": "ipython3",
   "version": "3.7.6"
  }
 },
 "nbformat": 4,
 "nbformat_minor": 4
}
